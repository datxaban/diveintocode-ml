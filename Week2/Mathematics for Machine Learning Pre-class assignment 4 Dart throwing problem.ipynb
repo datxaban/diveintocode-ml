{
 "cells": [
  {
   "cell_type": "markdown",
   "id": "quality-temple",
   "metadata": {},
   "source": [
    "## Import"
   ]
  },
  {
   "cell_type": "code",
   "execution_count": 52,
   "id": "separated-brain",
   "metadata": {},
   "outputs": [],
   "source": [
    "import numpy as np"
   ]
  },
  {
   "cell_type": "markdown",
   "id": "worse-memorial",
   "metadata": {},
   "source": [
    "# About this text\n",
    "This assignment is any assignment is. Submission is not mandatory.\n",
    "\n",
    "### Purpose of the text\n",
    "\n",
    "<li> To touch the implementation that uses probability distribution consciously\n",
    "<li> To touch the Python dictionary </li>\n",
    "    \n",
    "### How to learn\n",
    "Here, select one of the six darts and create a simulation to throw the darts. Even if it is called a simulation, it is not a video, but creates something like the following.\n",
    "\n",
    "![alt text](dart.png \"Title\")\n",
    "\n",
    "What you need to pay attention to is how to express **the act of choosing a dart's mat and the place where a dart's arrow is stuck** by programming.\n",
    "\n",
    "\n",
    "You will also learn about probability distributions and dictionaries by implementing dart throwing."
   ]
  },
  {
   "cell_type": "markdown",
   "id": "hidden-familiar",
   "metadata": {},
   "source": [
    "# What is a probability distribution"
   ]
  },
  {
   "cell_type": "markdown",
   "id": "educated-skill",
   "metadata": {},
   "source": [
    "## Problem 1: Choosing a dart mat\n",
    "Let's implement the dice to choose the darts deck.\n",
    "\n",
    "**Hint:**\n",
    "We use np.random.choice() to express the action of \"rolling the dice\". By doing this, you can randomly select one element from the array.\n"
   ]
  },
  {
   "cell_type": "code",
   "execution_count": 351,
   "id": "bottom-buying",
   "metadata": {},
   "outputs": [
    {
     "data": {
      "text/plain": [
       "2"
      ]
     },
     "execution_count": 351,
     "metadata": {},
     "output_type": "execute_result"
    }
   ],
   "source": [
    "class dice():\n",
    "    def __init__(self, value):\n",
    "        \"\"\"Number of darts\"\"\"\n",
    "        self.value = [*range(value)]\n",
    "    def roll(self):\n",
    "        return np.random.choice(self.value)\n",
    "myDice = dice(5)\n",
    "myDice.roll()"
   ]
  },
  {
   "cell_type": "markdown",
   "id": "labeled-gather",
   "metadata": {},
   "source": [
    "## Problem 2: Throw darts and record the place\n",
    "\n",
    "Let's express the place where the darts are stuck (x coordinate, y coordinate) by generating values from a normal distribution. **Set the “center” of the normal distribution in the x direction to the number of the dice given in question 1, and the “standard deviation” to 0.1.** Make sure to hold the location (coordinates) that you have stuck in an array.\n",
    "\n",
    "The place (coordinates) where the darts are stuck should be expressed as the intersection of the x and y coordinates when the two-dimensional normal distribution is viewed from directly above. Each value of x-coordinate and y-coordinate shall follow independent one-dimensional normal distribution, generate variables from np.random.normal() separately for x-coordinate and y-coordinate, and coordinate them. Please hold in an array as points.\n",
    "\n",
    "The two-dimensional normal distribution can also be expressed using np.random.multivariate_normal(). In that case, for example, [0,0] ( mean=[0,0] ), and the covariance matrix as [ [[0.01,0],[0,0.01]] ( cov=[[0.01,0],[0,0.01]] ) and np.random.multivariate_normal(mean, cov) , we can create a set of variables for x and y coordinates."
   ]
  },
  {
   "cell_type": "code",
   "execution_count": 77,
   "id": "contained-cathedral",
   "metadata": {},
   "outputs": [],
   "source": [
    "mean = [0, 0]\n",
    "cov=[[0.01,0],[0,0.01]] "
   ]
  },
  {
   "cell_type": "markdown",
   "id": "explicit-addiction",
   "metadata": {},
   "source": [
    "## Problem 3: Throw a lot of darts and record them in a state of being tied to the number\n",
    "\n",
    "Throw the darts 1000 times and store all the darts stick positions in the dictionary. The dictionary key will be the number of the darts.\n",
    "\n",
    "**Hint:**\n",
    "\"Throwing 1000 darts\" means Roll the dice in question 1000 1000 times . In addition to problem 1 and problem 2, the operation to store the coordinates in the dictionary will be implemented in the for statement"
   ]
  },
  {
   "cell_type": "code",
   "execution_count": 116,
   "id": "painful-taylor",
   "metadata": {},
   "outputs": [],
   "source": [
    "# x = np.random.multivariate_normal(mean, cov, (1000, 1000))\n",
    "result = {0:[],1:[],2:[],3:[],4:[],5:[]}\n",
    "for _ in range(1000):\n",
    "    dice = myDice.roll()\n",
    "    dart = np.random.multivariate_normal(mean, cov)\n",
    "    result[dice] = result[dice]+ [[dart[0],dart[1]]]"
   ]
  },
  {
   "cell_type": "markdown",
   "id": "functional-trail",
   "metadata": {},
   "source": [
    "## Problem 4: Drawing the position of the darts\n",
    "Let's extract the value for each key from the dictionary created in problem 3 and draw the place where it is stuck for each key. Use the matplotlib patches class to represent the darts.\n",
    "\n"
   ]
  },
  {
   "cell_type": "code",
   "execution_count": 127,
   "id": "julian-discussion",
   "metadata": {},
   "outputs": [
    {
     "data": {
      "text/plain": [
       "['#1f77b4',\n",
       " '#ff7f0e',\n",
       " '#2ca02c',\n",
       " '#d62728',\n",
       " '#9467bd',\n",
       " '#8c564b',\n",
       " '#e377c2',\n",
       " '#7f7f7f',\n",
       " '#bcbd22',\n",
       " '#17becf']"
      ]
     },
     "execution_count": 127,
     "metadata": {},
     "output_type": "execute_result"
    }
   ],
   "source": [
    "colors"
   ]
  },
  {
   "cell_type": "code",
   "execution_count": 134,
   "id": "victorian-pierre",
   "metadata": {},
   "outputs": [
    {
     "data": {
      "image/png": "[encoded data removed]",
      "text/plain": [
       "<Figure size 432x288 with 1 Axes>"
      ]
     },
     "metadata": {
      "needs_background": "light"
     },
     "output_type": "display_data"
    }
   ],
   "source": [
    "import matplotlib.patches as patches\n",
    "import matplotlib.pyplot as plt\n",
    "import random\n",
    "%matplotlib inline\n",
    "\n",
    "fig, ax = plt.subplots()\n",
    "colors = plt.rcParams['axes.prop_cycle'].by_key()['color']\n",
    "for key, val in result.items():\n",
    "    circleK = patches.Circle(xy=(key, 0), radius=0.5, ec='b', fill=False)\n",
    "    ax.add_patch(circleK)\n",
    "    \n",
    "    color = random.choice(colors)\n",
    "    for value in val:\n",
    "        plt.scatter(value[0]+key, value[1])\n",
    "ax.set_aspect('equal')"
   ]
  },
  {
   "cell_type": "markdown",
   "id": "floral-nightmare",
   "metadata": {},
   "source": [
    "## Problem 5:Functionalization\n",
    "Let's functionalize the code created in Problem 1 to Problem 4 so that you can draw even if the number of darts thrown or the number of darts is changed.\n",
    "\n",
    "**Hint**\n",
    "Let's use the number of darts thrown and the number of darts as a function argument."
   ]
  },
  {
   "cell_type": "code",
   "execution_count": 357,
   "id": "imported-arrival",
   "metadata": {},
   "outputs": [
    {
     "data": {
      "image/png": "[encoded data removed]",
      "text/plain": [
       "<Figure size 432x288 with 1 Axes>"
      ]
     },
     "metadata": {
      "needs_background": "light"
     },
     "output_type": "display_data"
    }
   ],
   "source": [
    "def dart_simulation(darts,throw):\n",
    "    \n",
    "    class dice():\n",
    "        def __init__(self, value):\n",
    "            \"\"\"Number of darts\"\"\"\n",
    "            self.value = [*range(value)]\n",
    "        def roll(self):\n",
    "            return np.random.choice(self.value)\n",
    "    \n",
    "    my_darts = dice(darts)\n",
    "    result = {}\n",
    "    \n",
    "    #Initialize the dictionary\n",
    "    for x in range(darts):\n",
    "        result[x] = []\n",
    "    \n",
    "    #Mean and covarience\n",
    "    mean = [0, 0]\n",
    "    cov=[[0.01,0],[0,0.01]] \n",
    "    \n",
    "    #Generate numbers\n",
    "    for _ in range(throw):\n",
    "        dices = my_darts.roll()\n",
    "        dart = np.random.multivariate_normal(mean, cov)\n",
    "        result[dices] = result[dices]+ [[dart[0],dart[1]]]\n",
    "    \n",
    "    #Draw    \n",
    "    fig, ax = plt.subplots()\n",
    "    colors = plt.rcParams['axes.prop_cycle'].by_key()['color']\n",
    "    for key, val in result.items():\n",
    "        circleK = patches.Circle(xy=(key, 0), radius=0.5, ec='b', fill=False)\n",
    "        ax.add_patch(circleK)\n",
    "\n",
    "        color = random.choice(colors)\n",
    "        for value in val:\n",
    "            plt.scatter(value[0]+key, value[1])\n",
    "    ax.set_aspect('equal')\n",
    "\n",
    "dart_simulation(6,100)\n"
   ]
  },
  {
   "cell_type": "markdown",
   "id": "arbitrary-alexander",
   "metadata": {},
   "source": [
    "## Development: Mathematical story of darts simulation\n",
    "There were some parts of the implementation that used probability distributions. Specifically:\n",
    "\n",
    "\n",
    "<li> Representing which to choose by rolling dice with uniform distribution </li>\n",
    "\n",
    "<li> Expressed by assuming that the place where the darts stick is a normal distribution </li>\n",
    "\n",
    "In other words, these two events **occur stochastically** . Assuming that, we simulated. In this way, we can construct a model under the hypothesis that an output is generated stochastically for a certain input. It is called **Stochastic generative model .**\n",
    "\n",
    "\n",
    "The model here is not a machine learning model, but general mathematical simulations in general.\n",
    "\n",
    "\n",
    "A dice whose distribution of outcomes follows a uniform distribution can be represented as follows.\n",
    "\n",
    " p \n",
    " ( \n",
    " d \n",
    " = \n",
    " 1 \n",
    " ) \n",
    " = \n",
    " 1 \n",
    " 6 \n",
    " , \n",
    " ⋯ \n",
    " , \n",
    " p \n",
    " ( \n",
    " d \n",
    " = \n",
    " 6 \n",
    " ) \n",
    " = \n",
    " 1 \n",
    " 6 \n",
    " \n",
    "The place where the dart sticks can be expressed as follows, assuming that the x and y coordinates follow a normal distribution.\n",
    "\n",
    "\n",
    " p \n",
    " ( \n",
    " x \n",
    " | \n",
    " d \n",
    " ) \n",
    " = \n",
    " p \n",
    " ( \n",
    " x \n",
    " | \n",
    " μ \n",
    " ( \n",
    " d \n",
    " ) \n",
    " ) \n",
    " = \n",
    " N \n",
    " ( \n",
    " x \n",
    " | \n",
    " μ \n",
    " ( \n",
    " d \n",
    " ) \n",
    " , \n",
    " σ \n",
    " 2 \n",
    " ) \n",
    "\n",
    "Then, rolling the dice → two consecutive events of sampling the x-coordinate and y-coordinate data from the normal distribution can be expressed by the product of the above two probability distributions, so the place where the dart sticks is the probability density It can be expressed as a distribution.\n",
    "\n",
    "\n",
    " p \n",
    " ( \n",
    " x \n",
    " ) \n",
    " = \n",
    " ∑ \n",
    " 6 \n",
    " d \n",
    " = \n",
    " 1 \n",
    " p \n",
    " ( \n",
    " d \n",
    " ) \n",
    " p \n",
    " ( \n",
    " x \n",
    " | \n",
    " d \n",
    " ) \n",
    " = \n",
    " ∑ \n",
    " 6 \n",
    " d \n",
    " = \n",
    " 1 \n",
    " 1 \n",
    " 6 \n",
    " N \n",
    " ( \n",
    " x \n",
    " | \n",
    " μ \n",
    " ( \n",
    " d \n",
    " ) \n",
    " , \n",
    " σ \n",
    " 2 \n",
    " ) \n",
    "\n",
    "The probability distribution obtained by the weighted average of several normal distributions like this is called the **Mixed normal distribution.**\n",
    "\n",
    "\n",
    "In this section, we worked on programming using probability distributions in order to get an entrance to probabilistic generative models. Generative models such as GAN and VAE are also used for things that are often covered in the media, such as animation character generation. There is no need to study them now, but it is good to remember that they are models that are constructed based on the hypothesis that events occur stochastically and that outputs are generated stochastically for certain inputs. Translated with www.DeepL.com/Translator (free version) **A model constructed under the hypothesis that an output is generated stochastically for an input, assuming that events occur stochastically**. It's good to remember that."
   ]
  }
 ],
 "metadata": {
  "kernelspec": {
   "display_name": "Python 3",
   "language": "python",
   "name": "python3"
  },
  "language_info": {
   "codemirror_mode": {
    "name": "ipython",
    "version": 3
   },
   "file_extension": ".py",
   "mimetype": "text/x-python",
   "name": "python",
   "nbconvert_exporter": "python",
   "pygments_lexer": "ipython3",
   "version": "3.7.10"
  }
 },
 "nbformat": 4,
 "nbformat_minor": 5
}
