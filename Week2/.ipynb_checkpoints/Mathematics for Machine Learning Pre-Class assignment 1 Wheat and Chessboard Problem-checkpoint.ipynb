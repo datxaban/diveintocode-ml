{
 "cells": [
  {
   "cell_type": "markdown",
   "id": "complicated-sharp",
   "metadata": {},
   "source": [
    "## Import libraries"
   ]
  },
  {
   "cell_type": "code",
   "execution_count": 7,
   "id": "auburn-australian",
   "metadata": {},
   "outputs": [],
   "source": [
    "import numpy as np\n",
    "import matplotlib.pyplot as plt\n",
    "import math"
   ]
  },
  {
   "cell_type": "markdown",
   "id": "actual-gather",
   "metadata": {},
   "source": [
    "#  Wheat and chess board problem\n",
    "Similar to the rice story of Soroshi Shinzaemon, there is the story of wheat and chess board. With this as a theme, we will familiarize ourselves with the use of **NumPy** , a numerical library for handling multi-dimensional arrays.\n",
    "\n",
    "<blockquote> If a chessboard were to have wheat placed upon each square such that one grain were placed on the first square, two on the second, four on the third, and so on (doubling the number of grains on each subsequent square), how many grains. of wheat would be on the chessboard at the finish? </blockquote>\n",
    "\n",
    "[Wheat and chessboard problem-Wikipedia](https://en.wikipedia.org/wiki/Wheat_and_chessboard_problem)"
   ]
  },
  {
   "cell_type": "markdown",
   "id": "apart-terrain",
   "metadata": {},
   "source": [
    "## Problem 1: Number of wheat on a 2 x 2 square chess board\n",
    "Represent a 2 x 2 square chessboard by ndarray and calculate the number of wheat in each square. After placing one wheat on the upper left square, proceed to two to the right, four to the lower left, and eight to the lower right."
   ]
  },
  {
   "cell_type": "code",
   "execution_count": 8,
   "id": "dental-preference",
   "metadata": {},
   "outputs": [
    {
     "name": "stdout",
     "output_type": "stream",
     "text": [
      "Arrange wheat on a plate of 4 squares (ndarray)：[[1 2]\n",
      " [4 8]]\n"
     ]
    }
   ],
   "source": [
    "def simple_chess_board():\n",
    "    n_squares = 4\n",
    "    square_chess_board = np.array([1])\n",
    "    for _ in range(n_squares - 1):\n",
    "        square_chess_board = np.append(square_chess_board,2*square_chess_board[-1])\n",
    "    return square_chess_board.reshape(2,2)\n",
    "chest_board_2x2 = simple_chess_board()\n",
    "print(\"Arrange wheat on a plate of 4 squares (ndarray)：{}\".format(chest_board_2x2))"
   ]
  },
  {
   "cell_type": "markdown",
   "id": "usual-windsor",
   "metadata": {},
   "source": [
    "## Problem 2: Expansion to n × m mass\n",
    "Create a function that returns a ndarray containing the number of wheat on an nxm chess board. Then use this function to find the number of wheat on the 8x8 square chess board."
   ]
  },
  {
   "cell_type": "code",
   "execution_count": 14,
   "id": "compatible-reaction",
   "metadata": {},
   "outputs": [
    {
     "data": {
      "text/plain": [
       "array([[1.00000000e+00, 2.00000000e+00, 4.00000000e+00, 8.00000000e+00,\n",
       "        1.60000000e+01, 3.20000000e+01, 6.40000000e+01, 1.28000000e+02],\n",
       "       [2.56000000e+02, 5.12000000e+02, 1.02400000e+03, 2.04800000e+03,\n",
       "        4.09600000e+03, 8.19200000e+03, 1.63840000e+04, 3.27680000e+04],\n",
       "       [6.55360000e+04, 1.31072000e+05, 2.62144000e+05, 5.24288000e+05,\n",
       "        1.04857600e+06, 2.09715200e+06, 4.19430400e+06, 8.38860800e+06],\n",
       "       [1.67772160e+07, 3.35544320e+07, 6.71088640e+07, 1.34217728e+08,\n",
       "        2.68435456e+08, 5.36870912e+08, 1.07374182e+09, 2.14748365e+09],\n",
       "       [4.29496730e+09, 8.58993459e+09, 1.71798692e+10, 3.43597384e+10,\n",
       "        6.87194767e+10, 1.37438953e+11, 2.74877907e+11, 5.49755814e+11],\n",
       "       [1.09951163e+12, 2.19902326e+12, 4.39804651e+12, 8.79609302e+12,\n",
       "        1.75921860e+13, 3.51843721e+13, 7.03687442e+13, 1.40737488e+14],\n",
       "       [2.81474977e+14, 5.62949953e+14, 1.12589991e+15, 2.25179981e+15,\n",
       "        4.50359963e+15, 9.00719925e+15, 1.80143985e+16, 3.60287970e+16],\n",
       "       [7.20575940e+16, 1.44115188e+17, 2.88230376e+17, 5.76460752e+17,\n",
       "        1.15292150e+18, 2.30584301e+18, 4.61168602e+18, 9.22337204e+18]])"
      ]
     },
     "execution_count": 14,
     "metadata": {},
     "output_type": "execute_result"
    }
   ],
   "source": [
    "def custom_chess_board(rows,cols):\n",
    "    n_squares = rows*cols\n",
    "    custom_board_list = [1]\n",
    "    for _ in range(n_squares - 1):\n",
    "        custom_board_list.append(2*custom_board_list[-1])\n",
    "    return np.array(custom_board_list).reshape(rows,cols)\n",
    "n = 8\n",
    "m = 8\n",
    "chess_board_8x8 = custom_chess_board(n,m)\n",
    "chess_board_8x8\n"
   ]
  },
  {
   "cell_type": "code",
   "execution_count": 10,
   "id": "surgical-brown",
   "metadata": {
    "scrolled": true
   },
   "outputs": [
    {
     "name": "stdout",
     "output_type": "stream",
     "text": [
      "Total number of wheat on 8x8 chessboard 1.8446744073709552e+19\n"
     ]
    }
   ],
   "source": [
    "print(\"Total number of wheat on 8x8 chessboard {}\".format(np.sum(chess_board_8x8)))"
   ]
  },
  {
   "cell_type": "markdown",
   "id": "formal-extension",
   "metadata": {},
   "source": [
    "## Problem 3: Total number of wheat\n",
    "Find the total number of wheat on a chess board of 8 x 8 squares. Also, find the average of each column and visualize it in a bar chart."
   ]
  },
  {
   "cell_type": "code",
   "execution_count": 12,
   "id": "beautiful-forge",
   "metadata": {
    "scrolled": true
   },
   "outputs": [
    {
     "name": "stdout",
     "output_type": "stream",
     "text": [
      "Total number of wheat on 8x8 chessboard 1.8446744073709552e+19\n"
     ]
    }
   ],
   "source": [
    "print(\"Total number of wheat on 8x8 chessboard {}\".format(np.sum(chess_board_8x8)))"
   ]
  },
  {
   "cell_type": "code",
   "execution_count": 34,
   "id": "elect-indonesia",
   "metadata": {},
   "outputs": [
    {
     "data": {
      "image/png": "[encoded data removed]",
      "text/plain": [
       "<Figure size 432x288 with 1 Axes>"
      ]
     },
     "metadata": {
      "needs_background": "light"
     },
     "output_type": "display_data"
    }
   ],
   "source": [
    "average_col = chess_board_8x8.sum(axis=0)/8\n",
    "%matplotlib inline\n",
    "plt.xlabel(\"Column\")\n",
    "plt.ylabel(\"Number\")\n",
    "plt.title(\"Average number in each column\")\n",
    "plt.bar(np.arange(1,9),average_col)\n",
    "plt.show()"
   ]
  },
  {
   "cell_type": "markdown",
   "id": "nearby-flower",
   "metadata": {},
   "source": [
    "## Problem 4: Heat map of the number of wheat\n",
    "Visualize the number of wheat on the 8x8 chess board as a heat map using YlGn cmap"
   ]
  },
  {
   "cell_type": "code",
   "execution_count": 69,
   "id": "reasonable-booth",
   "metadata": {
    "scrolled": true
   },
   "outputs": [
    {
     "data": {
      "image/png": "[encoded data removed]",
      "text/plain": [
       "<Figure size 432x288 with 1 Axes>"
      ]
     },
     "metadata": {
      "needs_background": "light"
     },
     "output_type": "display_data"
    }
   ],
   "source": [
    "plt.xlabel(\"Column\")\n",
    "plt.ylabel(\"Row\")\n",
    "\n",
    "plt.title(\"Heatmap\")\n",
    "_ = plt.pcolor(chess_board_8x8,cmap=\"YlGn\")"
   ]
  },
  {
   "cell_type": "markdown",
   "id": "medieval-montgomery",
   "metadata": {},
   "source": [
    "## Problem 5: How many times is the second half as long as the first half?\n",
    "Find how many times the number of wheat in the second half of the chessboard is greater than the number of wheat in the first half. The first half is lines 0 to 3 of the array, and the second half is lines 4 to 7."
   ]
  },
  {
   "cell_type": "code",
   "execution_count": 86,
   "id": "electrical-resolution",
   "metadata": {},
   "outputs": [
    {
     "name": "stdout",
     "output_type": "stream",
     "text": [
      "Number of wheat in the first half：16777215.0\n",
      "Number of wheat in the second half：7.205758974296064e+16\n",
      "The second half is 4294967296.0 times the first half\n"
     ]
    }
   ],
   "source": [
    "print(\"Number of wheat in the first half：{}\".format(np.sum(chess_board_8x8[0:3,:])))\n",
    "print(\"Number of wheat in the second half：{}\".format(np.sum(chess_board_8x8[4:7,:])))\n",
    "print(\"The second half is {} times the first half\".format(np.sum(chess_board_8x8[4:7,:])/np.sum(chess_board_8x8[0:3,:])))"
   ]
  },
  {
   "cell_type": "markdown",
   "id": "innocent-supplier",
   "metadata": {},
   "source": [
    "## Problem 6: Expansion to n × m mass by another calculation method\n",
    "Create a new function similar to Problem 2 that returns an ndarray containing the number of wheat squares on an n×m chessboard, one usingnp.append ()and one using broadcast.\n",
    "\n",
    "\n",
    "Use those functions again to find the number of wheat on an 8x8 square chess board."
   ]
  },
  {
   "cell_type": "code",
   "execution_count": 70,
   "id": "neutral-smooth",
   "metadata": {
    "scrolled": true
   },
   "outputs": [
    {
     "data": {
      "text/plain": [
       "array([[                  1,                   2,                   4,\n",
       "                          8,                  16,                  32,\n",
       "                         64,                 128],\n",
       "       [                256,                 512,                1024,\n",
       "                       2048,                4096,                8192,\n",
       "                      16384,               32768],\n",
       "       [              65536,              131072,              262144,\n",
       "                     524288,             1048576,             2097152,\n",
       "                    4194304,             8388608],\n",
       "       [           16777216,            33554432,            67108864,\n",
       "                  134217728,           268435456,           536870912,\n",
       "                 1073741824,          2147483648],\n",
       "       [         4294967296,          8589934592,         17179869184,\n",
       "                34359738368,         68719476736,        137438953472,\n",
       "               274877906944,        549755813888],\n",
       "       [      1099511627776,       2199023255552,       4398046511104,\n",
       "              8796093022208,      17592186044416,      35184372088832,\n",
       "             70368744177664,     140737488355328],\n",
       "       [    281474976710656,     562949953421312,    1125899906842624,\n",
       "           2251799813685248,    4503599627370496,    9007199254740992,\n",
       "          18014398509481984,   36028797018963968],\n",
       "       [  72057594037927936,  144115188075855872,  288230376151711744,\n",
       "         576460752303423488, 1152921504606846976, 2305843009213693952,\n",
       "        4611686018427387904, 9223372036854775808]], dtype=uint64)"
      ]
     },
     "execution_count": 70,
     "metadata": {},
     "output_type": "execute_result"
    }
   ],
   "source": [
    "def broad_cast(rows,cols):\n",
    "    n_squares = 64\n",
    "    indices_of_squares = np.arange(n_squares).astype(np.uint64)\n",
    "    indices_of_squares = indices_of_squares.reshape(rows,cols)\n",
    "    board_ndarray = 2**indices_of_squares\n",
    "    return board_ndarray\n",
    "n = 8;\n",
    "m = 8;\n",
    "broad_cast_chess_board = broad_cast(n,m)\n",
    "broad_cast_chess_board"
   ]
  },
  {
   "cell_type": "code",
   "execution_count": 71,
   "id": "treated-dream",
   "metadata": {
    "scrolled": true
   },
   "outputs": [
    {
     "name": "stderr",
     "output_type": "stream",
     "text": [
      "c:\\users\\dat\\appdata\\local\\programs\\python\\python37\\lib\\site-packages\\ipykernel_launcher.py:5: RuntimeWarning: overflow encountered in long_scalars\n",
      "  \"\"\"\n"
     ]
    },
    {
     "data": {
      "text/plain": [
       "array([          1,           2,           4,           8,          16,\n",
       "                32,          64,         128,         256,         512,\n",
       "              1024,        2048,        4096,        8192,       16384,\n",
       "             32768,       65536,      131072,      262144,      524288,\n",
       "           1048576,     2097152,     4194304,     8388608,    16777216,\n",
       "          33554432,    67108864,   134217728,   268435456,   536870912,\n",
       "        1073741824, -2147483648,           0,           0,           0,\n",
       "                 0,           0,           0,           0,           0,\n",
       "                 0,           0,           0,           0,           0,\n",
       "                 0,           0,           0,           0,           0,\n",
       "                 0,           0,           0,           0,           0,\n",
       "                 0,           0,           0,           0,           0,\n",
       "                 0,           0,           0,           0])"
      ]
     },
     "execution_count": 71,
     "metadata": {},
     "output_type": "execute_result"
    }
   ],
   "source": [
    "def append(rows,cols):\n",
    "    n_squares = 64\n",
    "    board_ndarray = np.array([1])\n",
    "    for _ in range(n_squares - 1):\n",
    "        board_ndarray = np.append(board_ndarray, 2*board_ndarray[-1])\n",
    "    return board_ndarray\n",
    "n = 8;\n",
    "m = 8;\n",
    "broad_cast_chess_board = append(n,m)\n",
    "broad_cast_chess_board"
   ]
  },
  {
   "cell_type": "markdown",
   "id": "respiratory-bulletin",
   "metadata": {},
   "source": [
    "Short description: the method create overflow error cause it will create new numpy object everytime it append"
   ]
  },
  {
   "cell_type": "markdown",
   "id": "practical-residence",
   "metadata": {},
   "source": [
    "## Problem 7: Comparing calculation times\n",
    "We've seen three different ways. Each calculation time of Jupyter Notebook %% timeit. Please measure using and compare and consider.\n",
    "\n",
    "\n",
    "%% timeit Runs the code in the cell multiple times and outputs the average execution time."
   ]
  },
  {
   "cell_type": "code",
   "execution_count": 72,
   "id": "signal-sleep",
   "metadata": {},
   "outputs": [
    {
     "name": "stdout",
     "output_type": "stream",
     "text": [
      "3.32 µs ± 86.5 ns per loop (mean ± std. dev. of 7 runs, 100000 loops each)\n"
     ]
    }
   ],
   "source": [
    "%%timeit\n",
    "def broad_cast(rows,cols):\n",
    "    n_squares = 64\n",
    "    indices_of_squares = np.arange(n_squares).astype(np.uint64)\n",
    "    indices_of_squares = indices_of_squares.reshape(rows,cols)\n",
    "    board_ndarray = 2**indices_of_squares\n",
    "    return board_ndarray\n",
    "n = 8;\n",
    "m = 8;\n",
    "broad_cast_chess_board = broad_cast(n,m)\n",
    "broad_cast_chess_board"
   ]
  },
  {
   "cell_type": "code",
   "execution_count": 73,
   "id": "maritime-syria",
   "metadata": {
    "scrolled": true
   },
   "outputs": [
    {
     "name": "stderr",
     "output_type": "stream",
     "text": [
      "c:\\users\\dat\\appdata\\local\\programs\\python\\python37\\lib\\site-packages\\ipykernel_launcher.py:5: RuntimeWarning: overflow encountered in long_scalars\n",
      "  \"\"\"\n"
     ]
    },
    {
     "name": "stdout",
     "output_type": "stream",
     "text": [
      "376 µs ± 10.1 µs per loop (mean ± std. dev. of 7 runs, 1000 loops each)\n"
     ]
    }
   ],
   "source": [
    "%%timeit\n",
    "def append(rows,cols):\n",
    "    n_squares = 64\n",
    "    board_ndarray = np.array([1])\n",
    "    for _ in range(n_squares - 1):\n",
    "        board_ndarray = np.append(board_ndarray, 2*board_ndarray[-1])\n",
    "    return board_ndarray\n",
    "n = 8;\n",
    "m = 8;\n",
    "broad_cast_chess_board = append(n,m)\n",
    "broad_cast_chess_board"
   ]
  },
  {
   "cell_type": "code",
   "execution_count": 74,
   "id": "young-parts",
   "metadata": {},
   "outputs": [
    {
     "name": "stdout",
     "output_type": "stream",
     "text": [
      "15.5 µs ± 657 ns per loop (mean ± std. dev. of 7 runs, 100000 loops each)\n"
     ]
    }
   ],
   "source": [
    "%%timeit\n",
    "def custom_chess_board(rows,cols):\n",
    "    n_squares = rows*cols\n",
    "    custom_board_list = [1]\n",
    "    for _ in range(n_squares - 1):\n",
    "        custom_board_list.append(2*custom_board_list[-1])\n",
    "    return np.array(custom_board_list).reshape(rows,cols)\n",
    "n = 8\n",
    "m = 8\n",
    "chess_board_8x8 = custom_chess_board(n,m)\n",
    "chess_board_8x8"
   ]
  },
  {
   "cell_type": "markdown",
   "id": "economic-mediterranean",
   "metadata": {},
   "source": [
    "**Method using list**:15.5 µs ± 175 ns per loop (mean ± std. dev. of 7 runs, 100000 loops each)\n",
    "\n",
    "**Method using append**:376 µs ± 1.31 µs per loop (mean ± std. dev. of 7 runs, 1000 loops each)\n",
    "\n",
    "**Method using broadcast**:3.32 µs ± 32.2 ns per loop (mean ± std. dev. of 7 runs, 100000 loops each)"
   ]
  },
  {
   "cell_type": "code",
   "execution_count": 82,
   "id": "literary-warren",
   "metadata": {},
   "outputs": [
    {
     "data": {
      "image/png": "[encoded data removed]",
      "text/plain": [
       "<Figure size 432x288 with 1 Axes>"
      ]
     },
     "metadata": {
      "needs_background": "light"
     },
     "output_type": "display_data"
    }
   ],
   "source": [
    "plt.xlabel(\"Method\")\n",
    "plt.ylabel(\"Time (seconds)\")\n",
    "plt.title(\"Mean time compare\")\n",
    "plt.bar([\"List\",\"Append\",\"BroadCast\"],[15.5*math.pow(10,-6),376*math.pow(10,-6),3.32*math.pow(10,-6)])\n",
    "plt.show()"
   ]
  }
 ],
 "metadata": {
  "kernelspec": {
   "display_name": "Python 3",
   "language": "python",
   "name": "python3"
  },
  "language_info": {
   "codemirror_mode": {
    "name": "ipython",
    "version": 3
   },
   "file_extension": ".py",
   "mimetype": "text/x-python",
   "name": "python",
   "nbconvert_exporter": "python",
   "pygments_lexer": "ipython3",
   "version": "3.7.9"
  }
 },
 "nbformat": 4,
 "nbformat_minor": 5
}
