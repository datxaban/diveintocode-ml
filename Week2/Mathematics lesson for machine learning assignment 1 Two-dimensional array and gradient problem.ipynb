{
 "cells": [
  {
   "cell_type": "markdown",
   "id": "august-sheriff",
   "metadata": {},
   "source": [
    "## Import libraries"
   ]
  },
  {
   "cell_type": "code",
   "execution_count": 2,
   "id": "magnetic-expert",
   "metadata": {},
   "outputs": [],
   "source": [
    "import numpy as np\n",
    "import matplotlib.pyplot as plt"
   ]
  },
  {
   "cell_type": "markdown",
   "id": "green-gregory",
   "metadata": {},
   "source": [
    "# Two-dimensional array and gradient problem\n",
    "In machine learning, it is important to find the minimum value of a function. The gradient descent method is used for this purpose.\n",
    "\n",
    "\n",
    "In this assignment, we will consider the gradient of a function using NumPy to aid in understanding the gradient descent method.​"
   ]
  },
  {
   "cell_type": "markdown",
   "id": "native-nothing",
   "metadata": {},
   "source": [
    "## Problem 1:Linear function\n",
    "Consider the following equation where is in the range -50 to 50.\n",
    "\n",
    "$y=\\frac{1}{2} x+1$\n",
    "\n",
    "Create a ndarray that represents x in intervals of -50 to 50 and a ndarray that represents y for each element."
   ]
  },
  {
   "cell_type": "code",
   "execution_count": 3,
   "id": "driven-howard",
   "metadata": {},
   "outputs": [],
   "source": [
    "x = np.linspace(-50, 50, 1001)\n",
    "y = np.array(0.5*x + 1)"
   ]
  },
  {
   "cell_type": "markdown",
   "id": "bizarre-spirit",
   "metadata": {},
   "source": [
    "## Problem 2: Array combination\n",
    "Combine the ndarrays created in Problem 1 into an array of the form (1001, 2). Make sure x is in the 0th column and y is in the 1st column."
   ]
  },
  {
   "cell_type": "code",
   "execution_count": 4,
   "id": "outstanding-stopping",
   "metadata": {},
   "outputs": [
    {
     "data": {
      "text/plain": [
       "array([[-50.  , -24.  ],\n",
       "       [-49.9 , -23.95],\n",
       "       [-49.8 , -23.9 ],\n",
       "       ...,\n",
       "       [ 49.8 ,  25.9 ],\n",
       "       [ 49.9 ,  25.95],\n",
       "       [ 50.  ,  26.  ]])"
      ]
     },
     "execution_count": 4,
     "metadata": {},
     "output_type": "execute_result"
    }
   ],
   "source": [
    "data = np.array(list(zip(x,y)))\n",
    "data"
   ]
  },
  {
   "cell_type": "markdown",
   "id": "ideal-middle",
   "metadata": {},
   "source": [
    "## Problem 3: Find the gradient\n",
    "Find the slope at each x coordinate. Here the slope is calculated by dividing the change in y by the change in x.\n",
    "\n",
    "![gradient](https://s3.us-west-1.amazonaws.com/st.wovn.io/ImageValue/production/5e72d3f270b317398ef7dae0/en/https!*!3A!*!2F!*!2Ft.gyazo.com!*!2Fteams!*!2Fdiveintocode!*!2F7fd04c4808b8a0150a49c908e21f3cd2.png)\n",
    "\n",
    "Each amount of change is approximately calculated from the difference between adjacent elements as shown in the figure below.\n",
    "\n",
    "![gradient](https://s3.us-west-1.amazonaws.com/st.wovn.io/ImageValue/production/5e72d3f270b317398ef7dae0/en/https!*!3A!*!2F!*!2Ft.gyazo.com!*!2Fteams!*!2Fdiveintocode!*!2F398d8c5b4b1bd4151dea6488059226a1.png)\n",
    "\n",
    "**\"Note\"**\n",
    "\n",
    "\n",
    "It is necessary to use the limit (derivative) to obtain the gradient at each point exactly\n",
    "Gradient uses x-coordinate spacing, so one less for x elements\n"
   ]
  },
  {
   "cell_type": "code",
   "execution_count": 6,
   "id": "sublime-witch",
   "metadata": {},
   "outputs": [
    {
     "data": {
      "text/plain": [
       "array([0.5, 0.5, 0.5, 0.5, 0.5, 0.5, 0.5, 0.5, 0.5, 0.5, 0.5, 0.5, 0.5,\n",
       "       0.5, 0.5, 0.5, 0.5, 0.5, 0.5, 0.5, 0.5, 0.5, 0.5, 0.5, 0.5, 0.5,\n",
       "       0.5, 0.5, 0.5, 0.5, 0.5, 0.5, 0.5, 0.5, 0.5, 0.5, 0.5, 0.5, 0.5,\n",
       "       0.5, 0.5, 0.5, 0.5, 0.5, 0.5, 0.5, 0.5, 0.5, 0.5, 0.5, 0.5, 0.5,\n",
       "       0.5, 0.5, 0.5, 0.5, 0.5, 0.5, 0.5, 0.5, 0.5, 0.5, 0.5, 0.5, 0.5,\n",
       "       0.5, 0.5, 0.5, 0.5, 0.5, 0.5, 0.5, 0.5, 0.5, 0.5, 0.5, 0.5, 0.5,\n",
       "       0.5, 0.5, 0.5, 0.5, 0.5, 0.5, 0.5, 0.5, 0.5, 0.5, 0.5, 0.5, 0.5,\n",
       "       0.5, 0.5, 0.5, 0.5, 0.5, 0.5, 0.5, 0.5, 0.5, 0.5, 0.5, 0.5, 0.5,\n",
       "       0.5, 0.5, 0.5, 0.5, 0.5, 0.5, 0.5, 0.5, 0.5, 0.5, 0.5, 0.5, 0.5,\n",
       "       0.5, 0.5, 0.5, 0.5, 0.5, 0.5, 0.5, 0.5, 0.5, 0.5, 0.5, 0.5, 0.5,\n",
       "       0.5, 0.5, 0.5, 0.5, 0.5, 0.5, 0.5, 0.5, 0.5, 0.5, 0.5, 0.5, 0.5,\n",
       "       0.5, 0.5, 0.5, 0.5, 0.5, 0.5, 0.5, 0.5, 0.5, 0.5, 0.5, 0.5, 0.5,\n",
       "       0.5, 0.5, 0.5, 0.5, 0.5, 0.5, 0.5, 0.5, 0.5, 0.5, 0.5, 0.5, 0.5,\n",
       "       0.5, 0.5, 0.5, 0.5, 0.5, 0.5, 0.5, 0.5, 0.5, 0.5, 0.5, 0.5, 0.5,\n",
       "       0.5, 0.5, 0.5, 0.5, 0.5, 0.5, 0.5, 0.5, 0.5, 0.5, 0.5, 0.5, 0.5,\n",
       "       0.5, 0.5, 0.5, 0.5, 0.5, 0.5, 0.5, 0.5, 0.5, 0.5, 0.5, 0.5, 0.5,\n",
       "       0.5, 0.5, 0.5, 0.5, 0.5, 0.5, 0.5, 0.5, 0.5, 0.5, 0.5, 0.5, 0.5,\n",
       "       0.5, 0.5, 0.5, 0.5, 0.5, 0.5, 0.5, 0.5, 0.5, 0.5, 0.5, 0.5, 0.5,\n",
       "       0.5, 0.5, 0.5, 0.5, 0.5, 0.5, 0.5, 0.5, 0.5, 0.5, 0.5, 0.5, 0.5,\n",
       "       0.5, 0.5, 0.5, 0.5, 0.5, 0.5, 0.5, 0.5, 0.5, 0.5, 0.5, 0.5, 0.5,\n",
       "       0.5, 0.5, 0.5, 0.5, 0.5, 0.5, 0.5, 0.5, 0.5, 0.5, 0.5, 0.5, 0.5,\n",
       "       0.5, 0.5, 0.5, 0.5, 0.5, 0.5, 0.5, 0.5, 0.5, 0.5, 0.5, 0.5, 0.5,\n",
       "       0.5, 0.5, 0.5, 0.5, 0.5, 0.5, 0.5, 0.5, 0.5, 0.5, 0.5, 0.5, 0.5,\n",
       "       0.5, 0.5, 0.5, 0.5, 0.5, 0.5, 0.5, 0.5, 0.5, 0.5, 0.5, 0.5, 0.5,\n",
       "       0.5, 0.5, 0.5, 0.5, 0.5, 0.5, 0.5, 0.5, 0.5, 0.5, 0.5, 0.5, 0.5,\n",
       "       0.5, 0.5, 0.5, 0.5, 0.5, 0.5, 0.5, 0.5, 0.5, 0.5, 0.5, 0.5, 0.5,\n",
       "       0.5, 0.5, 0.5, 0.5, 0.5, 0.5, 0.5, 0.5, 0.5, 0.5, 0.5, 0.5, 0.5,\n",
       "       0.5, 0.5, 0.5, 0.5, 0.5, 0.5, 0.5, 0.5, 0.5, 0.5, 0.5, 0.5, 0.5,\n",
       "       0.5, 0.5, 0.5, 0.5, 0.5, 0.5, 0.5, 0.5, 0.5, 0.5, 0.5, 0.5, 0.5,\n",
       "       0.5, 0.5, 0.5, 0.5, 0.5, 0.5, 0.5, 0.5, 0.5, 0.5, 0.5, 0.5, 0.5,\n",
       "       0.5, 0.5, 0.5, 0.5, 0.5, 0.5, 0.5, 0.5, 0.5, 0.5, 0.5, 0.5, 0.5,\n",
       "       0.5, 0.5, 0.5, 0.5, 0.5, 0.5, 0.5, 0.5, 0.5, 0.5, 0.5, 0.5, 0.5,\n",
       "       0.5, 0.5, 0.5, 0.5, 0.5, 0.5, 0.5, 0.5, 0.5, 0.5, 0.5, 0.5, 0.5,\n",
       "       0.5, 0.5, 0.5, 0.5, 0.5, 0.5, 0.5, 0.5, 0.5, 0.5, 0.5, 0.5, 0.5,\n",
       "       0.5, 0.5, 0.5, 0.5, 0.5, 0.5, 0.5, 0.5, 0.5, 0.5, 0.5, 0.5, 0.5,\n",
       "       0.5, 0.5, 0.5, 0.5, 0.5, 0.5, 0.5, 0.5, 0.5, 0.5, 0.5, 0.5, 0.5,\n",
       "       0.5, 0.5, 0.5, 0.5, 0.5, 0.5, 0.5, 0.5, 0.5, 0.5, 0.5, 0.5, 0.5,\n",
       "       0.5, 0.5, 0.5, 0.5, 0.5, 0.5, 0.5, 0.5, 0.5, 0.5, 0.5, 0.5, 0.5,\n",
       "       0.5, 0.5, 0.5, 0.5, 0.5, 0.5, 0.5, 0.5, 0.5, 0.5, 0.5, 0.5, 0.5,\n",
       "       0.5, 0.5, 0.5, 0.5, 0.5, 0.5, 0.5, 0.5, 0.5, 0.5, 0.5, 0.5, 0.5,\n",
       "       0.5, 0.5, 0.5, 0.5, 0.5, 0.5, 0.5, 0.5, 0.5, 0.5, 0.5, 0.5, 0.5,\n",
       "       0.5, 0.5, 0.5, 0.5, 0.5, 0.5, 0.5, 0.5, 0.5, 0.5, 0.5, 0.5, 0.5,\n",
       "       0.5, 0.5, 0.5, 0.5, 0.5, 0.5, 0.5, 0.5, 0.5, 0.5, 0.5, 0.5, 0.5,\n",
       "       0.5, 0.5, 0.5, 0.5, 0.5, 0.5, 0.5, 0.5, 0.5, 0.5, 0.5, 0.5, 0.5,\n",
       "       0.5, 0.5, 0.5, 0.5, 0.5, 0.5, 0.5, 0.5, 0.5, 0.5, 0.5, 0.5, 0.5,\n",
       "       0.5, 0.5, 0.5, 0.5, 0.5, 0.5, 0.5, 0.5, 0.5, 0.5, 0.5, 0.5, 0.5,\n",
       "       0.5, 0.5, 0.5, 0.5, 0.5, 0.5, 0.5, 0.5, 0.5, 0.5, 0.5, 0.5, 0.5,\n",
       "       0.5, 0.5, 0.5, 0.5, 0.5, 0.5, 0.5, 0.5, 0.5, 0.5, 0.5, 0.5, 0.5,\n",
       "       0.5, 0.5, 0.5, 0.5, 0.5, 0.5, 0.5, 0.5, 0.5, 0.5, 0.5, 0.5, 0.5,\n",
       "       0.5, 0.5, 0.5, 0.5, 0.5, 0.5, 0.5, 0.5, 0.5, 0.5, 0.5, 0.5, 0.5,\n",
       "       0.5, 0.5, 0.5, 0.5, 0.5, 0.5, 0.5, 0.5, 0.5, 0.5, 0.5, 0.5, 0.5,\n",
       "       0.5, 0.5, 0.5, 0.5, 0.5, 0.5, 0.5, 0.5, 0.5, 0.5, 0.5, 0.5, 0.5,\n",
       "       0.5, 0.5, 0.5, 0.5, 0.5, 0.5, 0.5, 0.5, 0.5, 0.5, 0.5, 0.5, 0.5,\n",
       "       0.5, 0.5, 0.5, 0.5, 0.5, 0.5, 0.5, 0.5, 0.5, 0.5, 0.5, 0.5, 0.5,\n",
       "       0.5, 0.5, 0.5, 0.5, 0.5, 0.5, 0.5, 0.5, 0.5, 0.5, 0.5, 0.5, 0.5,\n",
       "       0.5, 0.5, 0.5, 0.5, 0.5, 0.5, 0.5, 0.5, 0.5, 0.5, 0.5, 0.5, 0.5,\n",
       "       0.5, 0.5, 0.5, 0.5, 0.5, 0.5, 0.5, 0.5, 0.5, 0.5, 0.5, 0.5, 0.5,\n",
       "       0.5, 0.5, 0.5, 0.5, 0.5, 0.5, 0.5, 0.5, 0.5, 0.5, 0.5, 0.5, 0.5,\n",
       "       0.5, 0.5, 0.5, 0.5, 0.5, 0.5, 0.5, 0.5, 0.5, 0.5, 0.5, 0.5, 0.5,\n",
       "       0.5, 0.5, 0.5, 0.5, 0.5, 0.5, 0.5, 0.5, 0.5, 0.5, 0.5, 0.5, 0.5,\n",
       "       0.5, 0.5, 0.5, 0.5, 0.5, 0.5, 0.5, 0.5, 0.5, 0.5, 0.5, 0.5, 0.5,\n",
       "       0.5, 0.5, 0.5, 0.5, 0.5, 0.5, 0.5, 0.5, 0.5, 0.5, 0.5, 0.5, 0.5,\n",
       "       0.5, 0.5, 0.5, 0.5, 0.5, 0.5, 0.5, 0.5, 0.5, 0.5, 0.5, 0.5, 0.5,\n",
       "       0.5, 0.5, 0.5, 0.5, 0.5, 0.5, 0.5, 0.5, 0.5, 0.5, 0.5, 0.5, 0.5,\n",
       "       0.5, 0.5, 0.5, 0.5, 0.5, 0.5, 0.5, 0.5, 0.5, 0.5, 0.5, 0.5, 0.5,\n",
       "       0.5, 0.5, 0.5, 0.5, 0.5, 0.5, 0.5, 0.5, 0.5, 0.5, 0.5, 0.5, 0.5,\n",
       "       0.5, 0.5, 0.5, 0.5, 0.5, 0.5, 0.5, 0.5, 0.5, 0.5, 0.5, 0.5, 0.5,\n",
       "       0.5, 0.5, 0.5, 0.5, 0.5, 0.5, 0.5, 0.5, 0.5, 0.5, 0.5, 0.5, 0.5,\n",
       "       0.5, 0.5, 0.5, 0.5, 0.5, 0.5, 0.5, 0.5, 0.5, 0.5, 0.5, 0.5, 0.5,\n",
       "       0.5, 0.5, 0.5, 0.5, 0.5, 0.5, 0.5, 0.5, 0.5, 0.5, 0.5, 0.5, 0.5,\n",
       "       0.5, 0.5, 0.5, 0.5, 0.5, 0.5, 0.5, 0.5, 0.5, 0.5, 0.5, 0.5, 0.5,\n",
       "       0.5, 0.5, 0.5, 0.5, 0.5, 0.5, 0.5, 0.5, 0.5, 0.5, 0.5, 0.5, 0.5,\n",
       "       0.5, 0.5, 0.5, 0.5, 0.5, 0.5, 0.5, 0.5, 0.5, 0.5, 0.5, 0.5, 0.5,\n",
       "       0.5, 0.5, 0.5, 0.5, 0.5, 0.5, 0.5, 0.5, 0.5, 0.5, 0.5, 0.5, 0.5,\n",
       "       0.5, 0.5, 0.5, 0.5, 0.5, 0.5, 0.5, 0.5, 0.5, 0.5, 0.5, 0.5, 0.5,\n",
       "       0.5, 0.5, 0.5, 0.5, 0.5, 0.5, 0.5, 0.5, 0.5, 0.5, 0.5, 0.5, 0.5,\n",
       "       0.5, 0.5, 0.5, 0.5, 0.5, 0.5, 0.5, 0.5, 0.5, 0.5, 0.5, 0.5])"
      ]
     },
     "execution_count": 6,
     "metadata": {},
     "output_type": "execute_result"
    }
   ],
   "source": [
    "gradient = (data[1:,1] - data[0:-1,1])/(data[1:,0] - data[0:-1,0])\n",
    "gradient"
   ]
  },
  {
   "cell_type": "markdown",
   "id": "functional-month",
   "metadata": {},
   "source": [
    "This is a linear function so the slope is constant"
   ]
  },
  {
   "cell_type": "markdown",
   "id": "dietary-wrapping",
   "metadata": {},
   "source": [
    "## Problem 4: Draw a graph\n",
    "Draw a graph of the linear function using Matplotlib. Also, draw a graph with x on the horizontal axis and gradient on the vertical axis."
   ]
  },
  {
   "cell_type": "code",
   "execution_count": 7,
   "id": "convenient-strategy",
   "metadata": {
    "scrolled": true
   },
   "outputs": [
    {
     "data": {
      "text/plain": [
       "[<matplotlib.lines.Line2D at 0x2956435c2c8>]"
      ]
     },
     "execution_count": 7,
     "metadata": {},
     "output_type": "execute_result"
    },
    {
     "data": {
      "image/png": "[encoded data removed]",
      "text/plain": [
       "<Figure size 432x288 with 1 Axes>"
      ]
     },
     "metadata": {
      "needs_background": "light"
     },
     "output_type": "display_data"
    }
   ],
   "source": [
    "\n",
    "%matplotlib inline\n",
    "plt.title(\"$y= \\\\frac{1}{2} x+1$\")\n",
    "plt.ylabel(\"Gradient\")\n",
    "plt.xlabel(\"X\")\n",
    "plt.ylim(0,1)\n",
    "plt.plot(data[1:,0],gradient) #???\n"
   ]
  },
  {
   "cell_type": "markdown",
   "id": "integrated-correlation",
   "metadata": {},
   "source": [
    "## Problem 5: Python functionalization\n",
    "Please refer to the template to create a Python function that summarizes the problems 1 to 3.\n",
    "\n",
    "\n",
    "Then, calculate the gradient of the following three equations at 0.1 intervals and output it with ndarray.\n",
    "\n",
    "\\begin{array}{c}\n",
    "y=x^{2} \\quad(-50 \\leq x \\leq 50) \\\\\n",
    "y=2 x^{2}+2^{x} \\quad(-50 \\leq x \\leq 50) \\\\\n",
    "y=s i n\\left(x^{\\frac{1}{2}}\\right) \\quad(0 \\leq x \\leq 50)\n",
    "\\end{array}\n",
    "\n",
    "Also, draw the graph as in question 4.\n",
    "\n",
    "\n",
    "To calculate trigonometric function, sin for ndarray np.sin () is used."
   ]
  },
  {
   "cell_type": "code",
   "execution_count": 8,
   "id": "satisfied-airline",
   "metadata": {},
   "outputs": [],
   "source": [
    "def compute_gradient(function, x_range=(-50, 50.1, 0.1)):\n",
    "    \"\"\"\n",
    "    Calculate the gradient using the amount of change.\n",
    "    Parameters\n",
    "    ----------------\n",
    "    function : function\n",
    "      The function you want to find, the one that returns the ndarray of y when you put the ndarray of x.\n",
    "    x_range : tuple\n",
    "      Specify the range in the same way as the argument of np.arange ().\n",
    "    Returns\n",
    "    ----------------\n",
    "    array_xy : ndarray, shape(n, 2)\n",
    "      A combination of x and y. n depends on x_range.\n",
    "    gradient : ndarray, shape(n-1,)\n",
    "      Function gradient. One factor is reduced to make a difference\n",
    "    \"\"\"\n",
    "    array_x = np.arange(start=x_range[0], stop=x_range[1], step=x_range[2])\n",
    "    array_y = function(array_x)\n",
    "    array_xy = np.array(list(zip(array_x,array_y)))\n",
    "    gradient = (array_xy[1:,1] - array_xy[0:-1,1]) / (array_xy[1:,0] - array_xy[0:-1,0])\n",
    "    return array_xy, gradient\n",
    "\n",
    "def function1(array_x):\n",
    "    return np.power(array_x,2)\n",
    "def function2(array_x):\n",
    "    return 2*np.power(array_x,2) + np.power(2,array_x)\n",
    "def function3(array_x):\n",
    "    return np.sin(np.power(array_x,0.5))\n",
    "     \n"
   ]
  },
  {
   "cell_type": "code",
   "execution_count": 9,
   "id": "inappropriate-compromise",
   "metadata": {
    "scrolled": true
   },
   "outputs": [
    {
     "data": {
      "image/png": "[encoded data removed]",
      "text/plain": [
       "<Figure size 432x288 with 1 Axes>"
      ]
     },
     "metadata": {
      "needs_background": "light"
     },
     "output_type": "display_data"
    }
   ],
   "source": [
    "array_xy, gradient = compute_gradient(function1)\n",
    "plt.xlabel(\"X\")\n",
    "plt.ylabel(\"Gradient\")\n",
    "plt.title(\"$y=x^{2} \\quad(-50 \\leq x \\leq 50)$\")\n",
    "_ = plt.plot(array_xy[1:,0],gradient)"
   ]
  },
  {
   "cell_type": "code",
   "execution_count": 10,
   "id": "oriental-berkeley",
   "metadata": {},
   "outputs": [
    {
     "data": {
      "image/png": "[encoded data removed]",
      "text/plain": [
       "<Figure size 432x288 with 1 Axes>"
      ]
     },
     "metadata": {
      "needs_background": "light"
     },
     "output_type": "display_data"
    }
   ],
   "source": [
    "array_xy, gradient = compute_gradient(function2)\n",
    "plt.xlabel(\"X\")\n",
    "plt.ylabel(\"Gradient\")\n",
    "plt.title(\"$y=2 x^{2}+2^{x} \\quad(-50 \\leq x \\leq 50)$\")\n",
    "_ = plt.plot(array_xy[1:,0],gradient)"
   ]
  },
  {
   "cell_type": "code",
   "execution_count": 11,
   "id": "stuffed-tuning",
   "metadata": {},
   "outputs": [
    {
     "name": "stderr",
     "output_type": "stream",
     "text": [
      "c:\\users\\dat\\appdata\\local\\programs\\python\\python37\\lib\\site-packages\\ipykernel_launcher.py:28: RuntimeWarning: invalid value encountered in power\n"
     ]
    },
    {
     "data": {
      "image/png": "[encoded data removed]",
      "text/plain": [
       "<Figure size 432x288 with 1 Axes>"
      ]
     },
     "metadata": {
      "needs_background": "light"
     },
     "output_type": "display_data"
    }
   ],
   "source": [
    "array_xy, gradient = compute_gradient(function3)\n",
    "plt.xlabel(\"X\")\n",
    "plt.ylabel(\"Gradient\")\n",
    "_ = plt.plot(array_xy[1:,0],gradient)"
   ]
  },
  {
   "cell_type": "markdown",
   "id": "atmospheric-geneva",
   "metadata": {},
   "source": [
    "## Problem 6: Find the minimum value\n",
    "Find the minimum value of y for the function treated in Problem 5. The range of x is the same as in question 5.\n",
    "\n",
    "\n",
    "This time, use the ndarray min method and argmin method instead of the gradient descent method. The min method can get the minimum value, and the argmin method can get the index of the minimum value.\n",
    "\n",
    "\n",
    "Also, display the slope before and after taking the minimum \n"
   ]
  },
  {
   "cell_type": "code",
   "execution_count": 12,
   "id": "eleven-authentication",
   "metadata": {},
   "outputs": [
    {
     "name": "stdout",
     "output_type": "stream",
     "text": [
      "The miminum value of first function:5.048709793414476e-25. Index of the minimum value: 500\n"
     ]
    }
   ],
   "source": [
    "array_xy, gradient = compute_gradient(function1)\n",
    "print(\"The miminum value of first function:{}. Index of the minimum value: {}\".format(np.amin(array_xy[:,1]),np.argmin(array_xy[:,1])))"
   ]
  },
  {
   "cell_type": "code",
   "execution_count": 15,
   "id": "needed-baseball",
   "metadata": {},
   "outputs": [
    {
     "name": "stdout",
     "output_type": "stream",
     "text": [
      "The miminum value of second function:0.9505505632959851. Index of the minimum value: 498\n"
     ]
    }
   ],
   "source": [
    "array_xy, gradient = compute_gradient(function2)\n",
    "print(\"The miminum value of second function:{}. Index of the minimum value: {}\".format(np.amin(array_xy[:,1]),np.argmin(array_xy[:,1])))"
   ]
  },
  {
   "cell_type": "code",
   "execution_count": 16,
   "id": "mysterious-projection",
   "metadata": {},
   "outputs": [
    {
     "name": "stdout",
     "output_type": "stream",
     "text": [
      "The miminum value of third function:-0.9999997540298114. Index of the minimum value: 0\n"
     ]
    },
    {
     "name": "stderr",
     "output_type": "stream",
     "text": [
      "c:\\users\\dat\\appdata\\local\\programs\\python\\python37\\lib\\site-packages\\ipykernel_launcher.py:28: RuntimeWarning: invalid value encountered in power\n"
     ]
    }
   ],
   "source": [
    "array_xy, gradient = compute_gradient(function3)\n",
    "print(\"The miminum value of third function:{}. Index of the minimum value: {}\".format(np.nanmin(array_xy[:,1]),np.argmin(array_xy[:,1])))"
   ]
  }
 ],
 "metadata": {
  "kernelspec": {
   "display_name": "Python 3",
   "language": "python",
   "name": "python3"
  },
  "language_info": {
   "codemirror_mode": {
    "name": "ipython",
    "version": 3
   },
   "file_extension": ".py",
   "mimetype": "text/x-python",
   "name": "python",
   "nbconvert_exporter": "python",
   "pygments_lexer": "ipython3",
   "version": "3.7.9"
  }
 },
 "nbformat": 4,
 "nbformat_minor": 5
}
