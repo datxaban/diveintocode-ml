{
 "cells": [
  {
   "cell_type": "markdown",
   "id": "tracked-bronze",
   "metadata": {},
   "source": [
    "# Matrix product\n",
    "Consider the following matrices A and B.\n",
    "\n",
    "$A=\\left[\\begin{array}{ccc}-1 & 2 & 3 \\\\ \\text { Four } & -\\text { Five } & 6 \\\\ 7 & 8 & -9\\end{array}\\right], B=\\left[\\begin{array}{ccc}0 & 2 & 1 \\\\ 0 & 2 & -8 \\\\ 2 & 9 & -1\\end{array}\\right]$\n",
    "\n",
    "When expressed in NumPy, it becomes as follows."
   ]
  },
  {
   "cell_type": "code",
   "execution_count": 1,
   "id": "stylish-seafood",
   "metadata": {},
   "outputs": [],
   "source": [
    "import numpy as np\n",
    "a_ndarray = np.array([[-1, 2, 3], [4, -5, 6], [7, 8, -9]])\n",
    "b_ndarray = np.array([[0, 2, 1], [0, 2, -8], [2, 9, -1]])"
   ]
  },
  {
   "cell_type": "markdown",
   "id": "literary-defendant",
   "metadata": {},
   "source": [
    "## Problem 1: Matrix product is calculated manually"
   ]
  },
  {
   "cell_type": "markdown",
   "id": "cordless-necklace",
   "metadata": {},
   "source": [
    "Assume AxB=C so shape of C would be (3,3).\n",
    "\n",
    "For a position (n,m) of matrix C, it would be calculated using dot product from row n from the matrix A and column m of matrix B.\n",
    "\n",
    "To solve the above problem, we calculate each elements:\n",
    "<br>\n",
    "C[0,0] = A[0,0]xB[0,0] + A[0,1]xB[1,0] + A[0,2]xB[2,0] = 6\n",
    "<br>\n",
    "C[0,1] = A[0,0]xB[0,1] + A[0,1]xB[1,1] + A[0,2]xB[2,1] = 29\n",
    "<br>\n",
    "C[0,2] = A[0,0]xB[0,2] + A[0,1]xB[1,2] + A[0,2]xB[2,2] = -20\n",
    "<br>\n",
    "C[1,0] = A[1,0]xB[0,0] + A[1,1]xB[1,0] + A[1,2]xB[2,0] = 12\n",
    "<br>\n",
    "C[1,1] = A[1,0]xB[0,1] + A[1,1]xB[1,1] + A[1,2]xB[2,1] = 52\n",
    "<br>\n",
    "C[1,2] = A[1,0]xB[0,2] + A[1,1]xB[1,2] + A[1,2]xB[2,2] = 38\n",
    "<br>\n",
    "C[2,0] = A[2,0]xB[0,0] + A[2,1]xB[1,0] + A[2,2]xB[2,0] = -18\n",
    "<br>\n",
    "C[2,1] = A[2,0]xB[0,1] + A[2,1]xB[1,1] + A[2,2]xB[2,0] = -51\n",
    "<br>\n",
    "C[2,2] = A[2,0]xB[0,2] + A[2,1]xB[1,2] + A[2,2]xB[2,2] = -48"
   ]
  },
  {
   "cell_type": "markdown",
   "id": "found-payment",
   "metadata": {},
   "source": [
    "## Problem 2: Calculation by NumPy function"
   ]
  },
  {
   "cell_type": "code",
   "execution_count": 2,
   "id": "indonesian-concept",
   "metadata": {},
   "outputs": [
    {
     "data": {
      "text/plain": [
       "array([[  6,  29, -20],\n",
       "       [ 12,  52,  38],\n",
       "       [-18, -51, -48]])"
      ]
     },
     "execution_count": 2,
     "metadata": {},
     "output_type": "execute_result"
    }
   ],
   "source": [
    "np.matmul(a_ndarray,b_ndarray)"
   ]
  },
  {
   "cell_type": "code",
   "execution_count": 3,
   "id": "interpreted-chance",
   "metadata": {
    "scrolled": true
   },
   "outputs": [
    {
     "data": {
      "text/plain": [
       "array([[  6,  29, -20],\n",
       "       [ 12,  52,  38],\n",
       "       [-18, -51, -48]])"
      ]
     },
     "execution_count": 3,
     "metadata": {},
     "output_type": "execute_result"
    }
   ],
   "source": [
    "a_ndarray @ b_ndarray"
   ]
  },
  {
   "cell_type": "code",
   "execution_count": 4,
   "id": "ordinary-accident",
   "metadata": {},
   "outputs": [
    {
     "data": {
      "text/plain": [
       "array([[  6,  29, -20],\n",
       "       [ 12,  52,  38],\n",
       "       [-18, -51, -48]])"
      ]
     },
     "execution_count": 4,
     "metadata": {},
     "output_type": "execute_result"
    }
   ],
   "source": [
    "np.dot(a_ndarray,b_ndarray)"
   ]
  },
  {
   "cell_type": "markdown",
   "id": "foster-creator",
   "metadata": {},
   "source": [
    "## Problem 3: Implementation of calculation of a certain element"
   ]
  },
  {
   "cell_type": "markdown",
   "id": "russian-table",
   "metadata": {},
   "source": [
    "Calculate C[x,y], I would use"
   ]
  },
  {
   "cell_type": "code",
   "execution_count": 11,
   "id": "military-composite",
   "metadata": {},
   "outputs": [
    {
     "data": {
      "text/plain": [
       "-18"
      ]
     },
     "execution_count": 11,
     "metadata": {},
     "output_type": "execute_result"
    }
   ],
   "source": [
    "x = 2\n",
    "y = 0\n",
    "res = np.sum(a_ndarray[x,:]*b_ndarray[:,y])\n",
    "res"
   ]
  },
  {
   "cell_type": "markdown",
   "id": "binding-british",
   "metadata": {},
   "source": [
    "## Problem 4: Creating a function that performs matrix multiplication"
   ]
  },
  {
   "cell_type": "code",
   "execution_count": 25,
   "id": "technological-huntington",
   "metadata": {},
   "outputs": [
    {
     "data": {
      "text/plain": [
       "array([[  6.,  29., -20.],\n",
       "       [ 12.,  52.,  38.],\n",
       "       [-18., -51., -48.]])"
      ]
     },
     "execution_count": 25,
     "metadata": {},
     "output_type": "execute_result"
    }
   ],
   "source": [
    "def mat_mul(matrix_a,matrix_b):\n",
    "    res = np.zeros((matrix_a.shape[0],matrix_b.shape[1]))\n",
    "    for x in range(matrix_a.shape[1]):\n",
    "        for y in range(matrix_a.shape[0]):\n",
    "            res[x,y] = np.sum(matrix_a[x,:]*matrix_b[:,y])\n",
    "    return res\n",
    "\n",
    "result = mat_mul(a_ndarray,b_ndarray)\n",
    "result"
   ]
  },
  {
   "cell_type": "markdown",
   "id": "informational-gates",
   "metadata": {},
   "source": [
    "## Problem 5: Judge the input whose calculation is not defined\n",
    "Depending on the implementation method, the function created in Problem 4 may work even if this D and E array is input. In this case, incorrect calculations will be made. Also, even if an error occurs in the middle, a message that is hard to understand why the error occurred is displayed directly.\n",
    "\n",
    "\n",
    "You can prevent this by using an if statement or similar, and add code to display the problem in the input form using print() ."
   ]
  },
  {
   "cell_type": "code",
   "execution_count": 25,
   "id": "indie-literature",
   "metadata": {},
   "outputs": [
    {
     "name": "stdout",
     "output_type": "stream",
     "text": [
      "matrix a shape 1 is 3 != matrix b shape 0 is 2\n"
     ]
    }
   ],
   "source": [
    "d_ndarray_ = np.array([[-1, 2, 3], [4, -5, 6]])\n",
    "e_ndarray = np.array([[-9, 8, 7], [6, -5, 4]])\n",
    "def mat_mul(matrix_a,matrix_b):\n",
    "    if (matrix_a.shape[1] != matrix_b.shape[0] ):\n",
    "        print(\"matrix a shape 1 is {} != matrix b shape 0 is {}\".format(matrix_a.shape[1],matrix_b.shape[0]))\n",
    "        return None\n",
    "    res = np.zeros((matrix_a.shape[0],matrix_b.shape[1]))\n",
    "    for x in range(matrix_a.shape[1]):\n",
    "        for y in range(matrix_a.shape[0]):\n",
    "            res[x,y] = np.sum(matrix_a[x,:]*matrix_b[:,y])\n",
    "    return res\n",
    "\n",
    "result = mat_mul(d_ndarray_,e_ndarray)\n",
    "result"
   ]
  },
  {
   "cell_type": "markdown",
   "id": "external-escape",
   "metadata": {},
   "source": [
    "## Problem 6: Transposition\n",
    "Transposing one matrix allows you to calculate the matrix product.\n",
    "\n",
    "\n",
    "Transpose it using the np.transpose() or .T attributes and calculate the matrix product.\n",
    "\n"
   ]
  },
  {
   "cell_type": "code",
   "execution_count": 26,
   "id": "spanish-frost",
   "metadata": {},
   "outputs": [
    {
     "data": {
      "text/plain": [
       "array([[  6.,  12., -18.],\n",
       "       [ 29.,  52., -51.],\n",
       "       [-20.,  38., -48.]])"
      ]
     },
     "execution_count": 26,
     "metadata": {},
     "output_type": "execute_result"
    }
   ],
   "source": [
    "result.T"
   ]
  },
  {
   "cell_type": "code",
   "execution_count": 14,
   "id": "incredible-leather",
   "metadata": {},
   "outputs": [
    {
     "data": {
      "text/plain": [
       "array([[  6.,  12., -18.],\n",
       "       [ 29.,  52., -51.],\n",
       "       [-20.,  38., -48.]])"
      ]
     },
     "execution_count": 14,
     "metadata": {},
     "output_type": "execute_result"
    }
   ],
   "source": [
    "np.transpose(result)"
   ]
  },
  {
   "cell_type": "code",
   "execution_count": null,
   "id": "perceived-sleep",
   "metadata": {},
   "outputs": [],
   "source": []
  }
 ],
 "metadata": {
  "kernelspec": {
   "display_name": "Python 3",
   "language": "python",
   "name": "python3"
  },
  "language_info": {
   "codemirror_mode": {
    "name": "ipython",
    "version": 3
   },
   "file_extension": ".py",
   "mimetype": "text/x-python",
   "name": "python",
   "nbconvert_exporter": "python",
   "pygments_lexer": "ipython3",
   "version": "3.7.9"
  }
 },
 "nbformat": 4,
 "nbformat_minor": 5
}
