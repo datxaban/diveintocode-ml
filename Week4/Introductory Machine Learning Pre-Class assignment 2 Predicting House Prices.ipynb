{
 "cells": [
  {
   "cell_type": "markdown",
   "id": "threaded-helen",
   "metadata": {},
   "source": [
    "## Housing price regression\n",
    "Practice solving regression problems using the house price data set in Ames, Iowa, used in Week3.\n",
    "\n",
    "\n",
    "By using 79 types of features (explanatory variables), you can set the problem of guessing the numerical value of housing prices. This kind of problem to guess continuous values is called a regression problem.\n",
    "\n",
    "[!House Prices: Advanced Regression Techniques](https://www.kaggle.com/c/house-prices-advanced-regression-techniques/data)\n",
    "\n",
    "### List of methods used this time\n",
    "We will use scikit-learn to train and estimate the following methods. We will not go into the details of each method at this stage. We will simply see that all of them can be easily used with the library, and that there are differences in the results of each method.\n",
    "\n",
    "<li>Linear regression\n",
    "<li>SVM\n",
    "<li>Decision tree\n",
    "<li>Random forest\n",
    "\n",
    "There are some methods that can be used for both classification and regression problems, and others that cannot."
   ]
  },
  {
   "cell_type": "markdown",
   "id": "willing-exemption",
   "metadata": {},
   "source": [
    "## Preparing the Data set\n",
    "Download the dataset from Kaggle as in Week 3. We will use only train.csv.\n",
    "\n",
    "[!Download dataset](https://www.kaggle.com/c/house-prices-advanced-regression-techniques)"
   ]
  },
  {
   "cell_type": "markdown",
   "id": "integrated-princeton",
   "metadata": {},
   "source": [
    "## Flow of regression problem\n",
    "The flow of the regression problem is basically the same as that of the classification problem, so we will not explain it in detail as in Assignment 1."
   ]
  },
  {
   "cell_type": "markdown",
   "id": "armed-award",
   "metadata": {},
   "source": [
    "## Preparation for practice\n",
    "This dataset has 79 different features (objective variables), and as we saw in Week 3, it contains many different types of data. How to pre-process this is an important part of machine learning, but in this case, we will use only two explanatory variables (features), GrLivArea and YearBuilt, in order to prioritize the practice of learning and evaluation of regression problems."
   ]
  },
  {
   "cell_type": "code",
   "execution_count": 2,
   "id": "described-substance",
   "metadata": {},
   "outputs": [],
   "source": [
    "import pandas as pd"
   ]
  },
  {
   "cell_type": "markdown",
   "id": "brave-switzerland",
   "metadata": {},
   "source": [
    "## Problem 1: Feature selection for practice\n",
    "After reading the dataset, extract the explanatory variables GrLivArea and YearBuilt, and the objective variable SalePrice, respectively."
   ]
  },
  {
   "cell_type": "code",
   "execution_count": 3,
   "id": "valid-magic",
   "metadata": {
    "scrolled": false
   },
   "outputs": [
    {
     "data": {
      "text/html": [
       "<div>\n",
       "<style scoped>\n",
       "    .dataframe tbody tr th:only-of-type {\n",
       "        vertical-align: middle;\n",
       "    }\n",
       "\n",
       "    .dataframe tbody tr th {\n",
       "        vertical-align: top;\n",
       "    }\n",
       "\n",
       "    .dataframe thead th {\n",
       "        text-align: right;\n",
       "    }\n",
       "</style>\n",
       "<table border=\"1\" class=\"dataframe\">\n",
       "  <thead>\n",
       "    <tr style=\"text-align: right;\">\n",
       "      <th></th>\n",
       "      <th>GrLivArea</th>\n",
       "      <th>YearBuilt</th>\n",
       "    </tr>\n",
       "  </thead>\n",
       "  <tbody>\n",
       "    <tr>\n",
       "      <th>0</th>\n",
       "      <td>1710</td>\n",
       "      <td>2003</td>\n",
       "    </tr>\n",
       "    <tr>\n",
       "      <th>1</th>\n",
       "      <td>1262</td>\n",
       "      <td>1976</td>\n",
       "    </tr>\n",
       "    <tr>\n",
       "      <th>2</th>\n",
       "      <td>1786</td>\n",
       "      <td>2001</td>\n",
       "    </tr>\n",
       "    <tr>\n",
       "      <th>3</th>\n",
       "      <td>1717</td>\n",
       "      <td>1915</td>\n",
       "    </tr>\n",
       "    <tr>\n",
       "      <th>4</th>\n",
       "      <td>2198</td>\n",
       "      <td>2000</td>\n",
       "    </tr>\n",
       "    <tr>\n",
       "      <th>...</th>\n",
       "      <td>...</td>\n",
       "      <td>...</td>\n",
       "    </tr>\n",
       "    <tr>\n",
       "      <th>1455</th>\n",
       "      <td>1647</td>\n",
       "      <td>1999</td>\n",
       "    </tr>\n",
       "    <tr>\n",
       "      <th>1456</th>\n",
       "      <td>2073</td>\n",
       "      <td>1978</td>\n",
       "    </tr>\n",
       "    <tr>\n",
       "      <th>1457</th>\n",
       "      <td>2340</td>\n",
       "      <td>1941</td>\n",
       "    </tr>\n",
       "    <tr>\n",
       "      <th>1458</th>\n",
       "      <td>1078</td>\n",
       "      <td>1950</td>\n",
       "    </tr>\n",
       "    <tr>\n",
       "      <th>1459</th>\n",
       "      <td>1256</td>\n",
       "      <td>1965</td>\n",
       "    </tr>\n",
       "  </tbody>\n",
       "</table>\n",
       "<p>1460 rows × 2 columns</p>\n",
       "</div>"
      ],
      "text/plain": [
       "      GrLivArea  YearBuilt\n",
       "0          1710       2003\n",
       "1          1262       1976\n",
       "2          1786       2001\n",
       "3          1717       1915\n",
       "4          2198       2000\n",
       "...         ...        ...\n",
       "1455       1647       1999\n",
       "1456       2073       1978\n",
       "1457       2340       1941\n",
       "1458       1078       1950\n",
       "1459       1256       1965\n",
       "\n",
       "[1460 rows x 2 columns]"
      ]
     },
     "execution_count": 3,
     "metadata": {},
     "output_type": "execute_result"
    }
   ],
   "source": [
    "data = pd.read_csv(\"train.csv\")\n",
    "data.loc[:,[\"GrLivArea\",\"YearBuilt\"]]\n",
    "# data"
   ]
  },
  {
   "cell_type": "code",
   "execution_count": 4,
   "id": "dynamic-february",
   "metadata": {},
   "outputs": [
    {
     "data": {
      "text/plain": [
       "0       208500\n",
       "1       181500\n",
       "2       223500\n",
       "3       140000\n",
       "4       250000\n",
       "         ...  \n",
       "1455    175000\n",
       "1456    210000\n",
       "1457    266500\n",
       "1458    142125\n",
       "1459    147500\n",
       "Name: SalePrice, Length: 1460, dtype: int64"
      ]
     },
     "execution_count": 4,
     "metadata": {},
     "output_type": "execute_result"
    }
   ],
   "source": [
    "data.loc[:,\"SalePrice\"]"
   ]
  },
  {
   "cell_type": "markdown",
   "id": "urban-pearl",
   "metadata": {},
   "source": [
    "## Problem 2: Estimation and evaluation by linear regression\n",
    "Easily analyze and pre-process your data, then create and run a series of Linear regression training, estimation, evaluation, and visualization.\n",
    "\n",
    "For regression problems, it is common to use Mean Squared Error (MSE) as an index value for evaluation.\n",
    "\n",
    "Visualization can be done by the features on the horizontal axis and the estimated house price on the vertical axis.\n",
    "Use scatter to create a graph that allows you to compare the actual data with the predicted results."
   ]
  },
  {
   "cell_type": "markdown",
   "id": "original-bicycle",
   "metadata": {},
   "source": [
    "### Libs"
   ]
  },
  {
   "cell_type": "code",
   "execution_count": 5,
   "id": "alleged-database",
   "metadata": {},
   "outputs": [],
   "source": [
    "import numpy as np\n",
    "from sklearn.linear_model import LinearRegression\n",
    "from sklearn.model_selection import train_test_split\n",
    "from sklearn.metrics import mean_squared_error\n",
    "import seaborn as sns\n",
    "import matplotlib.pyplot as plt"
   ]
  },
  {
   "cell_type": "markdown",
   "id": "parliamentary-language",
   "metadata": {},
   "source": [
    "### Train and Test sets split"
   ]
  },
  {
   "cell_type": "code",
   "execution_count": 6,
   "id": "severe-lobby",
   "metadata": {},
   "outputs": [],
   "source": [
    "my_X = data.loc[:,[\"GrLivArea\",\"YearBuilt\"]]\n",
    "my_Y =data.loc[:,\"SalePrice\"]\n",
    "X_train, X_test, y_train, y_test = train_test_split( np.array(my_X), np.array(my_Y), test_size=0.25, random_state=42)"
   ]
  },
  {
   "cell_type": "markdown",
   "id": "temporal-double",
   "metadata": {},
   "source": [
    "### Learn"
   ]
  },
  {
   "cell_type": "code",
   "execution_count": 94,
   "id": "israeli-accounting",
   "metadata": {},
   "outputs": [],
   "source": [
    "reg = LinearRegression().fit(X_train[:,0].reshape(-1, 1), y_train)"
   ]
  },
  {
   "cell_type": "markdown",
   "id": "crucial-scale",
   "metadata": {},
   "source": [
    "### Predict"
   ]
  },
  {
   "cell_type": "code",
   "execution_count": 96,
   "id": "solid-jenny",
   "metadata": {},
   "outputs": [],
   "source": [
    "y_predict = reg.predict(X_test[:,0].reshape(-1, 1))"
   ]
  },
  {
   "cell_type": "markdown",
   "id": "interracial-bradford",
   "metadata": {},
   "source": [
    "### Evaluation "
   ]
  },
  {
   "cell_type": "code",
   "execution_count": 97,
   "id": "talented-victor",
   "metadata": {},
   "outputs": [
    {
     "data": {
      "text/plain": [
       "3118447791.9869394"
      ]
     },
     "execution_count": 97,
     "metadata": {},
     "output_type": "execute_result"
    }
   ],
   "source": [
    "mean_squared_error(y_test,y_predict)"
   ]
  },
  {
   "cell_type": "markdown",
   "id": "mobile-passage",
   "metadata": {},
   "source": [
    "### Visualization"
   ]
  },
  {
   "cell_type": "code",
   "execution_count": 99,
   "id": "continued-composite",
   "metadata": {},
   "outputs": [
    {
     "data": {
      "image/png": "[encoded data removed]",
      "text/plain": [
       "<Figure size 432x288 with 1 Axes>"
      ]
     },
     "metadata": {
      "needs_background": "light"
     },
     "output_type": "display_data"
    }
   ],
   "source": [
    "plt.scatter(X_test[:,0], y_test, c=\"Red\",label=\"True Price\")\n",
    "plt.plot(X_test[:,0], y_predict, c=\"Blue\",label=\"Predict\")\n",
    "# plt.plot\n",
    "plt.xlabel(\"Area\")\n",
    "plt.ylabel(\"Price\")\n",
    "plt.figlegend()\n",
    "plt.show()\n"
   ]
  },
  {
   "cell_type": "markdown",
   "id": "rising-clerk",
   "metadata": {},
   "source": [
    "## Problem 3: Comparison of methods\n",
    "Learn, estimate, evaluate, and visualize all of the following methods. Then, summarize the index values ​​in one table. Take a brief look at the results using the table and the visualized diagram. Please state which method was good for which index value and what kind of figure it was.\n",
    "\n",
    "<li> Linear regression\n",
    "<li> SVM\n",
    "<li> Decision tree\n",
    "<li> Random forest </li>\n",
    "    \n",
    "The link to the official documentation is below. Originally, we will perform parameter tuning, but let's run with the default values first.\n",
    "\n",
    "SVM, decision tree, and random forest are the same methods used in the classification problem, but there are separate libraries dedicated to each for the regression problem."
   ]
  },
  {
   "cell_type": "markdown",
   "id": "rural-graduate",
   "metadata": {},
   "source": [
    "##  Using GrLivArea field"
   ]
  },
  {
   "cell_type": "markdown",
   "id": "criminal-peeing",
   "metadata": {},
   "source": [
    "### Linear regression"
   ]
  },
  {
   "cell_type": "code",
   "execution_count": 101,
   "id": "composite-relaxation",
   "metadata": {},
   "outputs": [
    {
     "name": "stdout",
     "output_type": "stream",
     "text": [
      "MSE: 3118447791.9869394\n"
     ]
    },
    {
     "data": {
      "image/png": "[encoded data removed]",
      "text/plain": [
       "<Figure size 432x288 with 1 Axes>"
      ]
     },
     "metadata": {
      "needs_background": "light"
     },
     "output_type": "display_data"
    }
   ],
   "source": [
    "reg = LinearRegression().fit(X_train[:,0].reshape(-1, 1), y_train)\n",
    "y_predict = reg.predict(X_test[:,0].reshape(-1, 1))\n",
    "print(\"MSE:\",mean_squared_error(y_test,y_predict))\n",
    "ln1 = mean_squared_error(y_test,y_predict)\n",
    "plt.scatter(X_test[:,0], y_test, c=\"Red\",label=\"True Price\")\n",
    "plt.plot(X_test[:,0], y_predict, c=\"Blue\",label=\"Predict\")\n",
    "plt.xlabel(\"Area\")\n",
    "plt.ylabel(\"Price\")\n",
    "plt.figlegend()\n",
    "plt.show()"
   ]
  },
  {
   "cell_type": "markdown",
   "id": "honey-louisiana",
   "metadata": {},
   "source": [
    "### SVM"
   ]
  },
  {
   "cell_type": "code",
   "execution_count": 62,
   "id": "animated-february",
   "metadata": {},
   "outputs": [],
   "source": [
    "from sklearn.svm import SVR\n",
    "from sklearn.pipeline import make_pipeline\n",
    "from sklearn.preprocessing import StandardScaler"
   ]
  },
  {
   "cell_type": "code",
   "execution_count": 104,
   "id": "centered-essay",
   "metadata": {
    "scrolled": true
   },
   "outputs": [
    {
     "name": "stdout",
     "output_type": "stream",
     "text": [
      "MSE: 7171137498.473831\n"
     ]
    },
    {
     "data": {
      "image/png": "[encoded data removed]",
      "text/plain": [
       "<Figure size 432x288 with 1 Axes>"
      ]
     },
     "metadata": {
      "needs_background": "light"
     },
     "output_type": "display_data"
    }
   ],
   "source": [
    "regr = make_pipeline(StandardScaler(), SVR(C=1.0, epsilon=0.2))\n",
    "regr.fit(X_train[:,0].reshape(-1, 1), y_train)\n",
    "y_predict_svm = regr.predict(X_test[:,0].reshape(-1, 1))\n",
    "print(\"MSE:\",mean_squared_error(y_test,y_predict_svm))\n",
    "svm1 = mean_squared_error(y_test,y_predict_svm)\n",
    "plt.scatter(X_test[:,0], y_test, c=\"Red\",label=\"True Price\")\n",
    "plt.plot(X_test[:,0], y_predict_svm, c=\"Blue\",label=\"Predict\")\n",
    "plt.xlabel(\"Area\")\n",
    "plt.ylabel(\"Price\")\n",
    "plt.figlegend()\n",
    "plt.show()"
   ]
  },
  {
   "cell_type": "markdown",
   "id": "danish-oxford",
   "metadata": {},
   "source": [
    "### Decision tree"
   ]
  },
  {
   "cell_type": "code",
   "execution_count": 71,
   "id": "ruled-kennedy",
   "metadata": {},
   "outputs": [],
   "source": [
    "from sklearn.tree import DecisionTreeRegressor"
   ]
  },
  {
   "cell_type": "code",
   "execution_count": 113,
   "id": "labeled-theta",
   "metadata": {},
   "outputs": [
    {
     "name": "stdout",
     "output_type": "stream",
     "text": [
      "MSE: 4595868138.839861\n"
     ]
    },
    {
     "data": {
      "image/png": "[encoded data removed]",
      "text/plain": [
       "<Figure size 432x288 with 1 Axes>"
      ]
     },
     "metadata": {
      "needs_background": "light"
     },
     "output_type": "display_data"
    }
   ],
   "source": [
    "regressor = DecisionTreeRegressor(random_state=0)\n",
    "regressor.fit(X_train[:,0].reshape(-1, 1), y_train)\n",
    "y_predict_dt = regressor.predict(X_test[:,0].reshape(-1, 1))\n",
    "print(\"MSE:\",mean_squared_error(y_test,y_predict_dt))\n",
    "dt1 = mean_squared_error(y_test,y_predict_dt)\n",
    "plt.scatter(X_test[:,0], y_test, c=\"Red\",label=\"True Price\")\n",
    "plt.scatter(X_test[:,0], y_predict_dt, c=\"Blue\",label=\"Predict\")\n",
    "plt.xlabel(\"Area\")\n",
    "plt.ylabel(\"Price\")\n",
    "plt.figlegend()\n",
    "plt.show()"
   ]
  },
  {
   "cell_type": "markdown",
   "id": "authorized-stanford",
   "metadata": {},
   "source": [
    "### Random forest"
   ]
  },
  {
   "cell_type": "code",
   "execution_count": 74,
   "id": "compressed-exclusive",
   "metadata": {},
   "outputs": [],
   "source": [
    "from sklearn.ensemble import RandomForestRegressor\n",
    "from sklearn.datasets import make_regression"
   ]
  },
  {
   "cell_type": "code",
   "execution_count": 112,
   "id": "entertaining-growing",
   "metadata": {
    "scrolled": true
   },
   "outputs": [
    {
     "name": "stdout",
     "output_type": "stream",
     "text": [
      "MSE: 3419859358.226372\n"
     ]
    },
    {
     "data": {
      "image/png": "[encoded data removed]",
      "text/plain": [
       "<Figure size 432x288 with 1 Axes>"
      ]
     },
     "metadata": {
      "needs_background": "light"
     },
     "output_type": "display_data"
    }
   ],
   "source": [
    "regr = RandomForestRegressor(max_depth=2, random_state=0)\n",
    "regr.fit(X_train[:,0].reshape(-1, 1), y_train)\n",
    "y_predict_rf = regr.predict(X_test[:,0].reshape(-1, 1))\n",
    "print(\"MSE:\",mean_squared_error(y_test,y_predict_rf))\n",
    "rf1 = mean_squared_error(y_test,y_predict_rf)\n",
    "plt.scatter(X_test[:,0], y_test, c=\"Red\",label=\"True Price\")\n",
    "plt.scatter(X_test[:,0], y_predict_rf, c=\"Blue\",label=\"Predict\")\n",
    "plt.xlabel(\"Area\")\n",
    "plt.ylabel(\"Price\")\n",
    "plt.figlegend()\n",
    "plt.show()"
   ]
  },
  {
   "cell_type": "markdown",
   "id": "earlier-sending",
   "metadata": {},
   "source": [
    "## Using YearBuilt field"
   ]
  },
  {
   "cell_type": "code",
   "execution_count": 12,
   "id": "stupid-victim",
   "metadata": {},
   "outputs": [],
   "source": [
    "my_X = data.loc[:,[\"GrLivArea\",\"YearBuilt\"]]\n",
    "my_Y =data.loc[:,\"SalePrice\"]\n",
    "X_train, X_test, y_train, y_test = train_test_split( np.array(my_X), np.array(my_Y), test_size=0.25, random_state=42)"
   ]
  },
  {
   "cell_type": "markdown",
   "id": "fleet-opening",
   "metadata": {},
   "source": [
    "### Linear Regression"
   ]
  },
  {
   "cell_type": "code",
   "execution_count": 115,
   "id": "polish-booking",
   "metadata": {
    "scrolled": true
   },
   "outputs": [
    {
     "name": "stdout",
     "output_type": "stream",
     "text": [
      "MSE: 5037617329.528072\n"
     ]
    },
    {
     "data": {
      "image/png": "[encoded data removed]",
      "text/plain": [
       "<Figure size 432x288 with 1 Axes>"
      ]
     },
     "metadata": {
      "needs_background": "light"
     },
     "output_type": "display_data"
    }
   ],
   "source": [
    "reg = LinearRegression().fit(X_train[:,1].reshape(-1, 1), y_train)\n",
    "y_predict = reg.predict(X_test[:,1].reshape(-1, 1))\n",
    "lr2 = mean_squared_error(y_test,y_predict)\n",
    "print(\"MSE:\",lr2)\n",
    "plt.scatter(X_test[:,1], y_test, c=\"Red\",label=\"True Price\")\n",
    "plt.plot(X_test[:,1], y_predict, c=\"Blue\",label=\"Predict\")\n",
    "plt.xlabel(\"Area\")\n",
    "plt.ylabel(\"Price\")\n",
    "plt.figlegend()\n",
    "plt.show()"
   ]
  },
  {
   "cell_type": "markdown",
   "id": "confused-colonial",
   "metadata": {},
   "source": [
    "### SVM"
   ]
  },
  {
   "cell_type": "code",
   "execution_count": 15,
   "id": "better-missouri",
   "metadata": {},
   "outputs": [],
   "source": [
    "from sklearn.svm import SVR\n",
    "from sklearn.pipeline import make_pipeline\n",
    "from sklearn.preprocessing import StandardScaler"
   ]
  },
  {
   "cell_type": "code",
   "execution_count": 118,
   "id": "meaningful-swiss",
   "metadata": {
    "scrolled": true
   },
   "outputs": [
    {
     "name": "stdout",
     "output_type": "stream",
     "text": [
      "MSE: 7166030188.017618\n"
     ]
    },
    {
     "data": {
      "image/png": "[encoded data removed]",
      "text/plain": [
       "<Figure size 432x288 with 1 Axes>"
      ]
     },
     "metadata": {
      "needs_background": "light"
     },
     "output_type": "display_data"
    }
   ],
   "source": [
    "regr = make_pipeline(StandardScaler(), SVR(C=1.0, epsilon=0.2))\n",
    "regr.fit(X_train[:,1].reshape(-1, 1), y_train)\n",
    "y_predict_svm = regr.predict(X_test[:,1].reshape(-1, 1))\n",
    "print(\"MSE:\",mean_squared_error(y_test,y_predict_svm))\n",
    "svm2 = mean_squared_error(y_test,y_predict_svm)\n",
    "plt.scatter(X_test[:,1], y_test, c=\"Red\",label=\"True Price\")\n",
    "plt.plot(X_test[:,1], y_predict_svm, c=\"Blue\",label=\"Predict\")\n",
    "plt.xlabel(\"Area\")\n",
    "plt.ylabel(\"Price\")\n",
    "plt.figlegend()\n",
    "plt.show()"
   ]
  },
  {
   "cell_type": "markdown",
   "id": "embedded-preserve",
   "metadata": {},
   "source": [
    "### Decision Tree "
   ]
  },
  {
   "cell_type": "code",
   "execution_count": 119,
   "id": "gross-greensboro",
   "metadata": {
    "scrolled": true
   },
   "outputs": [
    {
     "name": "stdout",
     "output_type": "stream",
     "text": [
      "MSE: 2321866987.737291\n"
     ]
    },
    {
     "data": {
      "image/png": "[encoded data removed]",
      "text/plain": [
       "<Figure size 432x288 with 1 Axes>"
      ]
     },
     "metadata": {
      "needs_background": "light"
     },
     "output_type": "display_data"
    }
   ],
   "source": [
    "from sklearn.tree import DecisionTreeRegressor\n",
    "regressor = DecisionTreeRegressor(random_state=0)\n",
    "regressor.fit(X_train, y_train)\n",
    "y_predict_dt = regressor.predict(X_test)\n",
    "print(\"MSE:\",mean_squared_error(y_test,y_predict_dt))\n",
    "dt2 = mean_squared_error(y_test,y_predict_dt)\n",
    "plt.scatter(X_test[:,0], y_test, c=\"Red\",label=\"True Price\")\n",
    "plt.scatter(X_test[:,0], y_predict_dt, c=\"Blue\",label=\"Predict\")\n",
    "plt.xlabel(\"Area\")\n",
    "plt.ylabel(\"Price\")\n",
    "plt.figlegend()\n",
    "plt.show()"
   ]
  },
  {
   "cell_type": "markdown",
   "id": "owned-baptist",
   "metadata": {},
   "source": [
    "### Random Forest"
   ]
  },
  {
   "cell_type": "code",
   "execution_count": 28,
   "id": "exceptional-cassette",
   "metadata": {
    "scrolled": true
   },
   "outputs": [
    {
     "name": "stdout",
     "output_type": "stream",
     "text": [
      "MSE: 2806352490.9609694\n"
     ]
    },
    {
     "data": {
      "image/png": "[encoded data removed]",
      "text/plain": [
       "<Figure size 432x288 with 1 Axes>"
      ]
     },
     "metadata": {
      "needs_background": "light"
     },
     "output_type": "display_data"
    }
   ],
   "source": [
    "from sklearn.ensemble import RandomForestRegressor\n",
    "from sklearn.datasets import make_regression\n",
    "regr = RandomForestRegressor(max_depth=2, random_state=0)\n",
    "regr.fit(X_train, y_train)\n",
    "y_predict_rf = regr.predict(X_test)\n",
    "print(\"MSE:\",mean_squared_error(y_test,y_predict_rf))\n",
    "rf2 = mean_squared_error(y_test,y_predict_rf)\n",
    "plt.scatter(X_test[:,0], y_test, c=\"Red\",label=\"True Price\")\n",
    "plt.scatter(X_test[:,0], y_predict_rf, c=\"Blue\",label=\"Predict\")\n",
    "plt.xlabel(\"Area\")\n",
    "plt.ylabel(\"Price\")\n",
    "plt.figlegend()\n",
    "plt.show()"
   ]
  },
  {
   "cell_type": "markdown",
   "id": "recovered-brighton",
   "metadata": {},
   "source": [
    "Mean Square Error Comparison"
   ]
  },
  {
   "cell_type": "code",
   "execution_count": 69,
   "id": "ethical-wisconsin",
   "metadata": {},
   "outputs": [
    {
     "data": {
      "text/html": [
       "<div>\n",
       "<style scoped>\n",
       "    .dataframe tbody tr th:only-of-type {\n",
       "        vertical-align: middle;\n",
       "    }\n",
       "\n",
       "    .dataframe tbody tr th {\n",
       "        vertical-align: top;\n",
       "    }\n",
       "\n",
       "    .dataframe thead th {\n",
       "        text-align: right;\n",
       "    }\n",
       "</style>\n",
       "<table border=\"1\" class=\"dataframe\">\n",
       "  <thead>\n",
       "    <tr style=\"text-align: right;\">\n",
       "      <th></th>\n",
       "      <th>GrLivArea</th>\n",
       "      <th>YearBuilt</th>\n",
       "    </tr>\n",
       "  </thead>\n",
       "  <tbody>\n",
       "    <tr>\n",
       "      <th>Linear Regression</th>\n",
       "      <td>2.314465e+09</td>\n",
       "      <td>2.314465e+09</td>\n",
       "    </tr>\n",
       "    <tr>\n",
       "      <th>SVM</th>\n",
       "      <td>7.169220e+09</td>\n",
       "      <td>7.169220e+09</td>\n",
       "    </tr>\n",
       "    <tr>\n",
       "      <th>Decision Tree</th>\n",
       "      <td>2.321867e+09</td>\n",
       "      <td>2.321867e+09</td>\n",
       "    </tr>\n",
       "    <tr>\n",
       "      <th>Random Forest</th>\n",
       "      <td>2.806352e+09</td>\n",
       "      <td>2.806352e+09</td>\n",
       "    </tr>\n",
       "  </tbody>\n",
       "</table>\n",
       "</div>"
      ],
      "text/plain": [
       "                      GrLivArea     YearBuilt\n",
       "Linear Regression  2.314465e+09  2.314465e+09\n",
       "SVM                7.169220e+09  7.169220e+09\n",
       "Decision Tree      2.321867e+09  2.321867e+09\n",
       "Random Forest      2.806352e+09  2.806352e+09"
      ]
     },
     "execution_count": 69,
     "metadata": {},
     "output_type": "execute_result"
    }
   ],
   "source": [
    "field1 = {'Linear Regression': ln1,\n",
    "                   'SVM': svm1,\n",
    "                   'Decision Tree': dt1,\n",
    "                   'Random Forest': rf1,\n",
    "                   }\n",
    "GrLivArea = pd.Series(field1)\n",
    "field2 = {'Linear Regression': lr2,\n",
    "                   'SVM': svm2,\n",
    "                   'Decision Tree': dt2,\n",
    "                   'Random Forest': rf2,\n",
    "                   }\n",
    "YearBuilt = pd.Series(field2)\n",
    "compare = pd.DataFrame({'GrLivArea': GrLivArea,\n",
    "                       'YearBuilt': YearBuilt})\n",
    "compare"
   ]
  },
  {
   "cell_type": "markdown",
   "id": "compressed-jacket",
   "metadata": {},
   "source": [
    "## Problem 4: (Advance assignment) Learning using other features\n",
    "So far we have used only two features for practice, but please verify what happens when you add other features. Data analysis will be important for how to select and process them.\n",
    "\n",
    "You can also refer to Kaggle's Notebooks."
   ]
  },
  {
   "cell_type": "markdown",
   "id": "boolean-whale",
   "metadata": {},
   "source": [
    "### I will select a different feature that is LotArea because this one is numerical values"
   ]
  },
  {
   "cell_type": "code",
   "execution_count": 164,
   "id": "executed-mapping",
   "metadata": {},
   "outputs": [],
   "source": [
    "X = data.loc[:,[\"LotArea\"]]\n",
    "Y =data.loc[:,\"SalePrice\"]"
   ]
  },
  {
   "cell_type": "code",
   "execution_count": 165,
   "id": "painted-canberra",
   "metadata": {
    "scrolled": true
   },
   "outputs": [
    {
     "data": {
      "text/html": [
       "<div>\n",
       "<style scoped>\n",
       "    .dataframe tbody tr th:only-of-type {\n",
       "        vertical-align: middle;\n",
       "    }\n",
       "\n",
       "    .dataframe tbody tr th {\n",
       "        vertical-align: top;\n",
       "    }\n",
       "\n",
       "    .dataframe thead th {\n",
       "        text-align: right;\n",
       "    }\n",
       "</style>\n",
       "<table border=\"1\" class=\"dataframe\">\n",
       "  <thead>\n",
       "    <tr style=\"text-align: right;\">\n",
       "      <th></th>\n",
       "      <th>LotArea</th>\n",
       "    </tr>\n",
       "  </thead>\n",
       "  <tbody>\n",
       "    <tr>\n",
       "      <th>0</th>\n",
       "      <td>8450</td>\n",
       "    </tr>\n",
       "    <tr>\n",
       "      <th>1</th>\n",
       "      <td>9600</td>\n",
       "    </tr>\n",
       "    <tr>\n",
       "      <th>2</th>\n",
       "      <td>11250</td>\n",
       "    </tr>\n",
       "    <tr>\n",
       "      <th>3</th>\n",
       "      <td>9550</td>\n",
       "    </tr>\n",
       "    <tr>\n",
       "      <th>4</th>\n",
       "      <td>14260</td>\n",
       "    </tr>\n",
       "    <tr>\n",
       "      <th>...</th>\n",
       "      <td>...</td>\n",
       "    </tr>\n",
       "    <tr>\n",
       "      <th>1455</th>\n",
       "      <td>7917</td>\n",
       "    </tr>\n",
       "    <tr>\n",
       "      <th>1456</th>\n",
       "      <td>13175</td>\n",
       "    </tr>\n",
       "    <tr>\n",
       "      <th>1457</th>\n",
       "      <td>9042</td>\n",
       "    </tr>\n",
       "    <tr>\n",
       "      <th>1458</th>\n",
       "      <td>9717</td>\n",
       "    </tr>\n",
       "    <tr>\n",
       "      <th>1459</th>\n",
       "      <td>9937</td>\n",
       "    </tr>\n",
       "  </tbody>\n",
       "</table>\n",
       "<p>1460 rows × 1 columns</p>\n",
       "</div>"
      ],
      "text/plain": [
       "      LotArea\n",
       "0        8450\n",
       "1        9600\n",
       "2       11250\n",
       "3        9550\n",
       "4       14260\n",
       "...       ...\n",
       "1455     7917\n",
       "1456    13175\n",
       "1457     9042\n",
       "1458     9717\n",
       "1459     9937\n",
       "\n",
       "[1460 rows x 1 columns]"
      ]
     },
     "execution_count": 165,
     "metadata": {},
     "output_type": "execute_result"
    }
   ],
   "source": [
    "X"
   ]
  },
  {
   "cell_type": "code",
   "execution_count": 166,
   "id": "emerging-navigation",
   "metadata": {
    "scrolled": true
   },
   "outputs": [
    {
     "data": {
      "text/plain": [
       "0       208500\n",
       "1       181500\n",
       "2       223500\n",
       "3       140000\n",
       "4       250000\n",
       "         ...  \n",
       "1455    175000\n",
       "1456    210000\n",
       "1457    266500\n",
       "1458    142125\n",
       "1459    147500\n",
       "Name: SalePrice, Length: 1460, dtype: int64"
      ]
     },
     "execution_count": 166,
     "metadata": {},
     "output_type": "execute_result"
    }
   ],
   "source": [
    "Y"
   ]
  },
  {
   "cell_type": "markdown",
   "id": "common-memorabilia",
   "metadata": {},
   "source": [
    "### Analyze data"
   ]
  },
  {
   "cell_type": "code",
   "execution_count": 171,
   "id": "continuing-berkeley",
   "metadata": {},
   "outputs": [
    {
     "data": {
      "image/png": "[encoded data removed]",
      "text/plain": [
       "<Figure size 432x288 with 1 Axes>"
      ]
     },
     "metadata": {
      "needs_background": "light"
     },
     "output_type": "display_data"
    }
   ],
   "source": [
    "import seaborn as sns\n",
    "ax = sns.boxplot(x=\"LotArea\", data=X)"
   ]
  },
  {
   "cell_type": "code",
   "execution_count": 172,
   "id": "therapeutic-christopher",
   "metadata": {},
   "outputs": [
    {
     "data": {
      "image/png": "[encoded data removed]",
      "text/plain": [
       "<Figure size 432x288 with 1 Axes>"
      ]
     },
     "metadata": {
      "needs_background": "light"
     },
     "output_type": "display_data"
    }
   ],
   "source": [
    "ax = sns.violinplot(x=\"LotArea\", data=X)"
   ]
  },
  {
   "cell_type": "markdown",
   "id": "express-salem",
   "metadata": {},
   "source": [
    "Data tend to be right skew and not follow the normal distribution"
   ]
  },
  {
   "cell_type": "markdown",
   "id": "anonymous-excuse",
   "metadata": {},
   "source": [
    "### Regression Process"
   ]
  },
  {
   "cell_type": "code",
   "execution_count": 163,
   "id": "vulnerable-fighter",
   "metadata": {},
   "outputs": [
    {
     "data": {
      "image/png": "[encoded data removed]",
      "text/plain": [
       "<Figure size 432x288 with 1 Axes>"
      ]
     },
     "metadata": {
      "needs_background": "light"
     },
     "output_type": "display_data"
    }
   ],
   "source": [
    "\n",
    "X_train, X_test, y_train, y_test = train_test_split( np.array(X), np.array(Y), test_size=0.25, random_state=42)\n",
    "reg = LinearRegression().fit(X_train, y_train)\n",
    "y_predict = reg.predict(X_test)\n",
    "plt.scatter(X_test, y_test, c=\"Red\",label=\"True Price\")\n",
    "plt.plot(X_test, y_predict, c=\"Blue\",label=\"Predict\")\n",
    "plt.xlabel(\"Area\")\n",
    "plt.ylabel(\"LotArea\")\n",
    "plt.figlegend()\n",
    "plt.show()"
   ]
  }
 ],
 "metadata": {
  "kernelspec": {
   "display_name": "Python 3",
   "language": "python",
   "name": "python3"
  },
  "language_info": {
   "codemirror_mode": {
    "name": "ipython",
    "version": 3
   },
   "file_extension": ".py",
   "mimetype": "text/x-python",
   "name": "python",
   "nbconvert_exporter": "python",
   "pygments_lexer": "ipython3",
   "version": "3.7.10"
  }
 },
 "nbformat": 4,
 "nbformat_minor": 5
}
