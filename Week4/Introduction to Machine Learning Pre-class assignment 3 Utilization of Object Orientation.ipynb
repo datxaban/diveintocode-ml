{
 "cells": [
  {
   "cell_type": "markdown",
   "id": "amateur-smell",
   "metadata": {},
   "source": [
    "# Object-oriented\n",
    "Although we have not mentioned them in the previous assignments, classes such as StandardScaler and LinearRegression are available in programming languages like Python.​​\n",
    "\n",
    "\n",
    "The class syntax is a basic tool for programming using a concept called object orientation.\n",
    "\n",
    "\n",
    "In this assignment, we will use the classes that have already appeared so far as examples to see and learn what we can do with them. In the second half of the assignment, you will create your ownStandardScaler class from scratch."
   ]
  },
  {
   "cell_type": "markdown",
   "id": "august-silver",
   "metadata": {},
   "source": [
    "## Standardized class of scikit-learn\n",
    "We will look at an example of StandardScaler, a class for standardization provided in scikit-learn. We have prepared a sample code to help you understand it.\n",
    "```python\n",
    "import numpy as np\n",
    "from sklearn.preprocessing import StandardScaler\n",
    "from sklearn.datasets import load_iris\n",
    "data = load_iris()\n",
    "X = data.data[:10]\n",
    "scaler = StandardScaler()\n",
    "scaler.fit(X)\n",
    "print(\"平均 :\", scaler.mean_)\n",
    "print(\"分散 :\", scaler.var_)\n",
    "X_std = scaler.transform(X)\n",
    "```"
   ]
  },
  {
   "cell_type": "markdown",
   "id": "noticed-short",
   "metadata": {},
   "source": [
    "## Problem 1: Enumeration of classes used so far\n",
    "Now, you know that you must instantiate a class when you use it, and you know how to name a class. Based on this information, please answer what classes you have seen in the code you have used in previous assignments.\n",
    "\n",
    "\n",
    "Find one or more each from Pandas, matplotlib, and scikit-learn.\n",
    "### Method\n",
    "\n",
    "After instantiation, you can execute methods such as scaler.fit(X). The fit method of StandardScaler has the ability to calculate the mean and standard deviation which will be used later for scaling.​\n",
    "\n",
    "### Instance variable (attribute)\n",
    "\n",
    "Thefit method has computed the mean and standard deviation, but there is no apparent change. However, inside the scaler instance, the calculation results are stored. These instances that store values are called instance variables or attributes. Here, the mean is stored inscaler.mean_and the variance, which is the squared value of the standard deviation, is storedscaler.var_.\n",
    "\n",
    "\n",
    "The following print statement can be used to output the data.\n",
    "\n",
    "```python\n",
    "print(\"平均 : {}\".format(scaler.mean_)) # 平均 : [4.86 3.31 1.45 0.22]\n",
    "print(\"分散 : {}\".format(scaler.var_)) # 分散 : [0.0764 0.0849 0.0105 0.0056]\n",
    "```\n",
    "### Method and instance variable naming method\n",
    "As with functions, methods and instance variables are named in all lowercase letters. Put an underscore when connecting words"
   ]
  },
  {
   "cell_type": "code",
   "execution_count": 2,
   "id": "turkish-middle",
   "metadata": {},
   "outputs": [
    {
     "name": "stdout",
     "output_type": "stream",
     "text": [
      "平均 : [4.86 3.31 1.45 0.22]\n",
      "分散 : [0.0764 0.0849 0.0105 0.0056]\n"
     ]
    }
   ],
   "source": [
    "import numpy as np\n",
    "from sklearn.preprocessing import StandardScaler\n",
    "from sklearn.datasets import load_iris\n",
    "data = load_iris()\n",
    "X = data.data[:10]\n",
    "scaler = StandardScaler()\n",
    "scaler.fit(X)\n",
    "print(\"平均 :\", scaler.mean_)\n",
    "print(\"分散 :\", scaler.var_)\n",
    "X_std = scaler.transform(X)"
   ]
  },
  {
   "cell_type": "markdown",
   "id": "funky-links",
   "metadata": {},
   "source": [
    "### Pandas:\n",
    "<li> DataFrame"
   ]
  },
  {
   "cell_type": "markdown",
   "id": "cheap-rouge",
   "metadata": {},
   "source": [
    "### matplotlib\n",
    "\n",
    "<li> pyplot"
   ]
  },
  {
   "cell_type": "markdown",
   "id": "applicable-bahamas",
   "metadata": {},
   "source": [
    "### scikit-learn\n",
    "\n",
    "<li> LinearRegression()\n",
    "<li> StandardScaler\n",
    "<li> DecisionTreeRegressor\n",
    "<li> RandomForestRegressor\n",
    "<li> SVR"
   ]
  },
  {
   "cell_type": "markdown",
   "id": "existing-thriller",
   "metadata": {},
   "source": [
    "## Problem 2: Enumeration of methods and instance variables used so far\n",
    "\n",
    "Please explain what kind of method and instance variable were used in the code that you have used in the previous assignments.\n",
    "\n",
    "\n",
    "Please answer at least 5 of each.\n",
    "\n",
    "\n",
    "**《Ndarray and str are also instances》**\n",
    "\n",
    "\n",
    "When it comes to dotting, you have probably usedndarray.shapeandndarray.sum() for NumPy's ndarray many times. This means that ndarray is also an instance object,shapeis an instance variable, and sumis a method.\n",
    "\n",
    "\n",
    "Any data that appears in Python code is an instance object, and list and str also have methods.\n"
   ]
  },
  {
   "cell_type": "markdown",
   "id": "placed-trade",
   "metadata": {},
   "source": [
    "### Some instance variable:\n",
    "<li> numpy shape\n",
    "<li> iris_data.filename\n",
    "<li> iris_data.target\n",
    "<li> iris_data.feature_names\n",
    "<li> iris_data.target_names\n",
    "    \n",
    "### Some method:\n",
    "<li> pandas concat\n",
    "<li> pandas query with loc and iloc\n",
    "<li> seaborn pairplot\n",
    "<li> seaborn scatter plot\n",
    "<li> seaborn box plot\n",
    "<li> seaborn violin plot\n",
    "<li> train_test_split\n",
    "<li> sklearn fit\n",
    "<li> sklearn transform\n",
    "<li> sklearn predict"
   ]
  },
  {
   "cell_type": "markdown",
   "id": "statewide-going",
   "metadata": {},
   "source": [
    "## Problem 3: Creating a standardized class by scratch\n",
    "For better understanding, let's create a StandardScaler from scratch, not using scikit-learn, but using NumPy and other tools to describe the standardization calculations. We will create the fit and transform methods.\n",
    "\n",
    "\n",
    "This time, we have prepared a template. The way to create a class is similar to a function. Methods are written in the class with a further indentation down.\n",
    "\n",
    "\n",
    "When you create an instance variable, add self to it, as in self.mean_. The part of scaler that was written asscaler.mean_from outside the class is now self, which represents yourself.\n",
    "\n",
    "```python\n",
    "class ScratchStandardScaler():\n",
    "    \"\"\"\n",
    "    標準化のためのクラス\n",
    "    Attributes\n",
    "    ----------\n",
    "    mean_ : 次の形のndarray, shape(n_features,)\n",
    "        平均\n",
    "    var_ : 次の形のndarray, shape(n_features,)\n",
    "        分散\n",
    "    \"\"\"\n",
    "    def fit(self, X):\n",
    "        \"\"\"\n",
    "        標準化のために平均と標準偏差を計算する。\n",
    "        Parameters\n",
    "        ----------\n",
    "        X : 次の形のndarray, shape (n_samples, n_features)\n",
    "            訓練データ\n",
    "        \"\"\"\n",
    "        self.mean_ =\n",
    "        self.var_ =\n",
    "        pass\n",
    "    def transform(self, X):\n",
    "        \"\"\"\n",
    "        fitで求めた値を使い標準化を行う。\n",
    "        Parameters\n",
    "        ----------\n",
    "        X : 次の形のndarray, shape (n_samples, n_features)\n",
    "            Feature value\n",
    "        Returns\n",
    "        ----------\n",
    "        X_scaled : 次の形のndarray, shape (n_samples, n_features)\n",
    "            標準化された特緒量\n",
    "        \"\"\"\n",
    "        pass\n",
    "        return X_scaled\n",
    "```\n",
    "Let's make the following code executable.\n",
    "\n",
    "```python\n",
    "import numpy as np\n",
    "from sklearn.datasets import load_iris\n",
    "data = load_iris()\n",
    "X = data.data[:10]\n",
    "scratch_scaler = ScratchStandardScaler()\n",
    "scratch_scaler.fit(X)\n",
    "print(\"平均 : {}\".format(scratch_scaler.mean_))\n",
    "print(\"分散 : {}\".format(scratch_scaler.var_))\n",
    "X_std = scratch_scaler.transform(X)\n",
    "print(X_std)\n",
    "```\n",
    "\n"
   ]
  },
  {
   "cell_type": "code",
   "execution_count": 26,
   "id": "handled-aluminum",
   "metadata": {},
   "outputs": [],
   "source": [
    "class ScratchStandardScaler():\n",
    "    \"\"\"\n",
    "    標準化のためのクラス\n",
    "    Attributes\n",
    "    ----------\n",
    "    mean_ : 次の形のndarray, shape(n_features,)\n",
    "        平均\n",
    "    var_ : 次の形のndarray, shape(n_features,)\n",
    "        分散\n",
    "    \"\"\"\n",
    "    def fit(self, X):\n",
    "        \"\"\"\n",
    "        標準化のために平均と標準偏差を計算する。\n",
    "        Parameters\n",
    "        ----------\n",
    "        X : 次の形のndarray, shape (n_samples, n_features)\n",
    "            訓練データ\n",
    "        \"\"\"\n",
    "        self.mean_ = np.mean(X,axis=0)\n",
    "        self.var_ = np.var(X,axis=0)\n",
    "        pass\n",
    "    def transform(self, X):\n",
    "        \"\"\"\n",
    "        fitで求めた値を使い標準化を行う。\n",
    "        Parameters\n",
    "        ----------\n",
    "        X : 次の形のndarray, shape (n_samples, n_features)\n",
    "            特徴量\n",
    "        Returns\n",
    "        ----------\n",
    "        X_scaled : 次の形のndarray, shape (n_samples, n_features)\n",
    "            標準化された特緒量\n",
    "        \"\"\"\n",
    "        X_scaled = (X - np.mean(X,axis=0))/np.sqrt(np.var(X,axis=0))\n",
    "        return X_scaled"
   ]
  },
  {
   "cell_type": "code",
   "execution_count": 25,
   "id": "mounted-palmer",
   "metadata": {},
   "outputs": [
    {
     "name": "stdout",
     "output_type": "stream",
     "text": [
      "平均 : [4.86 3.31 1.45 0.22]\n",
      "分散 : [0.0764 0.0849 0.0105 0.0056]\n",
      "[[ 0.86828953  0.65207831 -0.48795004 -0.26726124]\n",
      " [ 0.14471492 -1.06391725 -0.48795004 -0.26726124]\n",
      " [-0.57885968 -0.37751902 -1.46385011 -0.26726124]\n",
      " [-0.94064699 -0.72071813  0.48795004 -0.26726124]\n",
      " [ 0.50650222  0.99527742 -0.48795004 -0.26726124]\n",
      " [ 1.95365143  2.02487476  2.43975018  2.40535118]\n",
      " [-0.94064699  0.3088792  -0.48795004  1.06904497]\n",
      " [ 0.50650222  0.3088792   0.48795004 -0.26726124]\n",
      " [-1.66422159 -1.40711636 -0.48795004 -0.26726124]\n",
      " [ 0.14471492 -0.72071813  0.48795004 -1.60356745]]\n"
     ]
    }
   ],
   "source": [
    "import numpy as np\n",
    "from sklearn.datasets import load_iris\n",
    "data = load_iris()\n",
    "X = data.data[:10]\n",
    "scratch_scaler = ScratchStandardScaler()\n",
    "scratch_scaler.fit(X)\n",
    "print(\"平均 : {}\".format(scratch_scaler.mean_))\n",
    "print(\"分散 : {}\".format(scratch_scaler.var_))\n",
    "X_std = scratch_scaler.transform(X)\n",
    "print(X_std)"
   ]
  },
  {
   "cell_type": "markdown",
   "id": "interpreted-exhaust",
   "metadata": {},
   "source": [
    "## Problem 4: Creating a class that performs 4 arithmetic operations\n",
    "The above ExampleClass has an addition method, but please add subtraction, multiplication, and division methods to it.\n",
    "\n",
    "\n",
    "If the value entered into the constructor is a non-numeric value such as a string or an array, an error should be raised.\n",
    "\n",
    "\n",
    "The class name and description should also be rewritten appropriately."
   ]
  },
  {
   "cell_type": "code",
   "execution_count": 69,
   "id": "ambient-canberra",
   "metadata": {},
   "outputs": [
    {
     "name": "stdout",
     "output_type": "stream",
     "text": [
      "初期値5が設定されました\n",
      "value : 5\n",
      "value : 8\n",
      "value : 5\n",
      "value : 15\n",
      "value : 5.0\n"
     ]
    },
    {
     "ename": "TypeError",
     "evalue": "Only integer and float are allowed",
     "output_type": "error",
     "traceback": [
      "\u001b[1;31m---------------------------------------------------------------------------\u001b[0m",
      "\u001b[1;31mTypeError\u001b[0m                                 Traceback (most recent call last)",
      "\u001b[1;32m<ipython-input-69-8d9522c4c940>\u001b[0m in \u001b[0;36m<module>\u001b[1;34m\u001b[0m\n\u001b[0;32m     41\u001b[0m \u001b[0mexample\u001b[0m\u001b[1;33m.\u001b[0m\u001b[0mdiv\u001b[0m\u001b[1;33m(\u001b[0m\u001b[1;36m3\u001b[0m\u001b[1;33m)\u001b[0m\u001b[1;33m\u001b[0m\u001b[1;33m\u001b[0m\u001b[0m\n\u001b[0;32m     42\u001b[0m \u001b[0mprint\u001b[0m\u001b[1;33m(\u001b[0m\u001b[1;34m\"value : {}\"\u001b[0m\u001b[1;33m.\u001b[0m\u001b[0mformat\u001b[0m\u001b[1;33m(\u001b[0m\u001b[0mexample\u001b[0m\u001b[1;33m.\u001b[0m\u001b[0mvalue\u001b[0m\u001b[1;33m)\u001b[0m\u001b[1;33m)\u001b[0m\u001b[1;33m\u001b[0m\u001b[1;33m\u001b[0m\u001b[0m\n\u001b[1;32m---> 43\u001b[1;33m \u001b[0mexample\u001b[0m \u001b[1;33m=\u001b[0m \u001b[0mOperation\u001b[0m\u001b[1;33m(\u001b[0m\u001b[1;34m\"fe\"\u001b[0m\u001b[1;33m)\u001b[0m\u001b[1;33m\u001b[0m\u001b[1;33m\u001b[0m\u001b[0m\n\u001b[0m",
      "\u001b[1;32m<ipython-input-69-8d9522c4c940>\u001b[0m in \u001b[0;36m__init__\u001b[1;34m(self, value)\u001b[0m\n\u001b[0;32m     16\u001b[0m         \"\"\"\n\u001b[0;32m     17\u001b[0m         \u001b[1;32mif\u001b[0m\u001b[1;33m(\u001b[0m\u001b[0mtype\u001b[0m\u001b[1;33m(\u001b[0m\u001b[0mvalue\u001b[0m\u001b[1;33m)\u001b[0m\u001b[1;33m!=\u001b[0m \u001b[0mint\u001b[0m\u001b[1;33m)\u001b[0m \u001b[1;32mand\u001b[0m \u001b[1;33m(\u001b[0m\u001b[0mtype\u001b[0m\u001b[1;33m(\u001b[0m\u001b[0mvalue\u001b[0m\u001b[1;33m)\u001b[0m\u001b[1;33m!=\u001b[0m\u001b[0mfloat\u001b[0m\u001b[1;33m)\u001b[0m\u001b[1;33m:\u001b[0m\u001b[1;33m\u001b[0m\u001b[1;33m\u001b[0m\u001b[0m\n\u001b[1;32m---> 18\u001b[1;33m             \u001b[1;32mraise\u001b[0m \u001b[0mTypeError\u001b[0m\u001b[1;33m(\u001b[0m\u001b[1;34m\"Only integer and float are allowed\"\u001b[0m\u001b[1;33m)\u001b[0m\u001b[1;33m\u001b[0m\u001b[1;33m\u001b[0m\u001b[0m\n\u001b[0m\u001b[0;32m     19\u001b[0m \u001b[1;33m\u001b[0m\u001b[0m\n\u001b[0;32m     20\u001b[0m         \u001b[0mself\u001b[0m\u001b[1;33m.\u001b[0m\u001b[0mvalue\u001b[0m \u001b[1;33m=\u001b[0m \u001b[0mvalue\u001b[0m\u001b[1;33m\u001b[0m\u001b[1;33m\u001b[0m\u001b[0m\n",
      "\u001b[1;31mTypeError\u001b[0m: Only integer and float are allowed"
     ]
    }
   ],
   "source": [
    "class Operation():\n",
    "    \"\"\"\n",
    "    説明用の簡単なクラス\n",
    "    Parameters\n",
    "    ----------\n",
    "    value : float or int\n",
    "        初期値\n",
    "    Attributes\n",
    "    ----------\n",
    "    value : float or int\n",
    "        計算結果\n",
    "    \"\"\"\n",
    "    def __init__(self, value):\n",
    "        \"\"\"\n",
    "        Raise exception\n",
    "        \"\"\"\n",
    "        if(type(value)!= int) and (type(value)!=float):\n",
    "            raise TypeError(\"Only integer and float are allowed\")\n",
    "            \n",
    "        self.value = value\n",
    "        print(\"初期値{}が設定されました\".format(self.value))\n",
    "    def add(self, value2):\n",
    "        \"\"\"\n",
    "        受け取った引数をself.valueに加える\n",
    "        \"\"\"\n",
    "        self.value += value2\n",
    "    def subtract(self,value2):\n",
    "        self.value -= value2\n",
    "    def mul(self,value2):\n",
    "        self.value *= value2\n",
    "    def div(self,value2):\n",
    "        self.value /= value2\n",
    "example = Operation(5)\n",
    "print(\"value : {}\".format(example.value))\n",
    "example.add(3)\n",
    "print(\"value : {}\".format(example.value))\n",
    "example.subtract(3)\n",
    "print(\"value : {}\".format(example.value))\n",
    "example.mul(3)\n",
    "print(\"value : {}\".format(example.value))\n",
    "example.div(3)\n",
    "print(\"value : {}\".format(example.value))\n",
    "example = Operation(\"fe\")"
   ]
  }
 ],
 "metadata": {
  "kernelspec": {
   "display_name": "Python 3",
   "language": "python",
   "name": "python3"
  },
  "language_info": {
   "codemirror_mode": {
    "name": "ipython",
    "version": 3
   },
   "file_extension": ".py",
   "mimetype": "text/x-python",
   "name": "python",
   "nbconvert_exporter": "python",
   "pygments_lexer": "ipython3",
   "version": "3.7.10"
  }
 },
 "nbformat": 4,
 "nbformat_minor": 5
}
