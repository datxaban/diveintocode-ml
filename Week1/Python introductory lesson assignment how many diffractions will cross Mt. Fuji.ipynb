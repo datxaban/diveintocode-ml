{
 "cells": [
  {
   "cell_type": "markdown",
   "id": "ordered-equity",
   "metadata": {},
   "source": [
    "## Import libraries"
   ]
  },
  {
   "cell_type": "code",
   "execution_count": 2,
   "id": "photographic-meditation",
   "metadata": {},
   "outputs": [],
   "source": [
    "import math"
   ]
  },
  {
   "cell_type": "markdown",
   "id": "collected-cancellation",
   "metadata": {},
   "source": [
    "# How many times it will fold when it exceeds Mt. Fuji?\n",
    "Now the question arises, \"How many times do I have to fold it to get a certain thickness? Let's create a program to calculate this kind of thing."
   ]
  },
  {
   "cell_type": "markdown",
   "id": "advised-flight",
   "metadata": {},
   "source": [
    "## Formula for thickness of folded paper\n",
    "It is the same as the pre-class assignment, but I will confirm it.\n",
    "\n",
    "\n",
    "The thickness of n-folded paper $t_{n}$ can be expressed as follows.\n",
    "\n",
    "\n",
    "$t_{n}$ =$t_{0}$ × $2 ^ {n}$\n",
    "The thickness of the paper before folding, $ t_ {0} $ is 0.00008m. This is the thickness of a typical sheet of photocopy paper."
   ]
  },
  {
   "cell_type": "markdown",
   "id": "curious-commercial",
   "metadata": {},
   "source": [
    "## Problem 1: Minimum number of folds over Mt. Fuji\n",
    "Create a program that calculates how many times the paper will fold when the thickness exceeds \"Mt. Fuji (3776m)\"."
   ]
  },
  {
   "cell_type": "code",
   "execution_count": 10,
   "id": "introductory-onion",
   "metadata": {},
   "outputs": [
    {
     "name": "stdout",
     "output_type": "stream",
     "text": [
      "The thickness will exceeds Mt. Fuji after 26 times\n"
     ]
    }
   ],
   "source": [
    "def fold_count_Fuji():\n",
    "    \"\"\"Function return how many fold to make thickness exceed the Mt. Fuji's height\"\"\"\n",
    "    return math.ceil(math.log2(3776/0.00008))\n",
    "print(\"The thickness will exceeds Mt. Fuji after {} times\".format(fold_count_Fuji()))"
   ]
  },
  {
   "cell_type": "markdown",
   "id": "modular-vanilla",
   "metadata": {},
   "source": [
    "## Problem 2: Creating a function corresponding to an arbitrary thickness\n",
    "Create a function that outputs the number of diffractions when the distance is input. Let's make it possible to set the thickness $ t_ {0} $ before folding as an argument.\n",
    "\n",
    "\n",
    "Use this function to calculate how many times you have to bend the paper to reach the \"closest non-Sun star.\" Investigate the distance of the \"closest non-sun star\".\n",
    "\n",
    "The nearest triple-star system is Alpha Centauri and exactly is third star in the system Proxima Centauri which 9.44 trillion km away from the earth."
   ]
  },
  {
   "cell_type": "code",
   "execution_count": 4,
   "id": "informed-present",
   "metadata": {},
   "outputs": [
    {
     "name": "stdout",
     "output_type": "stream",
     "text": [
      "The thickness will exceeds Proxima Centauri after 67 times\n"
     ]
    }
   ],
   "source": [
    "def fold_count_custom(distance):\n",
    "    \"\"\"\n",
    "    Function return how many fold to make thickness exceed the given distance\n",
    "    --------------\n",
    "    distance: int\n",
    "        Distance in meter\n",
    "    Returns\n",
    "    --------------\n",
    "    Number of fold\n",
    "    \"\"\"\n",
    "    return math.ceil(math.log2(distance/0.00008))\n",
    "nearest_star_distance = fold_count_custom( 9.44*math.pow(10,15) )\n",
    "print(\"The thickness will exceeds Proxima Centauri after {} times\".format(nearest_star_distance))"
   ]
  },
  {
   "cell_type": "markdown",
   "id": "grave-mountain",
   "metadata": {},
   "source": [
    "## Problem 3: Required paper length\n",
    "In fact, the paper around us cannot be folded 10 times, let alone 43 times. However, the larger the paper, the more it can be folded, and there is a formula that calculates the number of times to fold a long piece of paper such as toilet paper in one direction.\n",
    "\n",
    "\n",
    "The length L of the paper required to diffract a $t_{0}$-thick paper n times is calculated by the following formula.\n",
    "\n",
    "\n",
    " $L=\\frac{\\pi t_{0}}{6}\\left(2^{n}+\\right.$ Four $)\\left(2^{n}-1\\right)$\n",
    " \n",
    "Use this formula to create a function that actually folds the paper and finds the length of the paper needed to reach the desired thickness.\n",
    "\n",
    "\n",
    "Then use this to find out the length of paper needed to reach the Moon, Mt. Fuji, and the stars closest to the Sun."
   ]
  },
  {
   "cell_type": "code",
   "execution_count": 9,
   "id": "geological-malawi",
   "metadata": {},
   "outputs": [
    {
     "name": "stdout",
     "output_type": "stream",
     "text": [
      "Toilet paper length to reach the Moon: 3.2409194441707805e+23 meters\n",
      "Toilet paper length to reach Mt.Fuji: 18864634848724.016 meters\n",
      "Toilet paper length to reach Proxima Centauri (the closest star to the Earth): 9.122377250687717e+37 meters\n"
     ]
    }
   ],
   "source": [
    "def toilet_paper_length(distance):\n",
    "    \"\"\"\n",
    "    Function return how long the toilet paper that can be fold to get the desire thickness\n",
    "    --------------\n",
    "    distance: int\n",
    "        Distance in meter\n",
    "    Returns\n",
    "    --------------\n",
    "    Length of toilet paper\n",
    "    \"\"\"\n",
    "    num_of_fold = fold_count_custom(distance) #Get the number of fold\n",
    "    return (math.pi*0.008*(math.pow(2,num_of_fold)+4)*(math.pow(2,num_of_fold)-1))/6 # return length of the paper using the formula\n",
    "print(\"Toilet paper length to reach the Moon: {} meters\".format(toilet_paper_length(384400000)))\n",
    "print(\"Toilet paper length to reach Mt.Fuji: {} meters\".format(toilet_paper_length(3776)))\n",
    "print(\"Toilet paper length to reach Proxima Centauri (the closest star to the Earth): {} meters\".format(toilet_paper_length(9.44*math.pow(10,15))))"
   ]
  }
 ],
 "metadata": {
  "kernelspec": {
   "display_name": "Python 3",
   "language": "python",
   "name": "python3"
  },
  "language_info": {
   "codemirror_mode": {
    "name": "ipython",
    "version": 3
   },
   "file_extension": ".py",
   "mimetype": "text/x-python",
   "name": "python",
   "nbconvert_exporter": "python",
   "pygments_lexer": "ipython3",
   "version": "3.7.9"
  }
 },
 "nbformat": 4,
 "nbformat_minor": 5
}
