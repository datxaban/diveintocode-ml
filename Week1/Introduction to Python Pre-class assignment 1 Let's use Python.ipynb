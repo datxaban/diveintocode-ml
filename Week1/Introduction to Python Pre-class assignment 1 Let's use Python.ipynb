{
 "cells": [
  {
   "cell_type": "markdown",
   "id": "pretty-construction",
   "metadata": {},
   "source": [
    "## Import Library"
   ]
  },
  {
   "cell_type": "code",
   "execution_count": 72,
   "id": "accredited-queue",
   "metadata": {},
   "outputs": [],
   "source": [
    "import math\n",
    "import time"
   ]
  },
  {
   "cell_type": "markdown",
   "id": "organic-anthropology",
   "metadata": {},
   "source": [
    "# Folding a paper problem\n",
    "There is a story that as you continue to fold a piece of paper, it gets thicker and thicker and reaches the moon in 43 folds. However, in reality, it is not possible to fold it 10 times. It is also very difficult to calculate by hand.\n",
    "\n",
    "\n",
    "For this assignment, **you will create a program that calculates the thickness of a sheet of paper when it is folded 43 times.​**\n",
    "\n",
    "\n",
    "The thickness of the paper folded 43 times, $t_{43}$, can be obtained by the following formula using the thickness of the paper before folding, $t_{0}$.\n",
    "\n",
    "\n",
    "$t_{43}$ = $t_{0}$×$2^{43}$\n",
    "The thickness of the paper before folding, $ t_ {0} $ is **0.00008m**. This is the thickness of a typical sheet of photocopy paper."
   ]
  },
  {
   "cell_type": "markdown",
   "id": "latter-sample",
   "metadata": {},
   "source": [
    "# Thickness calculation by two methods\n",
    "\n",
    "<li>Use exponentiation arithmetic operators\n",
    "<li> Use for statement</li>\n"
   ]
  },
  {
   "cell_type": "markdown",
   "id": "effective-collapse",
   "metadata": {},
   "source": [
    "## Problem 1: Create using the exponentiation arithmetic operator\n",
    "Create a program that uses the exponentiation arithmetic operator.\n",
    "Write the code to calculate the thickness when the paper is folded 43 times."
   ]
  },
  {
   "cell_type": "code",
   "execution_count": 73,
   "id": "given-uruguay",
   "metadata": {},
   "outputs": [
    {
     "name": "stdout",
     "output_type": "stream",
     "text": [
      "Thickness: 703687441.77664 meters\n"
     ]
    }
   ],
   "source": [
    "\"\"\"\n",
    "Code to calculate the thickness when the paper is folded 43 times\n",
    "\"\"\"\n",
    "def fold(thickness):\n",
    "    print(\"Thickness: {} meters\".format(thickness*math.pow(2,43)))\n",
    "fold(0.00008)"
   ]
  },
  {
   "cell_type": "markdown",
   "id": "accepted-tobago",
   "metadata": {},
   "source": [
    "## Problem 2: Unit Conversion\n",
    "If the unit is meters, it's hard to feel the difference, so please convert the unit to 10,000 kilometers and display it."
   ]
  },
  {
   "cell_type": "code",
   "execution_count": 74,
   "id": "smooth-postage",
   "metadata": {},
   "outputs": [
    {
     "name": "stdout",
     "output_type": "stream",
     "text": [
      "Thickness:  703687.44 kilometers\n"
     ]
    }
   ],
   "source": [
    "def fold_unit_convert(thickness):\n",
    "    print(\"Thickness: {: .2f} kilometers\".format(thickness*math.pow(2,43)/1000))\n",
    "fold_unit_convert(0.00008)"
   ]
  },
  {
   "cell_type": "markdown",
   "id": "alive-opening",
   "metadata": {},
   "source": [
    "## Problem 3: Create using a for statement\n",
    "Next, create a program that uses the for statement.\n",
    "Do not use exponentiation arithmetic operators. Only the four arithmetic operations+ , - , * , /  are allowed."
   ]
  },
  {
   "cell_type": "code",
   "execution_count": 75,
   "id": "lonely-triumph",
   "metadata": {},
   "outputs": [
    {
     "name": "stdout",
     "output_type": "stream",
     "text": [
      "Thickness:  703687.44 kilometers\n"
     ]
    }
   ],
   "source": [
    "\"\"\"\n",
    "Code to calculate the thickness when the paper is folded 43 times\n",
    "\"\"\"\n",
    "def fold_loop(thickness):\n",
    "    for x in range(43):\n",
    "        thickness = thickness*2\n",
    "    print(\"Thickness: {: .2f} kilometers\".format(thickness/1000))\n",
    "\n",
    "fold_loop(0.00008)"
   ]
  },
  {
   "cell_type": "markdown",
   "id": "fantastic-canal",
   "metadata": {},
   "source": [
    "## Problem 4: Comparison of calculation time\n",
    "Neither of the two methods is correct, but the following are some things to focus on when evaluating the quality of your code.\n",
    "<ul> \n",
    "        <li> Calculation speed </li>\n",
    "        <li> Memory usage </li>\n",
    "        <li> Readability </li>\n",
    "        <li> Scalability </li>\n",
    "        <li> Reusability </li>\n",
    " </ul>\n",
    " This time we will compare the calculation speed."
   ]
  },
  {
   "cell_type": "markdown",
   "id": "ecological-prisoner",
   "metadata": {},
   "source": [
    "### Cacalating speed using exponential"
   ]
  },
  {
   "cell_type": "code",
   "execution_count": 76,
   "id": "delayed-shark",
   "metadata": {
    "scrolled": true
   },
   "outputs": [
    {
     "name": "stdout",
     "output_type": "stream",
     "text": [
      "time using exponential: 0.0[s]\n"
     ]
    }
   ],
   "source": [
    "start = time.time()\n",
    "\n",
    "thickness = 0.00008\n",
    "folded_thickness = THICKNESS * 2 ** 43\n",
    "\n",
    "elapsed_time = time.time() - start\n",
    "print(\"time using exponential: {}[s]\".format(elapsed_time))"
   ]
  },
  {
   "cell_type": "markdown",
   "id": "worldwide-equity",
   "metadata": {},
   "source": [
    "### Cacalating speed using for loop"
   ]
  },
  {
   "cell_type": "code",
   "execution_count": 85,
   "id": "stock-senior",
   "metadata": {},
   "outputs": [
    {
     "name": "stdout",
     "output_type": "stream",
     "text": [
      "time using for loop : 0.0010349750518798828[s]\n"
     ]
    }
   ],
   "source": [
    "start = time.time()\n",
    "\n",
    "thickness = 0.00008\n",
    "\n",
    "for i in range(1, 44):\n",
    "    thickness = thickness * 2\n",
    "\n",
    "elapsed_time = time.time() - start\n",
    "print(\"time using for loop : {}[s]\".format(elapsed_time))\n"
   ]
  },
  {
   "cell_type": "markdown",
   "id": "productive-syndication",
   "metadata": {},
   "source": [
    "# Visualization of the process\n",
    "Record the thickness each time it is folded, and visualize it in a line graph."
   ]
  },
  {
   "cell_type": "markdown",
   "id": "divine-title",
   "metadata": {},
   "source": [
    "## Problem 5: Saving to a list\n",
    "<ul>\n",
    "<li>Create an empty list.</li>\n",
    "<li>Add the value before folding to the list.</li>\n",
    "<li>Add the values to the list when folded n times in the for statement.</li>\n",
    "</ul>\n",
    "Finally, let's confirm that the list contains 44 values using the len function."
   ]
  },
  {
   "cell_type": "code",
   "execution_count": 78,
   "id": "mathematical-louis",
   "metadata": {},
   "outputs": [
    {
     "name": "stdout",
     "output_type": "stream",
     "text": [
      "Confirm length:44\n"
     ]
    }
   ],
   "source": [
    "fold_list = [0.00008]\n",
    "def fold_add_list(fold_list):\n",
    "    for x in range(43):\n",
    "        fold_list.append(fold_list[-1]*2)\n",
    "    return fold_list\n",
    "fold_list = fold_add_list(fold_list)\n",
    "print(\"Confirm length:{}\".format(len(fold_list)))"
   ]
  },
  {
   "cell_type": "markdown",
   "id": "theoretical-welcome",
   "metadata": {},
   "source": [
    "## Problem 6: Displaying a line graph\n",
    "A library called Matplotlib is used to draw the graph. Use the following template after the code you want to record in the list."
   ]
  },
  {
   "cell_type": "code",
   "execution_count": 79,
   "id": "hungarian-pottery",
   "metadata": {
    "scrolled": false
   },
   "outputs": [
    {
     "data": {
      "image/png": "[encoded data removed]",
      "text/plain": [
       "<Figure size 432x288 with 1 Axes>"
      ]
     },
     "metadata": {
      "needs_background": "light"
     },
     "output_type": "display_data"
    }
   ],
   "source": [
    "\"\"\"\n",
    "Display the graph. Title and axis label name.\n",
    "\"\"\"\n",
    "import matplotlib.pyplot as plt\n",
    "%matplotlib inline\n",
    "plt.title(\"thickness of folded paper\")\n",
    "plt.xlabel(\"number of folds\")\n",
    "plt.ylabel(\"thickness[m]\")\n",
    "plt.plot(fold_list) # Enter the variable name of the list in \"List name\"\n",
    "plt.show()"
   ]
  },
  {
   "cell_type": "markdown",
   "id": "dramatic-maldives",
   "metadata": {},
   "source": [
    "If you have displayed a graph, it is important to discuss it. Give a brief description of how the thickness is changing: the thickness change exponentialy by folding the paper. From 1 meter increase to 1e8 meters so it is  possible to travel to the moon with a piece of paper. Even the initial value is small, exponential function make it raise enormously"
   ]
  },
  {
   "cell_type": "markdown",
   "id": "relevant-chicken",
   "metadata": {},
   "source": [
    "## Problem 7: Customizing graphs\n",
    "Let's customize the graph to make it easier to see. Create at least 3 customized graphs. For example, the line color can be changed to red by rewriting as follows."
   ]
  },
  {
   "cell_type": "code",
   "execution_count": 80,
   "id": "tender-cabin",
   "metadata": {},
   "outputs": [
    {
     "data": {
      "image/png": "[encoded data removed]",
      "text/plain": [
       "<Figure size 432x288 with 1 Axes>"
      ]
     },
     "metadata": {
      "needs_background": "light"
     },
     "output_type": "display_data"
    }
   ],
   "source": [
    "\"\"\"\n",
    "Display a red line graph.\n",
    "\"\"\"\n",
    "plt.title(\"Customize red line graph\")\n",
    "plt.xlabel(\"number of folds\")\n",
    "plt.ylabel(\"thickness[m]\")\n",
    "plt.plot(fold_list, color='red')\n",
    "plt.show()"
   ]
  },
  {
   "cell_type": "code",
   "execution_count": 81,
   "id": "spanish-checkout",
   "metadata": {},
   "outputs": [
    {
     "data": {
      "image/png": "[encoded data removed]",
      "text/plain": [
       "<Figure size 432x288 with 1 Axes>"
      ]
     },
     "metadata": {
      "needs_background": "light"
     },
     "output_type": "display_data"
    }
   ],
   "source": [
    "\"\"\"\n",
    "Display a dotted line graph.\n",
    "\"\"\"\n",
    "plt.title(\"Customize dotted line graph\")\n",
    "plt.xlabel(\"number of folds\")\n",
    "plt.ylabel(\"thickness[m]\")\n",
    "plt.plot(fold_list,linestyle='dotted')\n",
    "plt.show()"
   ]
  },
  {
   "cell_type": "code",
   "execution_count": 82,
   "id": "secret-decade",
   "metadata": {},
   "outputs": [
    {
     "data": {
      "image/png": "[encoded data removed]",
      "text/plain": [
       "<Figure size 432x288 with 1 Axes>"
      ]
     },
     "metadata": {
      "needs_background": "light"
     },
     "output_type": "display_data"
    }
   ],
   "source": [
    "\"\"\"\n",
    "Display a scatter graph.\n",
    "\"\"\"\n",
    "number_of_folds = [range(0,44)] \n",
    "plt.title(\"Customize scatter graph\")\n",
    "plt.xlabel(\"number of folds\")\n",
    "plt.ylabel(\"thickness[m]\")\n",
    "plt.scatter(number_of_folds,fold_list)\n",
    "plt.show()"
   ]
  }
 ],
 "metadata": {
  "kernelspec": {
   "display_name": "Python 3",
   "language": "python",
   "name": "python3"
  },
  "language_info": {
   "codemirror_mode": {
    "name": "ipython",
    "version": 3
   },
   "file_extension": ".py",
   "mimetype": "text/x-python",
   "name": "python",
   "nbconvert_exporter": "python",
   "pygments_lexer": "ipython3",
   "version": "3.7.9"
  }
 },
 "nbformat": 4,
 "nbformat_minor": 5
}
