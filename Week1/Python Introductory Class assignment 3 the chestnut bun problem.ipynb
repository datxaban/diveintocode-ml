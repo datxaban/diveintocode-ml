{
 "cells": [
  {
   "cell_type": "code",
   "execution_count": 1,
   "id": "activated-funds",
   "metadata": {},
   "outputs": [],
   "source": [
    "import math"
   ]
  },
  {
   "cell_type": "markdown",
   "id": "beautiful-argument",
   "metadata": {},
   "source": [
    "# The chestnut bun problem\n",
    "\n",
    "There is a famous episode about 2 to the nth power [1] in which a tool called \"Byvine\" appears in Manga Doraemon.\n",
    "\n",
    "\n",
    "[1] Fujiko F. Fujio (1979) \"Doraemon (17)\" Shogakukan.\n",
    "\n",
    "\n",
    "\"Byevine\" is a medicine, and if you sprinkle it on it, the object will double every 5 minutes. I increase the number of chestnut buns in the process, but since I could not eat it, I used a rocket and threw it into space.\n",
    "\n",
    "\n",
    "A frequent topic of discussion here is how chestnut buns will increase in the universe afterwards. There have been various discussions, but this time, let's simply calculate how the volume of chestnut buns increases."
   ]
  },
  {
   "cell_type": "markdown",
   "id": "recent-syntax",
   "metadata": {},
   "source": [
    "## Problem: The day when chestnut buns cover the solar system\n",
    "If you sprinkle a single chestnut bun with vine, how long will it take to cover the solar system with chestnut buns? Create a program to calculate this.\n",
    "\n",
    "\n",
    "Make assumptions about the volume of the chestnut buns and the solar system based on your research and calculations. You may simplify the problem by not considering the gap between the chestnut buns and gravity.\n",
    "\n",
    "\n",
    "Create a generic program that can be applied to other situations, such as the time it takes for the Tokyo Dome to fill up when you sprinkle a ball with Byvine. Also, please create a notebook that is easy to understand, e.g., display a graph."
   ]
  },
  {
   "cell_type": "markdown",
   "id": "hollywood-stage",
   "metadata": {},
   "source": [
    "**Initial Assumption**: \n",
    "<li>Volume of a single chesnut bun is small, assume it is <b>0.000009 $m^3$</b> </li>\n",
    "<li>The boundary of the Solar System ends are not defined exactly and most of the Solar system are unknown. The boundaries are shaped by solar wind and the sun's gravity. I will consider the solar system as a sphere with center is also the center of the sun and the boundary is the frost line which is 5 AU from the Sun. I would also not consider the volume of others planets, stars and   </li>\n",
    "<li> <b>1 AU</b> is about <b>149,597,870,700 meters</b> so i will consider total radius of the sphere is about <b>747,989,353,455 meters</b> </li>"
   ]
  },
  {
   "cell_type": "code",
   "execution_count": 3,
   "id": "prostate-fiber",
   "metadata": {},
   "outputs": [
    {
     "name": "stdout",
     "output_type": "stream",
     "text": [
      "It takes 1.4647363496144107e+25 hours or 6.103068123393378e+23 days to cover a solar system with chestnut buns\n"
     ]
    }
   ],
   "source": [
    "solar_system_volume = math.pi*math.pow(747989353455,2)/2\n",
    "def genetic_function(obj,space):\n",
    "    \"\"\"Input: obj| the volume of the chesnut bun or other objects\n",
    "       Output: space| the volume of the solar system or other space\n",
    "    \"\"\"\n",
    "    increase_time = math.ceil(space/obj)\n",
    "    hour_amount = increase_time/12\n",
    "    return hour_amount\n",
    "time = genetic_function(0.005,solar_system_volume)\n",
    "print(\"It takes {} hours or {} days to fill in a solar system with chestnut buns\".format(time,time/24))"
   ]
  },
  {
   "cell_type": "code",
   "execution_count": null,
   "id": "configured-israeli",
   "metadata": {},
   "outputs": [],
   "source": []
  }
 ],
 "metadata": {
  "kernelspec": {
   "display_name": "Python 3",
   "language": "python",
   "name": "python3"
  },
  "language_info": {
   "codemirror_mode": {
    "name": "ipython",
    "version": 3
   },
   "file_extension": ".py",
   "mimetype": "text/x-python",
   "name": "python",
   "nbconvert_exporter": "python",
   "pygments_lexer": "ipython3",
   "version": "3.7.9"
  }
 },
 "nbformat": 4,
 "nbformat_minor": 5
}
