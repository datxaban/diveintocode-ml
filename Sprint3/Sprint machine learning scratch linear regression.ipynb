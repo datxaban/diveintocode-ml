{
 "cells": [
  {
   "cell_type": "markdown",
   "id": "confidential-stress",
   "metadata": {},
   "source": [
    "## Libraries "
   ]
  },
  {
   "cell_type": "code",
   "execution_count": 510,
   "id": "blank-advocacy",
   "metadata": {},
   "outputs": [],
   "source": [
    "import numpy as np\n",
    "# from sklearn.datasets import load_boston\n",
    "import matplotlib.pyplot as plt\n",
    "import pandas as pd\n",
    "from sklearn.model_selection import train_test_split\n",
    "import warnings\n",
    "warnings.simplefilter('ignore')"
   ]
  },
  {
   "cell_type": "markdown",
   "id": "animated-munich",
   "metadata": {},
   "source": [
    "## The purpose of this Sprint\n",
    "\n",
    "<li>Understanding linear regression through scratch</li>\n",
    "<li>Get used to object-oriented implementation</li>\n",
    "<li>Allow formulas to be incorporated into code</li>\n",
    "\n",
    "## How to learn\n",
    "After implementing linear regression with scratch, we will train and verify.\n",
    "\n",
    "## Scratch Linear Regression\n",
    "We will create a class of linear regression from scratch. We will implement the algorithm using only the minimum library such as NumPy.\n",
    "\n",
    "\n",
    "The template is prepared below. Add some code to this ScratchLinearRegression class.\n"
   ]
  },
  {
   "cell_type": "code",
   "execution_count": 511,
   "id": "crucial-reporter",
   "metadata": {},
   "outputs": [],
   "source": [
    "class ScratchLinearRegression():\n",
    "    \"\"\"\n",
    "    線形回帰のスクラッチ実装\n",
    "    \n",
    "    Parameters\n",
    "    ----------\n",
    "    num_iter : int\n",
    "      イテレーション数\n",
    "    lr : float\n",
    "      学習率\n",
    "    no_bias : bool\n",
    "      バイアス項を入れない場合はTrue\n",
    "    verbose : bool\n",
    "      学習過程を出力する場合はTrue\n",
    "    \n",
    "    Attributes\n",
    "    ----------\n",
    "    self.coef_ : 次の形のndarray, shape (n_features,)\n",
    "      パラメータ\n",
    "    self.loss : 次の形のndarray, shape (self.iter,)\n",
    "      訓練データに対する損失の記録\n",
    "    self.val_loss : 次の形のndarray, shape (self.iter,)\n",
    "      検証データに対する損失の記録\n",
    "    \"\"\"\n",
    "    \n",
    "    def __init__(self, num_iter=1000, lr=0.001, no_bias=False, verbose=False):\n",
    "        # ハイパーパラメータを属性として記録\n",
    "        self.iter = num_iter\n",
    "        self.lr = lr\n",
    "        self.no_bias = no_bias\n",
    "        self.verbose = verbose\n",
    "        \n",
    "        # 損失を記録する配列を用意\n",
    "        self.loss = np.zeros(self.iter)\n",
    "        self.val_loss = np.zeros(self.iter)\n",
    "        \n",
    "    def _linear_hypothesis(self,X):\n",
    "        \"\"\"\n",
    "        線形の仮定関数を計算する\n",
    "\n",
    "        Parameters\n",
    "        ----------\n",
    "        X : 次の形のndarray, shape (n_samples, n_features)\n",
    "          訓練データ\n",
    "\n",
    "        Returns\n",
    "        -------\n",
    "          次の形のndarray, shape (n_samples, 1)\n",
    "          線形の仮定関数による推定結果\n",
    "\n",
    "        \"\"\"\n",
    "        x1 = X\n",
    "        x0 = np.ones(x1.shape[0]).reshape(-1, 1)\n",
    "    \n",
    "        return np.concatenate([x0, x1],axis=1)\n",
    "    \n",
    "    def _gradient_descent(self, X, error):\n",
    "        \"\"\"\n",
    "        最急降下法により、θの値を更新し、学習する。\n",
    "        Parameters\n",
    "        ----------\n",
    "        X : 次の形のndarray, shape (n_samples, n_features)\n",
    "            訓練データの特徴量\n",
    "        error : 真の値と推定した値の誤差\n",
    "        \"\"\"\n",
    "        self.theta = self.theta - self.lr*np.dot(error,X)/len(X)\n",
    "        \n",
    "    def fit(self, X, y, X_val=None, y_val=None):\n",
    "        \"\"\"\n",
    "        線形回帰を学習する。\n",
    "        検証データが入力された場合はそれに対する損失と精度もイテレーションごとに計算する。\n",
    "        Parameters\n",
    "        ----------\n",
    "        X : 次の形のndarray, shape (n_samples, n_features)\n",
    "            訓練データの特徴量\n",
    "        y : 次の形のndarray, shape (n_samples, )\n",
    "            訓練データの正解値\n",
    "        X_val : 次の形のndarray, shape (n_samples, n_features)\n",
    "            検証データの特徴量\n",
    "        y_val : 次の形のndarray, shape (n_samples, )\n",
    "            検証データの正解値\n",
    "        \"\"\"\n",
    "        \n",
    "        # バイアス項有無で分岐\n",
    "        if self.no_bias is not True:   \n",
    "            # パラメータθの初期値を乱数で与える\n",
    "            x1 = self._linear_hypothesis(X)\n",
    "            # θはXの特徴量の種類の数分用意する\n",
    "            self.theta = np.random.random(x1.shape[1])\n",
    "\n",
    "        else:\n",
    "            x1 = X\n",
    "            self.theta = np.random.random(x1.shape[1])\n",
    "        \n",
    "        for i in range(self.iter):\n",
    "            \n",
    "            # 仮定関数で予測値を計算\n",
    "            y1 = np.dot(x1,self.theta.T)\n",
    "            \n",
    "            # 真の値と予測値の誤差を計算\n",
    "            error = y1 - y\n",
    "            self.loss[i] += np.mean(error**2)/2\n",
    "            \n",
    "            # X_validを入力した場合は、x2として読み込む\n",
    "            if X_val is not None:\n",
    "                if self.no_bias is not True:\n",
    "                    x2 = self._linear_hypothesis(X_val)\n",
    "                else:\n",
    "                    x2 = X_val\n",
    "                y2 = np.dot(x2,self.theta)\n",
    "                \n",
    "                error_val = y2 - y_val\n",
    "                self.val_loss[i] += np.mean(error_val**2)/2 \n",
    "            \n",
    "            # パラメータθを最急降下法で、最適化\n",
    "            self._gradient_descent(x1, error)\n",
    "            \n",
    "            if self.verbose:\n",
    "            #verboseをTrueにした際は学習過程を出力\n",
    "                print('n_iter:', i,\n",
    "                      'loss:',self.loss[i],\n",
    "                      'theta:',self.theta)\n",
    "                \n",
    "    def predict(self, X):\n",
    "        \"\"\"\n",
    "        線形回帰を使い推定する。\n",
    "        Parameters\n",
    "        ----------\n",
    "        X : 次の形のndarray, shape (n_samples, n_features)\n",
    "            サンプル\n",
    "        Returns\n",
    "        -------\n",
    "            次の形のndarray, shape (n_samples, 1)\n",
    "            線形回帰による推定結果\n",
    "        \"\"\"\n",
    "        if self.no_bias is not True:\n",
    "            return np.dot(self._linear_hypothesis(X),self.theta)\n",
    "        return np.dot(X,self.theta)"
   ]
  },
  {
   "cell_type": "markdown",
   "id": "corresponding-replacement",
   "metadata": {},
   "source": [
    "## Problem1: Hypothetical function\n",
    "Implement the linear regression hypothetical function represented by the following formula. I have prepared a method template\n",
    "<center> $h_{\\theta}(x) = \\theta_{0}.x_{\\theta} + \\theta_{1}.x_{1} + \\theta_{2}.x_{2} + \\theta_{3}.x_{3} + ... +\\theta_{n}.x_{n}  (x_{0}=1)$</center>\n",
    "\n",
    "$x$: Feature vector\n",
    "\n",
    "$\\theta$: parameter vector\n",
    "\n",
    "\n",
    "$n$: Number of features\n",
    "\n",
    "\n",
    "$x_j$: jth feature\n",
    "\n",
    "\n",
    "$\\theta_j$: jth parameter (weight)\n",
    "\n",
    "The feature quantity $ n $ should be implemented so that it can correspond to any value.\n",
    "The vector format is as follows.\n",
    "<center> $h_{\\theta}(x) = \\theta^{T}.x $</center>"
   ]
  },
  {
   "cell_type": "markdown",
   "id": "removable-sword",
   "metadata": {},
   "source": [
    "Since it is a method that is never called from outside the class, it is customary in Python to prefix it with an underscore.\n",
    "```\n",
    "def _linear_hypothesis(self, X):\n",
    "    \"\"\"\n",
    "    Compute a linear hypothetical function\n",
    "    Parameters\n",
    "    ----------\n",
    "    X : The following forms of ndarray, shape (n_samples, n_features)\n",
    "      Training data\n",
    "    Returns\n",
    "    -------\n",
    "      The following form of ndarray, shape (n_samples, 1)\n",
    "      Estimated result by linear hypothetical function\n",
    "    \"\"\"\n",
    "    pass\n",
    "    return\n",
    "```"
   ]
  },
  {
   "cell_type": "code",
   "execution_count": 512,
   "id": "athletic-election",
   "metadata": {},
   "outputs": [],
   "source": [
    "def _linear_hypothesis(self,X):\n",
    "        \"\"\"\n",
    "        線形の仮定関数を計算する\n",
    "\n",
    "        Parameters\n",
    "        ----------\n",
    "        X : 次の形のndarray, shape (n_samples, n_features)\n",
    "          訓練データ\n",
    "\n",
    "        Returns\n",
    "        -------\n",
    "          次の形のndarray, shape (n_samples, 1)\n",
    "          線形の仮定関数による推定結果\n",
    "\n",
    "        \"\"\"\n",
    "        x1 = X\n",
    "        x0 = np.ones(x1.shape[0]).reshape(-1, 1)\n",
    "    \n",
    "        return np.concatenate([x0, x1],axis=1)"
   ]
  },
  {
   "cell_type": "markdown",
   "id": "fresh-climate",
   "metadata": {},
   "source": [
    "## Problem 2: Steepest descent\n",
    "Implement the steepest descent method for training. Add a method _gradient_descent that updates the parameters as in the following equation, and\n",
    "Please it call from the fit method.\n",
    "<center> $\\theta_{j} = \\theta_{j} - α \\frac{1}{m} \\sum_{i=1}^{m} [(h_{x}(x^{(i)}) - y^{(i)}) x_{j}^{(i)}] $</center>"
   ]
  },
  {
   "cell_type": "markdown",
   "id": "acknowledged-drive",
   "metadata": {},
   "source": [
    "$\\alpha$: learning rate\n",
    "\n",
    "$i$: sample index\n",
    "\n",
    "$j$: Feature index\n",
    "\n",
    "Add the following method to the ScratchLinearRegression class. Please also describe the commented out part.\n",
    "```\n",
    "def _gradient_descent(self, X, error):\n",
    "    \"\"\"\n",
    "    Write a description\n",
    "    \"\"\"\n",
    "    pass\n",
    "```"
   ]
  },
  {
   "cell_type": "code",
   "execution_count": 513,
   "id": "introductory-pantyhose",
   "metadata": {},
   "outputs": [],
   "source": [
    "def _gradient_descent(self, X, error):\n",
    "        \"\"\"\n",
    "        最急降下法により、θの値を更新し、学習する。\n",
    "        Parameters\n",
    "        ----------\n",
    "        X : 次の形のndarray, shape (n_samples, n_features)\n",
    "            訓練データの特徴量\n",
    "        error : 真の値と推定した値の誤差\n",
    "        \"\"\"\n",
    "        self.theta = self.theta - self.lr*np.dot(error,X)/len(X)"
   ]
  },
  {
   "cell_type": "markdown",
   "id": "defined-result",
   "metadata": {},
   "source": [
    "## Problem 3: Estimated\n",
    "Please implement the estimation mechanism. Add it to the predict method included in the template of the ScratchLinearRegression class.\n",
    "\n",
    "\n",
    "The output of the hypothetical function $h_\\theta(x)$ is the estimation result."
   ]
  },
  {
   "cell_type": "code",
   "execution_count": 514,
   "id": "improving-trick",
   "metadata": {},
   "outputs": [],
   "source": [
    "def predict(self, X):\n",
    "        \"\"\"\n",
    "        線形回帰を使い推定する。\n",
    "        Parameters\n",
    "        ----------\n",
    "        X : 次の形のndarray, shape (n_samples, n_features)\n",
    "            サンプル\n",
    "        Returns\n",
    "        -------\n",
    "            次の形のndarray, shape (n_samples, 1)\n",
    "            線形回帰による推定結果\n",
    "        \"\"\"\n",
    "        if self.no_bias is not True:\n",
    "            return np.dot(self._linear_hypothesis(X),self.theta)\n",
    "        return np.dot(X,self.theta)"
   ]
  },
  {
   "cell_type": "markdown",
   "id": "portable-tunisia",
   "metadata": {},
   "source": [
    "## Problem 4: Mean squared error\n",
    "Create a function of mean square error (MSE) used as an index value for linear regression.\n",
    "\n",
    "\n",
    "Since the mean square error function is a function that can be used for regression problems in general, create it as a separate function instead of the method of the ScratchLinearRegression class. We have a template.\n",
    "\n",
    "\n",
    "The mean square error is expressed by the following formula.\n",
    "\n",
    "<center> $L(\\theta) = \\frac{1}{m} \\sum_{i=1}^{m} (h_{\\theta} (x^{i}) - y^{i})^2 $</center>\n",
    "\n",
    "$m$: Number of input data\n",
    "\n",
    "\n",
    "$h_\\theta()$: Assumption function\n",
    "\n",
    "\n",
    "$x^{(i)}$: Feature vector of the i-th sample\n",
    "\n",
    "\n",
    "$y^{(i)}$: Correct value of i-th sample\n",
    "\n",
    "As the objective function (loss function) for the steepest descent method, divide this by 2 and use it. (Problems 5, 9)\n",
    "\n",
    "```\n",
    "def MSE(y_pred, y):\n",
    "    \"\"\"\n",
    "    Calculation of mean square error\n",
    "    Parameters\n",
    "    ----------\n",
    "    y_pred : 次の形のndarray, shape (n_samples,)\n",
    "      Estimated value\n",
    "    y : 次の形のndarray, shape (n_samples,)\n",
    "      Correct answer value\n",
    "    Returns\n",
    "    ----------\n",
    "    mse : numpy.float\n",
    "      Mean squared error\n",
    "    \"\"\"\n",
    "    pass\n",
    "    return mse\n",
    "```"
   ]
  },
  {
   "cell_type": "code",
   "execution_count": 515,
   "id": "dietary-kazakhstan",
   "metadata": {},
   "outputs": [],
   "source": [
    "def MSE(y_pred, y):\n",
    "    \"\"\"\n",
    "    Calculation of mean square error\n",
    "    Parameters\n",
    "    ----------\n",
    "    y_pred : 次の形のndarray, shape (n_samples,)\n",
    "      Estimated value\n",
    "    y : 次の形のndarray, shape (n_samples,)\n",
    "      Correct answer value\n",
    "    Returns\n",
    "    ----------\n",
    "    mse : numpy.float\n",
    "      Mean squared error\n",
    "    \"\"\"\n",
    "    (1/len(y_pred))* np.sum(np.square(y_pred - y))\n",
    "    return mse"
   ]
  },
  {
   "cell_type": "markdown",
   "id": "portuguese-explanation",
   "metadata": {},
   "source": [
    "## Problem 5: Objective function\n",
    "Implement the objective function (loss function) of linear regression represented by the following formula and be sure to record this in self.loss,self.val_loss.\n",
    "\n",
    "\n",
    "The objective function (loss function) $J(\\theta)$ is the following formula.\n",
    "\n",
    "<center> $J(\\theta) = \\frac{1}{2m} \\sum_{i=1}^{m} (h_{\\theta}(x^{(i)} - y^{(i)}))^2 $</center>"
   ]
  },
  {
   "cell_type": "markdown",
   "id": "earned-newsletter",
   "metadata": {},
   "source": [
    "$m$: Number of input data\n",
    "\n",
    "\n",
    "$h_\\theta()$: Assumption function\n",
    "\n",
    "\n",
    "$x^{(i)}$: Feature vector of the i-th sample\n",
    "\n",
    "\n",
    "$y^{(i)}$: Correct value of i-th sample"
   ]
  },
  {
   "cell_type": "markdown",
   "id": "agricultural-improvement",
   "metadata": {},
   "source": [
    "## Problem 6: Learning and estimation\n",
    "Learn and estimate scratch implementations from the House Prices competition data provided in Sprint, an introduction to machine learning scratch.\n",
    "\n",
    "\n",
    "Compare this with the scikit-learn implementation and see if it works correctly."
   ]
  },
  {
   "cell_type": "code",
   "execution_count": 516,
   "id": "neural-moment",
   "metadata": {},
   "outputs": [],
   "source": [
    "data = pd.read_csv('train.csv')"
   ]
  },
  {
   "cell_type": "code",
   "execution_count": 517,
   "id": "progressive-malpractice",
   "metadata": {},
   "outputs": [
    {
     "data": {
      "text/html": [
       "<div>\n",
       "<style scoped>\n",
       "    .dataframe tbody tr th:only-of-type {\n",
       "        vertical-align: middle;\n",
       "    }\n",
       "\n",
       "    .dataframe tbody tr th {\n",
       "        vertical-align: top;\n",
       "    }\n",
       "\n",
       "    .dataframe thead th {\n",
       "        text-align: right;\n",
       "    }\n",
       "</style>\n",
       "<table border=\"1\" class=\"dataframe\">\n",
       "  <thead>\n",
       "    <tr style=\"text-align: right;\">\n",
       "      <th></th>\n",
       "      <th>Id</th>\n",
       "      <th>MSSubClass</th>\n",
       "      <th>MSZoning</th>\n",
       "      <th>LotFrontage</th>\n",
       "      <th>LotArea</th>\n",
       "      <th>Street</th>\n",
       "      <th>Alley</th>\n",
       "      <th>LotShape</th>\n",
       "      <th>LandContour</th>\n",
       "      <th>Utilities</th>\n",
       "      <th>...</th>\n",
       "      <th>PoolArea</th>\n",
       "      <th>PoolQC</th>\n",
       "      <th>Fence</th>\n",
       "      <th>MiscFeature</th>\n",
       "      <th>MiscVal</th>\n",
       "      <th>MoSold</th>\n",
       "      <th>YrSold</th>\n",
       "      <th>SaleType</th>\n",
       "      <th>SaleCondition</th>\n",
       "      <th>SalePrice</th>\n",
       "    </tr>\n",
       "  </thead>\n",
       "  <tbody>\n",
       "    <tr>\n",
       "      <th>0</th>\n",
       "      <td>1</td>\n",
       "      <td>60</td>\n",
       "      <td>RL</td>\n",
       "      <td>65.0</td>\n",
       "      <td>8450</td>\n",
       "      <td>Pave</td>\n",
       "      <td>NaN</td>\n",
       "      <td>Reg</td>\n",
       "      <td>Lvl</td>\n",
       "      <td>AllPub</td>\n",
       "      <td>...</td>\n",
       "      <td>0</td>\n",
       "      <td>NaN</td>\n",
       "      <td>NaN</td>\n",
       "      <td>NaN</td>\n",
       "      <td>0</td>\n",
       "      <td>2</td>\n",
       "      <td>2008</td>\n",
       "      <td>WD</td>\n",
       "      <td>Normal</td>\n",
       "      <td>208500</td>\n",
       "    </tr>\n",
       "    <tr>\n",
       "      <th>1</th>\n",
       "      <td>2</td>\n",
       "      <td>20</td>\n",
       "      <td>RL</td>\n",
       "      <td>80.0</td>\n",
       "      <td>9600</td>\n",
       "      <td>Pave</td>\n",
       "      <td>NaN</td>\n",
       "      <td>Reg</td>\n",
       "      <td>Lvl</td>\n",
       "      <td>AllPub</td>\n",
       "      <td>...</td>\n",
       "      <td>0</td>\n",
       "      <td>NaN</td>\n",
       "      <td>NaN</td>\n",
       "      <td>NaN</td>\n",
       "      <td>0</td>\n",
       "      <td>5</td>\n",
       "      <td>2007</td>\n",
       "      <td>WD</td>\n",
       "      <td>Normal</td>\n",
       "      <td>181500</td>\n",
       "    </tr>\n",
       "    <tr>\n",
       "      <th>2</th>\n",
       "      <td>3</td>\n",
       "      <td>60</td>\n",
       "      <td>RL</td>\n",
       "      <td>68.0</td>\n",
       "      <td>11250</td>\n",
       "      <td>Pave</td>\n",
       "      <td>NaN</td>\n",
       "      <td>IR1</td>\n",
       "      <td>Lvl</td>\n",
       "      <td>AllPub</td>\n",
       "      <td>...</td>\n",
       "      <td>0</td>\n",
       "      <td>NaN</td>\n",
       "      <td>NaN</td>\n",
       "      <td>NaN</td>\n",
       "      <td>0</td>\n",
       "      <td>9</td>\n",
       "      <td>2008</td>\n",
       "      <td>WD</td>\n",
       "      <td>Normal</td>\n",
       "      <td>223500</td>\n",
       "    </tr>\n",
       "    <tr>\n",
       "      <th>3</th>\n",
       "      <td>4</td>\n",
       "      <td>70</td>\n",
       "      <td>RL</td>\n",
       "      <td>60.0</td>\n",
       "      <td>9550</td>\n",
       "      <td>Pave</td>\n",
       "      <td>NaN</td>\n",
       "      <td>IR1</td>\n",
       "      <td>Lvl</td>\n",
       "      <td>AllPub</td>\n",
       "      <td>...</td>\n",
       "      <td>0</td>\n",
       "      <td>NaN</td>\n",
       "      <td>NaN</td>\n",
       "      <td>NaN</td>\n",
       "      <td>0</td>\n",
       "      <td>2</td>\n",
       "      <td>2006</td>\n",
       "      <td>WD</td>\n",
       "      <td>Abnorml</td>\n",
       "      <td>140000</td>\n",
       "    </tr>\n",
       "    <tr>\n",
       "      <th>4</th>\n",
       "      <td>5</td>\n",
       "      <td>60</td>\n",
       "      <td>RL</td>\n",
       "      <td>84.0</td>\n",
       "      <td>14260</td>\n",
       "      <td>Pave</td>\n",
       "      <td>NaN</td>\n",
       "      <td>IR1</td>\n",
       "      <td>Lvl</td>\n",
       "      <td>AllPub</td>\n",
       "      <td>...</td>\n",
       "      <td>0</td>\n",
       "      <td>NaN</td>\n",
       "      <td>NaN</td>\n",
       "      <td>NaN</td>\n",
       "      <td>0</td>\n",
       "      <td>12</td>\n",
       "      <td>2008</td>\n",
       "      <td>WD</td>\n",
       "      <td>Normal</td>\n",
       "      <td>250000</td>\n",
       "    </tr>\n",
       "  </tbody>\n",
       "</table>\n",
       "<p>5 rows × 81 columns</p>\n",
       "</div>"
      ],
      "text/plain": [
       "   Id  MSSubClass MSZoning  LotFrontage  LotArea Street Alley LotShape  \\\n",
       "0   1          60       RL         65.0     8450   Pave   NaN      Reg   \n",
       "1   2          20       RL         80.0     9600   Pave   NaN      Reg   \n",
       "2   3          60       RL         68.0    11250   Pave   NaN      IR1   \n",
       "3   4          70       RL         60.0     9550   Pave   NaN      IR1   \n",
       "4   5          60       RL         84.0    14260   Pave   NaN      IR1   \n",
       "\n",
       "  LandContour Utilities  ... PoolArea PoolQC Fence MiscFeature MiscVal MoSold  \\\n",
       "0         Lvl    AllPub  ...        0    NaN   NaN         NaN       0      2   \n",
       "1         Lvl    AllPub  ...        0    NaN   NaN         NaN       0      5   \n",
       "2         Lvl    AllPub  ...        0    NaN   NaN         NaN       0      9   \n",
       "3         Lvl    AllPub  ...        0    NaN   NaN         NaN       0      2   \n",
       "4         Lvl    AllPub  ...        0    NaN   NaN         NaN       0     12   \n",
       "\n",
       "  YrSold  SaleType  SaleCondition  SalePrice  \n",
       "0   2008        WD         Normal     208500  \n",
       "1   2007        WD         Normal     181500  \n",
       "2   2008        WD         Normal     223500  \n",
       "3   2006        WD        Abnorml     140000  \n",
       "4   2008        WD         Normal     250000  \n",
       "\n",
       "[5 rows x 81 columns]"
      ]
     },
     "execution_count": 517,
     "metadata": {},
     "output_type": "execute_result"
    }
   ],
   "source": [
    "data.head()"
   ]
  },
  {
   "cell_type": "code",
   "execution_count": 518,
   "id": "voluntary-submission",
   "metadata": {},
   "outputs": [
    {
     "data": {
      "text/plain": [
       "0     8450\n",
       "1     9600\n",
       "2    11250\n",
       "3     9550\n",
       "4    14260\n",
       "Name: LotArea, dtype: int64"
      ]
     },
     "execution_count": 518,
     "metadata": {},
     "output_type": "execute_result"
    }
   ],
   "source": [
    "X = data.loc[:,\"LotArea\"]\n",
    "X.head()"
   ]
  },
  {
   "cell_type": "code",
   "execution_count": 519,
   "id": "running-series",
   "metadata": {},
   "outputs": [
    {
     "data": {
      "text/plain": [
       "(1460,)"
      ]
     },
     "execution_count": 519,
     "metadata": {},
     "output_type": "execute_result"
    }
   ],
   "source": [
    "X.shape"
   ]
  },
  {
   "cell_type": "code",
   "execution_count": 520,
   "id": "nervous-witness",
   "metadata": {},
   "outputs": [
    {
     "data": {
      "text/plain": [
       "0    208500\n",
       "1    181500\n",
       "2    223500\n",
       "3    140000\n",
       "4    250000\n",
       "Name: SalePrice, dtype: int64"
      ]
     },
     "execution_count": 520,
     "metadata": {},
     "output_type": "execute_result"
    }
   ],
   "source": [
    "Y = data.iloc[:,-1]\n",
    "Y.head()"
   ]
  },
  {
   "cell_type": "code",
   "execution_count": 521,
   "id": "pediatric-parcel",
   "metadata": {},
   "outputs": [],
   "source": [
    "X_train, X_test, y_train, y_test = train_test_split(X.to_numpy(),Y.to_numpy(),test_size = 0.25)"
   ]
  },
  {
   "cell_type": "code",
   "execution_count": 522,
   "id": "defensive-jason",
   "metadata": {},
   "outputs": [
    {
     "name": "stdout",
     "output_type": "stream",
     "text": [
      "X_train_trans.shape: (1095,)\n",
      "X_test_trans.shape: (365,)\n",
      "y_train.shape: (1095,)\n",
      "y_test.shape: (365,)\n"
     ]
    }
   ],
   "source": [
    "print(\"X_train_trans.shape:\", X_train.shape)\n",
    "print(\"X_test_trans.shape:\", X_test.shape)\n",
    "print(\"y_train.shape:\", y_train.shape)\n",
    "print(\"y_test.shape:\", y_test.shape)"
   ]
  },
  {
   "cell_type": "code",
   "execution_count": 523,
   "id": "satellite-ordering",
   "metadata": {},
   "outputs": [],
   "source": [
    "from sklearn.preprocessing import StandardScaler\n",
    "scaler = StandardScaler()\n",
    "scaler.fit(X_train.reshape(-1,1))\n",
    "\n",
    "X_train_trans = scaler.transform(X_train.reshape(-1,1))\n",
    "X_test_trans = scaler.transform(X_test.reshape(-1,1))"
   ]
  },
  {
   "cell_type": "code",
   "execution_count": 524,
   "id": "married-providence",
   "metadata": {},
   "outputs": [],
   "source": [
    "my_model = ScratchLinearRegression(1000,0.02,False,False)"
   ]
  },
  {
   "cell_type": "code",
   "execution_count": 525,
   "id": "incorporated-favorite",
   "metadata": {
    "scrolled": true
   },
   "outputs": [
    {
     "name": "stdout",
     "output_type": "stream",
     "text": [
      "(1095, 1)\n",
      "(1095,)\n",
      "(365, 1)\n",
      "(365,)\n"
     ]
    }
   ],
   "source": [
    "print(X_train_trans.shape)\n",
    "print(y_train.shape)\n",
    "print(X_test_trans.shape)\n",
    "print(y_test.shape)"
   ]
  },
  {
   "cell_type": "code",
   "execution_count": 526,
   "id": "global-teddy",
   "metadata": {
    "scrolled": true
   },
   "outputs": [],
   "source": [
    "my_model.fit(X_train_trans,y_train,X_test_trans,y_test)"
   ]
  },
  {
   "cell_type": "code",
   "execution_count": 527,
   "id": "awful-fetish",
   "metadata": {},
   "outputs": [],
   "source": [
    "y_pred = my_model.predict(X_test_trans)"
   ]
  },
  {
   "cell_type": "code",
   "execution_count": 528,
   "id": "monetary-fellowship",
   "metadata": {},
   "outputs": [
    {
     "name": "stdout",
     "output_type": "stream",
     "text": [
      "Root mean square error 74328.05499681557\n"
     ]
    },
    {
     "data": {
      "image/png": "[encoded data removed]",
      "text/plain": [
       "<Figure size 1152x648 with 1 Axes>"
      ]
     },
     "metadata": {
      "needs_background": "light"
     },
     "output_type": "display_data"
    }
   ],
   "source": [
    "fig = plt.figure(figsize=(16, 9))\n",
    "plt.scatter(X_train_trans, y_train, label='train',color='Red')\n",
    "plt.plot(X_test_trans, y_pred, label='predict',color='Green')\n",
    "plt.scatter(X_test_trans, y_test, label='label')\n",
    "plt.legend()\n",
    "\n",
    "mse = MSE(y_pred,y_test)\n",
    "print(\"Root mean square error\",np.sqrt(mse));"
   ]
  },
  {
   "cell_type": "markdown",
   "id": "green-civilian",
   "metadata": {},
   "source": [
    "## Problem 7: Learning curve plot\n",
    "Create and execute a function that displays the learning curve. Look at the graph to see if the loss is down properly.\n",
    "\n",
    "\n",
    "In the template of the linear regression class, the loss is recorded in self.loss and self.val_loss, so please use this for input."
   ]
  },
  {
   "cell_type": "code",
   "execution_count": 529,
   "id": "aquatic-consistency",
   "metadata": {},
   "outputs": [
    {
     "data": {
      "image/png": "[encoded data removed]",
      "text/plain": [
       "<Figure size 1152x648 with 1 Axes>"
      ]
     },
     "metadata": {
      "needs_background": "light"
     },
     "output_type": "display_data"
    }
   ],
   "source": [
    "fig = plt.figure(figsize=(16,9))\n",
    "plt.plot(np.arange(start=1, stop=1001, step=1),np.array(my_model.loss),label='Loss')\n",
    "plt.plot(np.arange(start=1, stop=1001, step=1),np.array(my_model.val_loss),label='Evaluation Loss',)\n",
    "_ = plt.legend()"
   ]
  },
  {
   "cell_type": "markdown",
   "id": "expired-sauce",
   "metadata": {},
   "source": [
    "## Problem 8: (Advance task) Removal of bias term\n",
    "Verify how learning changes when the bias term $\\theta_0$ is removed. Also, consider and investigate the role of bias terms in linear regression models."
   ]
  },
  {
   "cell_type": "code",
   "execution_count": 530,
   "id": "powered-investor",
   "metadata": {},
   "outputs": [],
   "source": [
    "new_model = ScratchLinearRegression(1000,0.02,True,False)"
   ]
  },
  {
   "cell_type": "code",
   "execution_count": 531,
   "id": "cooked-paragraph",
   "metadata": {},
   "outputs": [],
   "source": [
    "new_model.fit(X_train_trans,y_train,X_test_trans,y_test)"
   ]
  },
  {
   "cell_type": "code",
   "execution_count": 532,
   "id": "fitted-scheme",
   "metadata": {},
   "outputs": [],
   "source": [
    "y_pred = new_model.predict(X_test_trans)"
   ]
  },
  {
   "cell_type": "code",
   "execution_count": 533,
   "id": "mental-flesh",
   "metadata": {},
   "outputs": [
    {
     "name": "stdout",
     "output_type": "stream",
     "text": [
      "Root mean square error 74328.05499681557\n"
     ]
    },
    {
     "data": {
      "image/png": "[encoded data removed]",
      "text/plain": [
       "<Figure size 1152x648 with 1 Axes>"
      ]
     },
     "metadata": {
      "needs_background": "light"
     },
     "output_type": "display_data"
    }
   ],
   "source": [
    "fig = plt.figure(figsize=(16, 9))\n",
    "plt.scatter(X_train_trans, y_train, label='train',color='Red')\n",
    "plt.plot(X_test_trans, y_pred, label='predict',color='Green')\n",
    "plt.scatter(X_test_trans, y_test, label='label')\n",
    "plt.legend()\n",
    "\n",
    "# mse = my_model.MSE(y_pred)\n",
    "# mse = (1/len(y_pred))* np.sum(np.square(y_pred - y_test))\n",
    "mse = MSE(y_pred,y_test)\n",
    "print(\"Root mean square error\",np.sqrt(mse));"
   ]
  },
  {
   "cell_type": "code",
   "execution_count": 534,
   "id": "subsequent-equality",
   "metadata": {},
   "outputs": [
    {
     "data": {
      "image/png": "[encoded data removed]",
      "text/plain": [
       "<Figure size 1152x648 with 1 Axes>"
      ]
     },
     "metadata": {
      "needs_background": "light"
     },
     "output_type": "display_data"
    }
   ],
   "source": [
    "fig = plt.figure(figsize=(16,9))\n",
    "plt.plot(np.arange(start=1, stop=1001, step=1),np.array(new_model.loss),label='Loss')\n",
    "plt.plot(np.arange(start=1, stop=1001, step=1),np.array(new_model.val_loss),label='Evaluation Loss',)\n",
    "_ = plt.legend()"
   ]
  },
  {
   "cell_type": "markdown",
   "id": "trained-belfast",
   "metadata": {},
   "source": [
    "In linear regression, bias help to increase accuracy result for the models"
   ]
  },
  {
   "cell_type": "markdown",
   "id": "demanding-saturn",
   "metadata": {},
   "source": [
    "## Problem 9: (Advance task) Multidimensional feature quantity\n",
    "Please verify how the learning result changes when the square or cube of the feature is used for input."
   ]
  },
  {
   "cell_type": "code",
   "execution_count": 535,
   "id": "generous-pantyhose",
   "metadata": {
    "scrolled": true
   },
   "outputs": [
    {
     "data": {
      "text/html": [
       "<div>\n",
       "<style scoped>\n",
       "    .dataframe tbody tr th:only-of-type {\n",
       "        vertical-align: middle;\n",
       "    }\n",
       "\n",
       "    .dataframe tbody tr th {\n",
       "        vertical-align: top;\n",
       "    }\n",
       "\n",
       "    .dataframe thead th {\n",
       "        text-align: right;\n",
       "    }\n",
       "</style>\n",
       "<table border=\"1\" class=\"dataframe\">\n",
       "  <thead>\n",
       "    <tr style=\"text-align: right;\">\n",
       "      <th></th>\n",
       "      <th>YearBuilt</th>\n",
       "      <th>LotArea</th>\n",
       "      <th>MoSold</th>\n",
       "    </tr>\n",
       "  </thead>\n",
       "  <tbody>\n",
       "    <tr>\n",
       "      <th>0</th>\n",
       "      <td>2003</td>\n",
       "      <td>8450</td>\n",
       "      <td>2</td>\n",
       "    </tr>\n",
       "    <tr>\n",
       "      <th>1</th>\n",
       "      <td>1976</td>\n",
       "      <td>9600</td>\n",
       "      <td>5</td>\n",
       "    </tr>\n",
       "    <tr>\n",
       "      <th>2</th>\n",
       "      <td>2001</td>\n",
       "      <td>11250</td>\n",
       "      <td>9</td>\n",
       "    </tr>\n",
       "    <tr>\n",
       "      <th>3</th>\n",
       "      <td>1915</td>\n",
       "      <td>9550</td>\n",
       "      <td>2</td>\n",
       "    </tr>\n",
       "    <tr>\n",
       "      <th>4</th>\n",
       "      <td>2000</td>\n",
       "      <td>14260</td>\n",
       "      <td>12</td>\n",
       "    </tr>\n",
       "  </tbody>\n",
       "</table>\n",
       "</div>"
      ],
      "text/plain": [
       "   YearBuilt  LotArea  MoSold\n",
       "0       2003     8450       2\n",
       "1       1976     9600       5\n",
       "2       2001    11250       9\n",
       "3       1915     9550       2\n",
       "4       2000    14260      12"
      ]
     },
     "execution_count": 535,
     "metadata": {},
     "output_type": "execute_result"
    }
   ],
   "source": [
    "X = data[['YearBuilt', 'LotArea', 'MoSold']]\n",
    "X.head()"
   ]
  },
  {
   "cell_type": "code",
   "execution_count": 536,
   "id": "technological-bundle",
   "metadata": {},
   "outputs": [],
   "source": [
    "X = X.values"
   ]
  },
  {
   "cell_type": "code",
   "execution_count": 537,
   "id": "finished-holder",
   "metadata": {},
   "outputs": [],
   "source": [
    "X_train, X_test, y_train, y_test = train_test_split(X,Y,test_size=0.25,random_state=2)"
   ]
  },
  {
   "cell_type": "code",
   "execution_count": 538,
   "id": "dominican-machinery",
   "metadata": {},
   "outputs": [
    {
     "name": "stdout",
     "output_type": "stream",
     "text": [
      "X_train.shape: (1095, 3)\n",
      "X_test.shape: (365, 3)\n",
      "y_train.shape: (1095,)\n",
      "y_test.shape: (365,)\n"
     ]
    }
   ],
   "source": [
    "print(\"X_train.shape:\", X_train.shape)\n",
    "print(\"X_test.shape:\", X_test.shape)\n",
    "print(\"y_train.shape:\", y_train.shape)\n",
    "print(\"y_test.shape:\", y_test.shape)"
   ]
  },
  {
   "cell_type": "code",
   "execution_count": 539,
   "id": "adjustable-topic",
   "metadata": {},
   "outputs": [],
   "source": [
    "from sklearn.preprocessing import StandardScaler\n",
    "scaler = StandardScaler()\n",
    "scaler.fit(X_train)\n",
    "\n",
    "X_train_trans = scaler.transform(X_train)\n",
    "X_test_trans = scaler.transform(X_test)"
   ]
  },
  {
   "cell_type": "code",
   "execution_count": 540,
   "id": "diverse-domestic",
   "metadata": {
    "scrolled": true
   },
   "outputs": [
    {
     "name": "stdout",
     "output_type": "stream",
     "text": [
      "X_train_trans.shape: (1095, 3)\n",
      "X_test_trans.shape: (365, 3)\n",
      "y_train.shape: (1095,)\n",
      "y_test.shape: (365,)\n"
     ]
    }
   ],
   "source": [
    "print(\"X_train_trans.shape:\", X_train_trans.shape)\n",
    "print(\"X_test_trans.shape:\", X_test_trans.shape)\n",
    "print(\"y_train.shape:\", y_train.shape)\n",
    "print(\"y_test.shape:\", y_test.shape)\n"
   ]
  },
  {
   "cell_type": "code",
   "execution_count": 541,
   "id": "american-throw",
   "metadata": {},
   "outputs": [],
   "source": [
    "multi_model = ScratchLinearRegression(1000,0.02,False,False)"
   ]
  },
  {
   "cell_type": "code",
   "execution_count": 542,
   "id": "geological-merit",
   "metadata": {
    "scrolled": true
   },
   "outputs": [],
   "source": [
    "multi_model.fit(X_train_trans,y_train,X_test_trans,y_test)"
   ]
  },
  {
   "cell_type": "code",
   "execution_count": 543,
   "id": "comfortable-killer",
   "metadata": {},
   "outputs": [
    {
     "name": "stdout",
     "output_type": "stream",
     "text": [
      "Mean square error 5524659759.60964\n",
      "root mean square error 74328.05499681557\n"
     ]
    }
   ],
   "source": [
    "y_pred = multi_model.predict(X_test_trans)\n",
    "mse = MSE(y_pred,y_test)\n",
    "print(\"Mean square error\",mse)\n",
    "print(\"root mean square error\",np.sqrt(mse))"
   ]
  },
  {
   "cell_type": "code",
   "execution_count": 544,
   "id": "variable-inflation",
   "metadata": {},
   "outputs": [
    {
     "data": {
      "image/png": "[encoded data removed]",
      "text/plain": [
       "<Figure size 1152x648 with 1 Axes>"
      ]
     },
     "metadata": {
      "needs_background": "light"
     },
     "output_type": "display_data"
    }
   ],
   "source": [
    "fig = plt.figure(figsize=(16,9))\n",
    "plt.plot(np.arange(start=1, stop=1001, step=1),np.array(multi_model.loss),label='Loss')\n",
    "plt.plot(np.arange(start=1, stop=1001, step=1),np.array(multi_model.val_loss),label='Evaluation Loss',)\n",
    "_ = plt.legend()"
   ]
  },
  {
   "cell_type": "markdown",
   "id": "complete-soviet",
   "metadata": {},
   "source": [
    "## Problem 10: (Advance task) Derivation of update formula\n",
    "The update formula for the steepest descent method was as follows. Explain the process by which this equation is derived.\n",
    "\n",
    "<center> $\\theta{j} = \\theta_{j} -  α \\frac{1}{m} \\sum_{1}^{m} {[h_{\\theta}(x^{(i)}) - y^{(i)} ) x_{j}^{(i)}]}$ </center>\n",
    "\n",
    "\n",
    "You can start the explanation with the following formula.\n",
    "\n",
    "<center> $θ_{j} = \\theta_{j} - \\frac{\\partial}{\\partial\\theta_{j}} J(\\theta) $ </center>\n",
    "\n",
    "\n",
    "Objective function (loss function) J(θ)Is the following formula.\n",
    "\n",
    "<center>$ J(\\theta) = \\frac{1}{2m} \\sum_{1}^{m} {(h_{\\theta}(x^{(i)}) - y^{(i)} )^{2}}$ </center>"
   ]
  },
  {
   "cell_type": "markdown",
   "id": "military-jewelry",
   "metadata": {},
   "source": [
    "### Explanation\n",
    "From the formular $J(\\theta) = \\frac{1}{2m} \\sum {(h_{\\theta}(x^{(i)}) - y^{(i)} )^{2}}$ \n",
    "\n",
    "I got\n",
    "$J(\\theta) = \\frac{1}{n} || y - \\hat y ||^{2}$\n",
    "\n",
    "$= \\frac{1}{m} ( y - \\hat y )^{T} ( y - \\hat y )$\n",
    "\n",
    "$= \\frac{1}{m} ( y - xw )^{T} ( y - xw )$\n",
    "\n",
    "$= \\frac{1}{m} (y^{T}y - 2w^{T}x^{T}y - w^{T}x^{T}xw)$\n",
    "\n",
    "$L = \\frac{J}{2}$ = $\\frac{1}{2m} (y^{T}y - 2w^{T}x^{T}y - w^{T}x^{T}xw)$\n",
    "\n",
    "Differentiate to ***L*** to ***$\\theta$***\n",
    "\n",
    "$\\frac{\\partial L}{\\partial\\theta} = \\frac{\\partial}{\\partial\\theta} (y^{T}y - 2\\theta^{T}x^{T}y - \\theta^{T}x^{T}x\\theta)$\n",
    "\n",
    "$= \\frac{1}{2m} ( - 2x^{T}y - 2x^{T}x\\theta )$\n",
    "\n",
    "$= \\frac{1}{m} x^{T} (y - x\\theta)$\n",
    "\n",
    "$ = \\frac{1}{m} x^{T}(y - \\hat y)$\n",
    "\n",
    "#### Update theta\n",
    "\n",
    "$\\theta_{j} = \\theta_{j} -  \\frac{1}{m} \\sum_{1}^{m} (y_{i} - \\hat y_{i}) x_{ji}$\n",
    "\n",
    "#### Multiply with learning rate\n",
    "\n",
    "$\\theta_{j} = \\theta_{j} -   α\\frac{1}{m} \\sum_{1}^{m} (y_{i} - \\hat y_{i}) x_{ji}$ or  $\\theta_{j} = \\theta_{j} -  α \\frac{1}{m} \\sum _{1}^{m} {[h_{\\theta}(x^{(i)}) - y^{(i)} ) x_{j}^{(i)}]}$"
   ]
  },
  {
   "cell_type": "markdown",
   "id": "joined-assurance",
   "metadata": {},
   "source": [
    "## Problem 11: (Advance task) Problem of local optimum solution\n",
    "The steepest descent method generally has the problem of locally optimal solutions. However, with linear regression, you can always find the optimal solution if you continue learning. Please explain it using mathematical formulas and graphs for some reason."
   ]
  },
  {
   "cell_type": "markdown",
   "id": "contrary-henry",
   "metadata": {},
   "source": [
    "### Explanation\n",
    "The cost function of Linear Regression: <center>$ J(\\theta) = \\frac{1}{2m} \\sum_{1}^{m} {(h_{\\theta}(x^{(i)}) - y^{(i)} )^{2}}$ </center>\n",
    "\n",
    "This is a quadratic function. The quadratic function is proved to be convex so it ensures that the minimum exist and it will reach the global minimum with correct learning rate. Here is the shape of quadratic function and how it find the global minimal.\n",
    "\n",
    "![alt text](convex.png \"Convex\")"
   ]
  }
 ],
 "metadata": {
  "kernelspec": {
   "display_name": "Python 3",
   "language": "python",
   "name": "python3"
  },
  "language_info": {
   "codemirror_mode": {
    "name": "ipython",
    "version": 3
   },
   "file_extension": ".py",
   "mimetype": "text/x-python",
   "name": "python",
   "nbconvert_exporter": "python",
   "pygments_lexer": "ipython3",
   "version": "3.7.10"
  }
 },
 "nbformat": 4,
 "nbformat_minor": 5
}
