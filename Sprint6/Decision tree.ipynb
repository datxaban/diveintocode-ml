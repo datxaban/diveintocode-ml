{
 "cells": [
  {
   "cell_type": "markdown",
   "id": "thorough-civilian",
   "metadata": {},
   "source": [
    "# 1. About this Sprint\n",
    "\n",
    "## The purpose of this Sprint\n",
    "\n",
    "* Understanding decision trees through scratches\n",
    "* Get used to implementing complex algorithms\n",
    "\n",
    "## How to learn\n",
    "\n",
    "After implementing the decision tree with scratch, we will learn and verify it.\n",
    "\n",
    "# 2. What is decision tree learning?\n",
    "\n",
    "Decision tree learning is a machine learning method that creates a graph of a tree structure called a decision tree. In the field of machine learning, learning methods are also simply called \"decision trees.\"\n",
    "\n",
    "\n",
    "It can be used for both classification and regression, and in the case of classification, multi-value classification of 3 or more classes is possible. Only the basic classifications are dealt with here.\n",
    "\n",
    "## What is a decision tree?\n",
    "\n",
    "The decision tree is to repeat conditional branching on the data represented by the attribute / value pair {attribute 1: value 1, attribute 2: value 2, attribute 3: value 3, ..., attribute n: value n}. A tree-structured graph that can be assigned to a class.\n",
    "\n",
    "\n",
    "The following example is a graph assigned to the holding and canceling classes according to the attribute value of the venue temperature. You can classify by a decision tree by one conditional branch, \"whether the value of the attribute of the venue temperature is 35 or more\". For example, if 36 degrees is input to this decision tree, the output (judgment) of cancellation can be made.\n",
    "\n",
    "![decision tree](dt.png)\n",
    "\n",
    "In the field of machine learning, \"attributes and values\" are \"feature name and feature value\". From now on, it is simply called a feature quantity.\n",
    "\n",
    "## Various terms\n",
    "\n",
    "Let's look at some important terms in the decision tree with a slightly more complicated example. Let's consider the case of classifying whether an event is held or canceled by three types of features: \"rainfall\", \"whether indoors\", and \"wind strength\". By learning the training data, the following decision tree can be created.\n",
    "\n",
    "![decision tree](dt1.png)\n",
    "\n",
    "Each circled one is called a node. You can think of a parent-child relationship for a node. For example, the node (0) is called the parent node of the nodes (1) (2) (3). Conversely, the nodes (1), (2), and (3) are called child nodes of the node (0).​\n",
    "\n",
    "\n",
    "The top (0) is called the root node, and the node that represents the classification result such as (1) (4) (5) (7) (8) (9) at the end is called the leaf node.​\n",
    "\n",
    "\n",
    "The conditional arrow is called the edge.​ ​The depth is the number of edges from a node to the root node. The depth of (3) is 1, the depth of (6) is 2, the depth of (9) is 3, and so on. The maximum depth of this decision tree is 3.\n",
    "\n",
    "\n",
    "This is a multi-branch decision tree in which the three nodes (1), (2), and (3) are separated from (0), but in machine learning, the one that is divided into only two is unique. This is to reduce the complexity of learning.\n",
    "\n",
    "## How to make a decision tree\n",
    "\n",
    "There are many ways to learn a decision tree, but we'll scratch one of them.\n",
    "\n",
    "\n",
    "The decision tree created depends on the learning method, hyperparameters, and training data.\n",
    "\n",
    "## Think about estimation\n",
    "\n",
    "Will the event be held in the following cases? Use the decision tree to make a decision.\n",
    "\n",
    "| Rain fall\\[mm\\] | Whether indoors | Wind strength \\[m/s\\] |\n",
    "| --- | --- | --- |\n",
    "| 2.5 | 1(indoor) | 5 |\n",
    "\n",
    "The answer is \"hold\". Follow in the order of the red line below.\n",
    "![decision tree](dt2.png)\n",
    "This is the operation of estimation by the decision tree.\n",
    "\n",
    "## Features that can be handled\n",
    "\n",
    "The decision tree can theoretically handle not only quantitative variables but also categorical variables. However, the scikit-learn implementation only supports quantitative variables, so create a scratch implementation that way. In the above example, \"indoor and outdoor\" in \"Venue type\" is a categorical variable, but it can be handled by making it a quantitative variable such as \"0 and 1\" in \"whether indoor or not\".\n",
    "\n",
    "# 3. Decision tree scratch\n",
    "\n",
    "We will create a class of decision trees for classification by scratching. We will implement the algorithm using only the minimum library such as NumPy.\n",
    "\n",
    "\n",
    "​In the learning of the decision tree, a hyperparameter called the (maximum) depth that indicates how many times the conditional branch is repeated appears, but the implementation of depth 1 is an essential assignment. Those with a depth of 2 or more are considered as advanced assignment.\n",
    "\n",
    "\n",
    "There are various learning methods, but here we will implement based on the CART method, which is also used in scikit-learn.​ ​This method only splits the branch into two to reduce the complexity of learning.\n",
    "\n",
    "\n",
    "The template is prepared below. Add some code to this ScratchDecesionTreeClassifierDepth1 class.\n",
    "\n",
    "<<**Model**>>\n",
    "```\n",
    "class ScratchDecesionTreeClassifierDepth1():\n",
    "    \"\"\"\n",
    "    Depth 1 decision tree classifier scratch implementation\n",
    "    Parameters\n",
    "    ----------\n",
    "    verbose : bool\n",
    "      学習過程をoutputする場合はTrue\n",
    "    \"\"\"\n",
    "    def __init__(self, verbose=False):\n",
    "        # Record hyperparameters as attributes\n",
    "        self.verbose = verbose\n",
    "    def fit(self, X, y):\n",
    "        \"\"\"\n",
    "        Learn the decision tree classifier\n",
    "        Parameters\n",
    "        ----------\n",
    "        X : The following forms of ndarray, shape (n_samples, n_features)\n",
    "            Features of training data\n",
    "        y : The following form of ndarray, shape (n_samples,)\n",
    "            Correct answer value of training data\n",
    "        \"\"\"\n",
    "        if self.verbose:\n",
    "            #verboseをTrueにした際は学習過程をoutput\n",
    "            print()\n",
    "        pass\n",
    "    def predict(self, X):\n",
    "        \"\"\"\n",
    "        Estimate the label using a decision tree classifier\n",
    "        \"\"\"\n",
    "        pass\n",
    "        return\n",
    "```\n",
    "\n",
    "## Find the conditions for division by learning\n",
    "By learning, we ask under what conditions the nodes can be divided well.\n",
    "\n",
    "\n",
    "Calculate the Gini Impureness and Information Gain values for the node to determine if it is well separated."
   ]
  },
  {
   "cell_type": "markdown",
   "id": "australian-claim",
   "metadata": {},
   "source": [
    "## Libraries"
   ]
  },
  {
   "cell_type": "code",
   "execution_count": 2,
   "id": "seventh-strap",
   "metadata": {},
   "outputs": [],
   "source": [
    "import numpy as np"
   ]
  },
  {
   "cell_type": "code",
   "execution_count": 311,
   "id": "appropriate-corrections",
   "metadata": {},
   "outputs": [],
   "source": [
    "class DecisionTreeRec():\n",
    "    def __init__(self,max_depth,min_size):\n",
    "        self.max_depth = max_depth\n",
    "        self.min_size = min_size\n",
    "    def fit(self,X,y):\n",
    "        train = np.concatenate([X,np.expand_dims(y,axis = 1)],axis = 1)\n",
    "        self.root = self.get_split(train)\n",
    "#         print(self.root)\n",
    "        self.split(self.root,self.max_depth,self.min_size,1)\n",
    "#         print(self.root)\n",
    "    def predict(self,X):\n",
    "        predictions = []\n",
    "        for x in X:\n",
    "            if x[self.root['index']] < self.root['value']:\n",
    "                if isinstance(self.root['left'], dict):\n",
    "                    predictions.append(self.predict_recur(self.root['left'], x))\n",
    "                else:\n",
    "                    predictions.append(self.root['left'])\n",
    "            else:\n",
    "                if isinstance(self.root['right'], dict):\n",
    "                    predictions.append(self.predict_recur(self.root['right'], x))\n",
    "                else:\n",
    "                    predictions.append(self.root['right'])\n",
    "        return np.array(predictions)\n",
    "    def predict_recur(self,node,X):\n",
    "        if X[node['index']] < node['value']:\n",
    "            if isinstance(node['left'], dict):\n",
    "                return self.predict_recur(node['left'], X)\n",
    "            else:\n",
    "                return node['left']\n",
    "        else:\n",
    "            if isinstance(node['right'], dict):\n",
    "                return self.predict_recur(node['right'], X)\n",
    "            else:\n",
    "                return node['right']\n",
    "    def test_split(self,index,value,dataset):\n",
    "        left, right = list(), list()\n",
    "        for row in dataset:\n",
    "            if row[index] < value:\n",
    "                left.append(row)\n",
    "            else:\n",
    "                right.append(row)\n",
    "        return left, right\n",
    "    def gini_index(self,groups,classes):\n",
    "        # count all samples at split point\n",
    "        n_instances = float(sum([len(group) for group in groups]))\n",
    "        # sum weighted Gini index for each group\n",
    "        gini = 0.0\n",
    "        for group in groups:\n",
    "            size = float(len(group))\n",
    "            # avoid divide by zero\n",
    "            if size == 0:\n",
    "                continue\n",
    "            score = 0.0\n",
    "            # score the group based on the score for each class\n",
    "            for class_val in classes:\n",
    "                p = [row[-1] for row in group].count(class_val) / size\n",
    "                score += p * p\n",
    "            # weight the group score by its relative size\n",
    "            gini += (1.0 - score) * (size / n_instances)\n",
    "        return gini\n",
    "    def get_split(self,dataset):\n",
    "        class_values = list(set(row[-1] for row in dataset))\n",
    "        b_index, b_value, b_score, b_groups = 999, 999, 999, None\n",
    "        for index in range(len(dataset[0])-1):\n",
    "            for row in dataset:\n",
    "                groups = self.test_split(index, row[index], dataset)\n",
    "                gini = self.gini_index(groups, class_values)\n",
    "                if gini < b_score:\n",
    "                    b_index, b_value, b_score, b_groups = index, row[index], gini, groups\n",
    "        return {'index':b_index, 'value':b_value, 'groups':b_groups}\n",
    "    def to_terminal(self,group):\n",
    "        outcomes = [row[-1] for row in group]\n",
    "        return max(set(outcomes), key=outcomes.count)\n",
    "    def split(self,node,max_depth,min_size,depth):\n",
    "        left, right = node['groups']\n",
    "        del(node['groups'])\n",
    "        # check for a no split\n",
    "        if not left or not right:\n",
    "            node['left'] = node['right'] = self.to_terminal(left + right)\n",
    "            return\n",
    "        # check for max depth\n",
    "        if depth >= max_depth:\n",
    "            node['left'], node['right'] = self.to_terminal(left), self.to_terminal(right)\n",
    "            return\n",
    "        # process left child\n",
    "        if len(left) <= min_size:\n",
    "            node['left'] = self.to_terminal(left)\n",
    "        else:\n",
    "            node['left'] = self.get_split(left)\n",
    "            self.split(node['left'], max_depth, min_size, depth+1)\n",
    "        # process right child\n",
    "        if len(right) <= min_size:\n",
    "            node['right'] = self.to_terminal(right)\n",
    "        else:\n",
    "            node['right'] = self.get_split(right)\n",
    "            self.split(node['right'], max_depth, min_size, depth+1)\n",
    "    def print_tree(self,depth=0):\n",
    "        if isinstance(self.root, dict):\n",
    "            print('%s[X%d < %.3f]' % ((depth*' ', (self.root['index']+1), self.root['value'])))\n",
    "            self.print_tree_rec(self.root['left'], depth+1)\n",
    "            self.print_tree_rec(self.root['right'], depth+1)\n",
    "        else:\n",
    "            print('%s[%s]' % ((depth*' ', self.root)))\n",
    "    def print_tree_rec(self,node,depth):\n",
    "        if isinstance(node, dict):\n",
    "            print('%s[X%d < %.3f]' % ((depth*' ', (node['index']+1), node['value'])))\n",
    "            self.print_tree_rec(node['left'], depth+1)\n",
    "            self.print_tree_rec(node['right'], depth+1)\n",
    "        else:\n",
    "            print('%s[%s]' % ((depth*' ', node)))\n",
    "        \n",
    "    "
   ]
  },
  {
   "cell_type": "markdown",
   "id": "threatened-breast",
   "metadata": {},
   "source": [
    "## Problem 1: Function for finding impureness\n",
    "Create a function to calculate the Gini impurity​​ ​of a node. For node t, the Gini impurity I(t) can be obtained by the following formula The more mixed the classes are, the higher the Gini impurity.\n",
    "  \n",
    "<center> $I(t) = 1 - \\sum_{i=1}^{K} P^{2}(C_i|t) = 1 - \\sum_{i=1}^{K} (\\frac{N_{t,i}}{N_{t,all}}) ^2$ </center>\n",
    "\n",
    "$t$: Index of nodes \\\n",
    "$i$: Index of classes \\\n",
    "$K$: Number of classes \\\n",
    "$C_i$: The i-th class \\\n",
    "$P(C_i|t)$: Proportion of C_i at the t-th node \\\n",
    "$N_{t,i}$: Number of samples belonging to the i-th class of the t-th node \\\n",
    "$N_{t,all}$: Total number of samples at the t-th node\n",
    "\n",
    "First, make a simple example and compare the results of the manual calculation with the function.\n",
    "\n",
    "<<**Example**>>\n",
    "* Class 1: Number of samples 15, Class 2: Number of samples 15 → Gini impure 0.500\n",
    "* Class 1: Number of samples 15, Class 2: Number of samples 15, Class 3: Number of samples 15 → Gini impure 0.667\n",
    "* Class 1: Number of samples 18, Class 2: Number of samples 12 → Gini impure 0.480\n",
    "* Class 1: Number of samples 30, Class 2: Number of samples 0 → Gini impure 0.000"
   ]
  },
  {
   "cell_type": "markdown",
   "id": "manual-clone",
   "metadata": {},
   "source": [
    "## Problem 2: Function for finding information gain\n",
    "\n",
    "Next, create a function to calculate the **information gain** between the nodes. Gini Impurity **I(t)** created in Problem 1 **IG**,\n",
    "can be found by the following formula. The better the separation, the greater the information gain.\n",
    "\n",
    "Since there are only two branches here, the branch destination is called the \"left node / right node\".\n",
    "\n",
    "<center> $ IG(p) = I(p) - \\frac{N_{left,all}}{N_{p,all}} I(left) - \\frac{N_{right,all}}{N_{p,all}} I(right) $</center>\n",
    "\n",
    "$p$: Index indicating the parent node \\\n",
    "**left**: Index showing the left-hand node \\\n",
    "**right**: Index showing the nodes on the right \\\n",
    "\n",
    "First, make a simple example and compare the results of the manual calculation with the function.\n",
    "\n",
    "<<**Example**>>\n",
    "\n",
    "Left node class 1: Number of samples 10, Left node class 2: Number of samples 30, Right node class 1: Number of samples 20, Right node class 2: Number of samples 5 → Information gain 0.143"
   ]
  },
  {
   "cell_type": "markdown",
   "id": "designing-benefit",
   "metadata": {},
   "source": [
    "## Problem 3: Learning\n",
    "Write the code to split the space and generate a graph of the decision tree. Since it is a decision tree with a depth of 1, we will divide it only once. Generating a graph here means finding which feature quantity is more than how many as a condition for one division.\n",
    "\n",
    "\n",
    "All combinations of training data are divided, and the division that maximizes the information gain between nodes is recorded as the division criterion for that node.\n",
    "\n",
    "\n",
    "A node with zero impureness that does not mix classes, or a node with a specified depth is a **leaf node**. A class is recorded in the leaf node, and this is used as the class to be classified at the time of estimation. If the classes are not mixed, record the class as it is, and if it is mixed, decide by majority vote.\n",
    "\n",
    "\n",
    "<< **How to take a combination** >>\n",
    "\n",
    "\n",
    "The simplest way to take all combinations is to use the value of each feature as a threshold value for division. Use this method for this scratch on one end.\n",
    "\n",
    "\n",
    "Another method is to set an intermediate value as the threshold, and scikit-learn uses this method.\n",
    "\n",
    "\n",
    "<< **Supplement** >>\n",
    "\n",
    "\n",
    "The function for calculating the information gain in Problem 2 is not suitable for use in Problem 3, as it is not possible to calculate the impurity of the parent node \n",
    "$I(p)$\n",
    "is fixed, the same result can be obtained by simply summing the impurity of the left and right nodes. However, here the implementation should take into account the parent node and calculate the information gain.\n",
    "\n"
   ]
  },
  {
   "cell_type": "markdown",
   "id": "extreme-argument",
   "metadata": {},
   "source": [
    "## Problem 4: Estimate\n",
    "Please implement the estimation mechanism. Add it to the predict method included in the template of the ScratchDecesionTreeClassifierDepth1 class.\n",
    "\n",
    "\n",
    "Judge the value of the input data under the learned conditions and see which leaf node is reached. Since the class is recorded in the leaf node, this is the estimate.\n",
    "\n"
   ]
  },
  {
   "cell_type": "markdown",
   "id": "opened-girlfriend",
   "metadata": {},
   "source": [
    "# 4. Verification\n",
    "\n",
    "## Problem 5: Learning and estimation\n",
    "Learn and estimate the scratch implementation for the binary classification of Simple Dataset 2 prepared in Sprint, an introduction to machine learning scratch.\n",
    "\n",
    "\n",
    "Compare this with the scikit-learn implementation and see if it works correctly.\n",
    "\n",
    "\n",
    "Use scikit-learn for indicator values such as Accuracy, Precision and Recall."
   ]
  },
  {
   "cell_type": "code",
   "execution_count": 266,
   "id": "monetary-right",
   "metadata": {},
   "outputs": [],
   "source": [
    "X = np.array([\n",
    "    [-0.44699 , -2.8073  ],[-1.4621  , -2.4586  ],\n",
    "    [ 0.10645 ,  1.9242  ],[-3.5944  , -4.0112  ],\n",
    "    [-0.9888  ,  4.5718  ],[-3.1625  , -3.9606  ],\n",
    "    [ 0.56421 ,  0.72888 ],[-0.60216 ,  8.4636  ],\n",
    "    [-0.61251 , -0.75345 ],[-0.73535 , -2.2718  ],\n",
    "    [-0.80647 , -2.2135  ],[ 0.86291 ,  2.3946  ],\n",
    "    [-3.1108  ,  0.15394 ],[-2.9362  ,  2.5462  ],\n",
    "    [-0.57242 , -2.9915  ],[ 1.4771  ,  3.4896  ],\n",
    "    [ 0.58619 ,  0.37158 ],[ 0.6017  ,  4.3439  ],\n",
    "    [-2.1086  ,  8.3428  ],[-4.1013  , -4.353   ],\n",
    "    [-1.9948  , -1.3927  ],[ 0.35084 , -0.031994],\n",
    "    [ 0.96765 ,  7.8929  ],[-1.281   , 15.6824  ],\n",
    "    [ 0.96765 , 10.083   ],[ 1.3763  ,  1.3347  ],\n",
    "    [-2.234   , -2.5323  ],[-2.9452  , -1.8219  ],\n",
    "    [ 0.14654 , -0.28733 ],[ 0.5461  ,  5.8245  ],\n",
    "    [-0.65259 ,  9.3444  ],[ 0.59912 ,  5.3524  ],\n",
    "    [ 0.50214 , -0.31818 ],[-3.0603  , -3.6461  ],\n",
    "    [-6.6797  ,  0.67661 ],[-2.353   , -0.72261 ],\n",
    "    [ 1.1319  ,  2.4023  ],[-0.12243 ,  9.0162  ],\n",
    "    [-2.5677  , 13.1779  ],[ 0.057313,  5.4681  ],\n",
    "])\n",
    "y = np.array([0, 0, 0, 0, 0, 0, 0, 0, 0, 0, 0, 0, 0, 0, 0, 0, 0, 0, 0, 0, 1, 1,\n",
    "       1, 1, 1, 1, 1, 1, 1, 1, 1, 1, 1, 1, 1, 1, 1, 1, 1, 1])"
   ]
  },
  {
   "cell_type": "code",
   "execution_count": 267,
   "id": "threaded-marshall",
   "metadata": {},
   "outputs": [
    {
     "name": "stdout",
     "output_type": "stream",
     "text": [
      "X shape (40, 2)\n",
      "Y shape (40,)\n",
      "Train shape (40, 3)\n"
     ]
    }
   ],
   "source": [
    "print(\"X shape\",X.shape)\n",
    "print(\"Y shape\",y.shape)\n",
    "train = np.concatenate([X,np.expand_dims(y,axis = 1)],axis = 1)\n",
    "print(\"Train shape\",train.shape)"
   ]
  },
  {
   "cell_type": "code",
   "execution_count": 312,
   "id": "suburban-precipitation",
   "metadata": {},
   "outputs": [],
   "source": [
    "my_model = DecisionTreeRec(max_depth=1,min_size=1)"
   ]
  },
  {
   "cell_type": "code",
   "execution_count": 313,
   "id": "national-flour",
   "metadata": {},
   "outputs": [],
   "source": [
    "my_model.fit(X,y)"
   ]
  },
  {
   "cell_type": "code",
   "execution_count": 314,
   "id": "beneficial-edwards",
   "metadata": {
    "scrolled": true
   },
   "outputs": [
    {
     "data": {
      "text/plain": [
       "array([0., 0., 0., 0., 0., 0., 0., 1., 0., 0., 0., 0., 0., 0., 0., 0., 0.,\n",
       "       0., 1., 0., 0., 0., 1., 1., 1., 0., 0., 0., 0., 1., 1., 1., 0., 0.,\n",
       "       0., 0., 0., 1., 1., 1.])"
      ]
     },
     "execution_count": 314,
     "metadata": {},
     "output_type": "execute_result"
    }
   ],
   "source": [
    "my_model.predict(X)"
   ]
  },
  {
   "cell_type": "code",
   "execution_count": 315,
   "id": "figured-strength",
   "metadata": {},
   "outputs": [
    {
     "name": "stdout",
     "output_type": "stream",
     "text": [
      "[X2 < 5.352]\n",
      " [0.0]\n",
      " [1.0]\n"
     ]
    }
   ],
   "source": [
    "my_model.print_tree()"
   ]
  },
  {
   "cell_type": "markdown",
   "id": "indirect-right",
   "metadata": {},
   "source": [
    "## Problem 6: Visualization of decision area\n",
    "Visualise the decision area."
   ]
  },
  {
   "cell_type": "code",
   "execution_count": 316,
   "id": "compatible-differential",
   "metadata": {},
   "outputs": [
    {
     "data": {
      "image/png": "[encoded data removed]",
      "text/plain": [
       "<Figure size 432x288 with 1 Axes>"
      ]
     },
     "metadata": {
      "needs_background": "light"
     },
     "output_type": "display_data"
    }
   ],
   "source": [
    "import matplotlib.pyplot as plt\n",
    "from matplotlib.colors import ListedColormap\n",
    "import matplotlib.patches as mpatches\n",
    "def decision_region(X, y, model, step=0.01, title='1 Node Decision Tree', xlabel='xlabel', ylabel='ylabel', target_names=['Class 0', 'Class 1']):\n",
    "    \"\"\"\n",
    "    Draw the determination area of the model that learned binary classification with two-dimensional features.\n",
    "    The background color is drawn from the estimated values of the trained model.\n",
    "    散布図の点はTraining dataまたはValidation dataである。\n",
    "    Parameters\n",
    "    ----------------\n",
    "    X : ndarray, shape(n_samples, 2)\n",
    "        Feature value\n",
    "    y : ndarray, shape(n_samples,)\n",
    "        label\n",
    "    model : object\n",
    "        Insert the installed model of the learned model\n",
    "    step : float, (default : 0.1)\n",
    "        Set the interval to calculate the estimate\n",
    "    title : str\n",
    "        Give the text of the graph Title\n",
    "    xlabel, ylabel : str\n",
    "        Give the text of the axis label\n",
    "    target_names= : list of str\n",
    "        Give a list of legends\n",
    "    \"\"\"\n",
    "    # setting\n",
    "    scatter_color = ['red', 'blue']\n",
    "    contourf_color = ['pink', 'skyblue']\n",
    "    n_class = 2\n",
    "    # pred\n",
    "    mesh_f0, mesh_f1  = np.meshgrid(np.arange(np.min(X[:,0])-0.5, np.max(X[:,0])+0.5, step), np.arange(np.min(X[:,1])-0.5, np.max(X[:,1])+0.5, step))\n",
    "    mesh = np.c_[np.ravel(mesh_f0),np.ravel(mesh_f1)]\n",
    "    y_pred = model.predict(mesh).reshape(mesh_f0.shape)\n",
    "    # plot\n",
    "    plt.title(title)\n",
    "    plt.xlabel(xlabel)\n",
    "    plt.ylabel(ylabel)\n",
    "    plt.contourf(mesh_f0, mesh_f1, y_pred, n_class-1, cmap=ListedColormap(contourf_color))\n",
    "    plt.contour(mesh_f0, mesh_f1, y_pred, n_class-1, colors='y', linewidths=3, alpha=0.5)\n",
    "    for i, target in enumerate(set(y)):\n",
    "        plt.scatter(X[y==target][:, 0], X[y==target][:, 1], s=80, color=scatter_color[i], label=target_names[i], marker='o')\n",
    "    patches = [mpatches.Patch(color=scatter_color[i], label=target_names[i]) for i in range(n_class)]\n",
    "    plt.legend(handles=patches)\n",
    "    plt.legend()\n",
    "    plt.show()\n",
    "\n",
    "decision_region(X,y,my_model)"
   ]
  },
  {
   "cell_type": "markdown",
   "id": "aggregate-reporter",
   "metadata": {},
   "source": [
    "# 5. Deeper decision tree\n",
    "\n",
    "## Problem 7: (Advance assignment) Creation of a decision tree classifier class with a depth of 2\n",
    "\n",
    "Create a decision tree classifier class ScratchDecesionTreeClassifierDepth2 with a depth of 2.\n",
    "\n",
    "\n",
    "Depth 2 means that the space is divided twice.\n",
    "\n",
    "\n",
    "《**Hint**》\n",
    "\n",
    "\n",
    "Treating each node as an instance makes it easier to extend to any depth."
   ]
  },
  {
   "cell_type": "code",
   "execution_count": 317,
   "id": "british-physics",
   "metadata": {},
   "outputs": [],
   "source": [
    "depth_2_model = DecisionTreeRec(max_depth=2,min_size=2)"
   ]
  },
  {
   "cell_type": "code",
   "execution_count": 318,
   "id": "respected-ideal",
   "metadata": {},
   "outputs": [],
   "source": [
    "depth_2_model.fit(X,y)"
   ]
  },
  {
   "cell_type": "code",
   "execution_count": 319,
   "id": "adjustable-venezuela",
   "metadata": {},
   "outputs": [
    {
     "data": {
      "text/plain": [
       "array([0., 0., 0., 0., 0., 0., 0., 1., 0., 0., 0., 0., 0., 0., 0., 0., 0.,\n",
       "       0., 1., 0., 0., 0., 1., 1., 1., 0., 0., 0., 0., 1., 1., 1., 0., 0.,\n",
       "       0., 0., 0., 1., 1., 1.])"
      ]
     },
     "execution_count": 319,
     "metadata": {},
     "output_type": "execute_result"
    }
   ],
   "source": [
    "depth_2_model.predict(X)"
   ]
  },
  {
   "cell_type": "code",
   "execution_count": 320,
   "id": "gentle-express",
   "metadata": {},
   "outputs": [
    {
     "name": "stdout",
     "output_type": "stream",
     "text": [
      "[X2 < 5.352]\n",
      " [X2 < 2.546]\n",
      "  [0.0]\n",
      "  [0.0]\n",
      " [X1 < -0.122]\n",
      "  [1.0]\n",
      "  [1.0]\n"
     ]
    }
   ],
   "source": [
    "depth_2_model.print_tree()"
   ]
  },
  {
   "cell_type": "markdown",
   "id": "recreational-details",
   "metadata": {},
   "source": [
    "## Problem 8: (Advance assignment) Creation of decision tree classifier class with unlimited depth\n",
    "Create a decision tree classifier class ScratchDecesionTreeClassifierDepthInf with unlimited depth.\n",
    "\n",
    "\n",
    "Allow any depth to be specified, otherwise allow all leaf nodes to continue until all Gini impureness is zero."
   ]
  },
  {
   "cell_type": "code",
   "execution_count": 321,
   "id": "neural-probability",
   "metadata": {},
   "outputs": [],
   "source": [
    "depth_inf_model = DecisionTreeRec(max_depth=np.inf,min_size=2)"
   ]
  },
  {
   "cell_type": "code",
   "execution_count": 322,
   "id": "animal-hierarchy",
   "metadata": {},
   "outputs": [],
   "source": [
    "depth_inf_model.fit(X,y)"
   ]
  },
  {
   "cell_type": "code",
   "execution_count": 323,
   "id": "negative-square",
   "metadata": {},
   "outputs": [
    {
     "data": {
      "text/plain": [
       "array([0., 0., 0., 0., 0., 0., 0., 0., 0., 0., 0., 0., 0., 0., 0., 0., 0.,\n",
       "       0., 0., 0., 1., 1., 1., 1., 1., 1., 1., 1., 1., 1., 1., 1., 1., 1.,\n",
       "       1., 1., 1., 1., 1., 1.])"
      ]
     },
     "execution_count": 323,
     "metadata": {},
     "output_type": "execute_result"
    }
   ],
   "source": [
    "depth_inf_model.predict(X)"
   ]
  },
  {
   "cell_type": "code",
   "execution_count": 324,
   "id": "industrial-lesbian",
   "metadata": {},
   "outputs": [
    {
     "name": "stdout",
     "output_type": "stream",
     "text": [
      "[X2 < 5.352]\n",
      " [X2 < 2.546]\n",
      "  [X2 < -1.822]\n",
      "   [X1 < -1.462]\n",
      "    [X1 < -3.060]\n",
      "     [X1 < -3.594]\n",
      "      [0.0]\n",
      "      [0.0]\n",
      "     [1.0]\n",
      "    [X1 < -0.447]\n",
      "     [X1 < -1.462]\n",
      "      [0.0]\n",
      "      [0.0]\n",
      "     [0.0]\n",
      "   [X2 < 0.154]\n",
      "    [X2 < -0.723]\n",
      "     [X1 < -0.613]\n",
      "      [1.0]\n",
      "      [0.0]\n",
      "     [X1 < 0.351]\n",
      "      [1.0]\n",
      "      [1.0]\n",
      "    [X1 < 1.132]\n",
      "     [X1 < -3.111]\n",
      "      [1.0]\n",
      "      [X1 < 0.106]\n",
      "       [0.0]\n",
      "       [X1 < 0.106]\n",
      "        [0.0]\n",
      "        [0.0]\n",
      "     [1.0]\n",
      "  [X1 < -0.989]\n",
      "   [0.0]\n",
      "   [X1 < -0.989]\n",
      "    [0.0]\n",
      "    [0.0]\n",
      " [X1 < -0.122]\n",
      "  [X2 < 9.344]\n",
      "   [0.0]\n",
      "   [X1 < -1.281]\n",
      "    [1.0]\n",
      "    [1.0]\n",
      "  [X1 < 0.968]\n",
      "   [X1 < 0.546]\n",
      "    [1.0]\n",
      "    [1.0]\n",
      "   [1.0]\n"
     ]
    }
   ],
   "source": [
    "depth_inf_model.print_tree()"
   ]
  }
 ],
 "metadata": {
  "kernelspec": {
   "display_name": "Python 3",
   "language": "python",
   "name": "python3"
  },
  "language_info": {
   "codemirror_mode": {
    "name": "ipython",
    "version": 3
   },
   "file_extension": ".py",
   "mimetype": "text/x-python",
   "name": "python",
   "nbconvert_exporter": "python",
   "pygments_lexer": "ipython3",
   "version": "3.7.10"
  }
 },
 "nbformat": 4,
 "nbformat_minor": 5
}
